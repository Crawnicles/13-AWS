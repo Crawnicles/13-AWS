{
 "cells": [
  {
   "cell_type": "markdown",
   "metadata": {},
   "source": [
    "# Clustering Crypto"
   ]
  },
  {
   "cell_type": "code",
   "execution_count": 30,
   "metadata": {},
   "outputs": [],
   "source": [
    "# Initial imports\n",
    "import requests\n",
    "import pandas as pd\n",
    "import matplotlib.pyplot as plt\n",
    "import hvplot.pandas\n",
    "import plotly.express as px\n",
    "from sklearn.preprocessing import StandardScaler, MinMaxScaler\n",
    "from sklearn.decomposition import PCA\n",
    "from sklearn.cluster import KMeans\n",
    "from pathlib import Path\n",
    "import altair as alt"
   ]
  },
  {
   "cell_type": "code",
   "execution_count": 31,
   "metadata": {},
   "outputs": [
    {
     "data": {
      "text/html": [
       "<div>\n",
       "<style scoped>\n",
       "    .dataframe tbody tr th:only-of-type {\n",
       "        vertical-align: middle;\n",
       "    }\n",
       "\n",
       "    .dataframe tbody tr th {\n",
       "        vertical-align: top;\n",
       "    }\n",
       "\n",
       "    .dataframe thead th {\n",
       "        text-align: right;\n",
       "    }\n",
       "</style>\n",
       "<table border=\"1\" class=\"dataframe\">\n",
       "  <thead>\n",
       "    <tr style=\"text-align: right;\">\n",
       "      <th></th>\n",
       "      <th>CoinName</th>\n",
       "      <th>Algorithm</th>\n",
       "      <th>IsTrading</th>\n",
       "      <th>ProofType</th>\n",
       "      <th>TotalCoinsMined</th>\n",
       "      <th>TotalCoinSupply</th>\n",
       "    </tr>\n",
       "  </thead>\n",
       "  <tbody>\n",
       "    <tr>\n",
       "      <th>42</th>\n",
       "      <td>42 Coin</td>\n",
       "      <td>Scrypt</td>\n",
       "      <td>True</td>\n",
       "      <td>PoW/PoS</td>\n",
       "      <td>4.199995e+01</td>\n",
       "      <td>42</td>\n",
       "    </tr>\n",
       "    <tr>\n",
       "      <th>365</th>\n",
       "      <td>365Coin</td>\n",
       "      <td>X11</td>\n",
       "      <td>True</td>\n",
       "      <td>PoW/PoS</td>\n",
       "      <td>NaN</td>\n",
       "      <td>2300000000</td>\n",
       "    </tr>\n",
       "    <tr>\n",
       "      <th>404</th>\n",
       "      <td>404Coin</td>\n",
       "      <td>Scrypt</td>\n",
       "      <td>True</td>\n",
       "      <td>PoW/PoS</td>\n",
       "      <td>1.055185e+09</td>\n",
       "      <td>532000000</td>\n",
       "    </tr>\n",
       "    <tr>\n",
       "      <th>611</th>\n",
       "      <td>SixEleven</td>\n",
       "      <td>SHA-256</td>\n",
       "      <td>True</td>\n",
       "      <td>PoW</td>\n",
       "      <td>NaN</td>\n",
       "      <td>611000</td>\n",
       "    </tr>\n",
       "    <tr>\n",
       "      <th>808</th>\n",
       "      <td>808</td>\n",
       "      <td>SHA-256</td>\n",
       "      <td>True</td>\n",
       "      <td>PoW/PoS</td>\n",
       "      <td>0.000000e+00</td>\n",
       "      <td>0</td>\n",
       "    </tr>\n",
       "    <tr>\n",
       "      <th>1337</th>\n",
       "      <td>EliteCoin</td>\n",
       "      <td>X13</td>\n",
       "      <td>True</td>\n",
       "      <td>PoW/PoS</td>\n",
       "      <td>2.927942e+10</td>\n",
       "      <td>314159265359</td>\n",
       "    </tr>\n",
       "    <tr>\n",
       "      <th>2015</th>\n",
       "      <td>2015 coin</td>\n",
       "      <td>X11</td>\n",
       "      <td>True</td>\n",
       "      <td>PoW/PoS</td>\n",
       "      <td>NaN</td>\n",
       "      <td>0</td>\n",
       "    </tr>\n",
       "    <tr>\n",
       "      <th>BTC</th>\n",
       "      <td>Bitcoin</td>\n",
       "      <td>SHA-256</td>\n",
       "      <td>True</td>\n",
       "      <td>PoW</td>\n",
       "      <td>1.792718e+07</td>\n",
       "      <td>21000000</td>\n",
       "    </tr>\n",
       "    <tr>\n",
       "      <th>ETH</th>\n",
       "      <td>Ethereum</td>\n",
       "      <td>Ethash</td>\n",
       "      <td>True</td>\n",
       "      <td>PoW</td>\n",
       "      <td>1.076842e+08</td>\n",
       "      <td>0</td>\n",
       "    </tr>\n",
       "    <tr>\n",
       "      <th>LTC</th>\n",
       "      <td>Litecoin</td>\n",
       "      <td>Scrypt</td>\n",
       "      <td>True</td>\n",
       "      <td>PoW</td>\n",
       "      <td>6.303924e+07</td>\n",
       "      <td>84000000</td>\n",
       "    </tr>\n",
       "  </tbody>\n",
       "</table>\n",
       "</div>"
      ],
      "text/plain": [
       "       CoinName Algorithm  IsTrading ProofType  TotalCoinsMined  \\\n",
       "42      42 Coin    Scrypt       True   PoW/PoS     4.199995e+01   \n",
       "365     365Coin       X11       True   PoW/PoS              NaN   \n",
       "404     404Coin    Scrypt       True   PoW/PoS     1.055185e+09   \n",
       "611   SixEleven   SHA-256       True       PoW              NaN   \n",
       "808         808   SHA-256       True   PoW/PoS     0.000000e+00   \n",
       "1337  EliteCoin       X13       True   PoW/PoS     2.927942e+10   \n",
       "2015  2015 coin       X11       True   PoW/PoS              NaN   \n",
       "BTC     Bitcoin   SHA-256       True       PoW     1.792718e+07   \n",
       "ETH    Ethereum    Ethash       True       PoW     1.076842e+08   \n",
       "LTC    Litecoin    Scrypt       True       PoW     6.303924e+07   \n",
       "\n",
       "     TotalCoinSupply  \n",
       "42                42  \n",
       "365       2300000000  \n",
       "404        532000000  \n",
       "611           611000  \n",
       "808                0  \n",
       "1337    314159265359  \n",
       "2015               0  \n",
       "BTC         21000000  \n",
       "ETH                0  \n",
       "LTC         84000000  "
      ]
     },
     "execution_count": 31,
     "metadata": {},
     "output_type": "execute_result"
    }
   ],
   "source": [
    "# Load the cryptocurrencies data\n",
    "file_path = Path(\"Resources/crypto_data.csv\")\n",
    "crypto_df = pd.read_csv(file_path, index_col=0)\n",
    "crypto_df.head(10)"
   ]
  },
  {
   "cell_type": "markdown",
   "metadata": {},
   "source": [
    "### Data Preprocessing"
   ]
  },
  {
   "cell_type": "code",
   "execution_count": 32,
   "metadata": {},
   "outputs": [
    {
     "data": {
      "text/html": [
       "<div>\n",
       "<style scoped>\n",
       "    .dataframe tbody tr th:only-of-type {\n",
       "        vertical-align: middle;\n",
       "    }\n",
       "\n",
       "    .dataframe tbody tr th {\n",
       "        vertical-align: top;\n",
       "    }\n",
       "\n",
       "    .dataframe thead th {\n",
       "        text-align: right;\n",
       "    }\n",
       "</style>\n",
       "<table border=\"1\" class=\"dataframe\">\n",
       "  <thead>\n",
       "    <tr style=\"text-align: right;\">\n",
       "      <th></th>\n",
       "      <th>CoinName</th>\n",
       "      <th>Algorithm</th>\n",
       "      <th>IsTrading</th>\n",
       "      <th>ProofType</th>\n",
       "      <th>TotalCoinsMined</th>\n",
       "      <th>TotalCoinSupply</th>\n",
       "    </tr>\n",
       "  </thead>\n",
       "  <tbody>\n",
       "    <tr>\n",
       "      <th>42</th>\n",
       "      <td>42 Coin</td>\n",
       "      <td>Scrypt</td>\n",
       "      <td>True</td>\n",
       "      <td>PoW/PoS</td>\n",
       "      <td>4.199995e+01</td>\n",
       "      <td>42</td>\n",
       "    </tr>\n",
       "    <tr>\n",
       "      <th>365</th>\n",
       "      <td>365Coin</td>\n",
       "      <td>X11</td>\n",
       "      <td>True</td>\n",
       "      <td>PoW/PoS</td>\n",
       "      <td>NaN</td>\n",
       "      <td>2300000000</td>\n",
       "    </tr>\n",
       "    <tr>\n",
       "      <th>404</th>\n",
       "      <td>404Coin</td>\n",
       "      <td>Scrypt</td>\n",
       "      <td>True</td>\n",
       "      <td>PoW/PoS</td>\n",
       "      <td>1.055185e+09</td>\n",
       "      <td>532000000</td>\n",
       "    </tr>\n",
       "    <tr>\n",
       "      <th>611</th>\n",
       "      <td>SixEleven</td>\n",
       "      <td>SHA-256</td>\n",
       "      <td>True</td>\n",
       "      <td>PoW</td>\n",
       "      <td>NaN</td>\n",
       "      <td>611000</td>\n",
       "    </tr>\n",
       "    <tr>\n",
       "      <th>808</th>\n",
       "      <td>808</td>\n",
       "      <td>SHA-256</td>\n",
       "      <td>True</td>\n",
       "      <td>PoW/PoS</td>\n",
       "      <td>0.000000e+00</td>\n",
       "      <td>0</td>\n",
       "    </tr>\n",
       "    <tr>\n",
       "      <th>1337</th>\n",
       "      <td>EliteCoin</td>\n",
       "      <td>X13</td>\n",
       "      <td>True</td>\n",
       "      <td>PoW/PoS</td>\n",
       "      <td>2.927942e+10</td>\n",
       "      <td>314159265359</td>\n",
       "    </tr>\n",
       "    <tr>\n",
       "      <th>2015</th>\n",
       "      <td>2015 coin</td>\n",
       "      <td>X11</td>\n",
       "      <td>True</td>\n",
       "      <td>PoW/PoS</td>\n",
       "      <td>NaN</td>\n",
       "      <td>0</td>\n",
       "    </tr>\n",
       "    <tr>\n",
       "      <th>BTC</th>\n",
       "      <td>Bitcoin</td>\n",
       "      <td>SHA-256</td>\n",
       "      <td>True</td>\n",
       "      <td>PoW</td>\n",
       "      <td>1.792718e+07</td>\n",
       "      <td>21000000</td>\n",
       "    </tr>\n",
       "    <tr>\n",
       "      <th>ETH</th>\n",
       "      <td>Ethereum</td>\n",
       "      <td>Ethash</td>\n",
       "      <td>True</td>\n",
       "      <td>PoW</td>\n",
       "      <td>1.076842e+08</td>\n",
       "      <td>0</td>\n",
       "    </tr>\n",
       "    <tr>\n",
       "      <th>LTC</th>\n",
       "      <td>Litecoin</td>\n",
       "      <td>Scrypt</td>\n",
       "      <td>True</td>\n",
       "      <td>PoW</td>\n",
       "      <td>6.303924e+07</td>\n",
       "      <td>84000000</td>\n",
       "    </tr>\n",
       "  </tbody>\n",
       "</table>\n",
       "</div>"
      ],
      "text/plain": [
       "       CoinName Algorithm  IsTrading ProofType  TotalCoinsMined  \\\n",
       "42      42 Coin    Scrypt       True   PoW/PoS     4.199995e+01   \n",
       "365     365Coin       X11       True   PoW/PoS              NaN   \n",
       "404     404Coin    Scrypt       True   PoW/PoS     1.055185e+09   \n",
       "611   SixEleven   SHA-256       True       PoW              NaN   \n",
       "808         808   SHA-256       True   PoW/PoS     0.000000e+00   \n",
       "1337  EliteCoin       X13       True   PoW/PoS     2.927942e+10   \n",
       "2015  2015 coin       X11       True   PoW/PoS              NaN   \n",
       "BTC     Bitcoin   SHA-256       True       PoW     1.792718e+07   \n",
       "ETH    Ethereum    Ethash       True       PoW     1.076842e+08   \n",
       "LTC    Litecoin    Scrypt       True       PoW     6.303924e+07   \n",
       "\n",
       "     TotalCoinSupply  \n",
       "42                42  \n",
       "365       2300000000  \n",
       "404        532000000  \n",
       "611           611000  \n",
       "808                0  \n",
       "1337    314159265359  \n",
       "2015               0  \n",
       "BTC         21000000  \n",
       "ETH                0  \n",
       "LTC         84000000  "
      ]
     },
     "execution_count": 32,
     "metadata": {},
     "output_type": "execute_result"
    }
   ],
   "source": [
    "# Keep only necessary columns:\n",
    "# 'CoinName','Algorithm','IsTrading','ProofType','TotalCoinsMined','TotalCoinSupply'\n",
    "crypto_df=crypto_df[['CoinName','Algorithm','IsTrading','ProofType','TotalCoinsMined','TotalCoinSupply']]\n",
    "crypto_df.head(10)"
   ]
  },
  {
   "cell_type": "code",
   "execution_count": 33,
   "metadata": {},
   "outputs": [],
   "source": [
    "# Keep only cryptocurrencies that are trading\n",
    "crypto_df = crypto_df[crypto_df[\"IsTrading\"] == True]"
   ]
  },
  {
   "cell_type": "code",
   "execution_count": 34,
   "metadata": {},
   "outputs": [],
   "source": [
    "# Keep only cryptocurrencies with a working algorithm\n",
    "crypto_df = crypto_df[crypto_df[\"Algorithm\"] != \"N/A\"]"
   ]
  },
  {
   "cell_type": "code",
   "execution_count": 35,
   "metadata": {},
   "outputs": [],
   "source": [
    "# Remove the \"IsTrading\" column\n",
    "crypto_df.drop(\"IsTrading\", axis=1, inplace=True)"
   ]
  },
  {
   "cell_type": "code",
   "execution_count": 36,
   "metadata": {},
   "outputs": [],
   "source": [
    "# Remove rows with at least 1 null value\n",
    "crypto_df = crypto_df.dropna(axis=0, how=\"any\")"
   ]
  },
  {
   "cell_type": "code",
   "execution_count": 37,
   "metadata": {},
   "outputs": [],
   "source": [
    "# Remove rows with cryptocurrencies having no coins mined\n",
    "crypto_df = crypto_df[crypto_df[\"TotalCoinsMined\"] > 0]"
   ]
  },
  {
   "cell_type": "code",
   "execution_count": 38,
   "metadata": {},
   "outputs": [
    {
     "data": {
      "text/html": [
       "<div>\n",
       "<style scoped>\n",
       "    .dataframe tbody tr th:only-of-type {\n",
       "        vertical-align: middle;\n",
       "    }\n",
       "\n",
       "    .dataframe tbody tr th {\n",
       "        vertical-align: top;\n",
       "    }\n",
       "\n",
       "    .dataframe thead th {\n",
       "        text-align: right;\n",
       "    }\n",
       "</style>\n",
       "<table border=\"1\" class=\"dataframe\">\n",
       "  <thead>\n",
       "    <tr style=\"text-align: right;\">\n",
       "      <th></th>\n",
       "      <th>CoinName</th>\n",
       "      <th>Algorithm</th>\n",
       "      <th>ProofType</th>\n",
       "      <th>TotalCoinsMined</th>\n",
       "      <th>TotalCoinSupply</th>\n",
       "    </tr>\n",
       "  </thead>\n",
       "  <tbody>\n",
       "    <tr>\n",
       "      <th>42</th>\n",
       "      <td>42 Coin</td>\n",
       "      <td>Scrypt</td>\n",
       "      <td>PoW/PoS</td>\n",
       "      <td>4.199995e+01</td>\n",
       "      <td>42</td>\n",
       "    </tr>\n",
       "    <tr>\n",
       "      <th>404</th>\n",
       "      <td>404Coin</td>\n",
       "      <td>Scrypt</td>\n",
       "      <td>PoW/PoS</td>\n",
       "      <td>1.055185e+09</td>\n",
       "      <td>532000000</td>\n",
       "    </tr>\n",
       "    <tr>\n",
       "      <th>1337</th>\n",
       "      <td>EliteCoin</td>\n",
       "      <td>X13</td>\n",
       "      <td>PoW/PoS</td>\n",
       "      <td>2.927942e+10</td>\n",
       "      <td>314159265359</td>\n",
       "    </tr>\n",
       "    <tr>\n",
       "      <th>BTC</th>\n",
       "      <td>Bitcoin</td>\n",
       "      <td>SHA-256</td>\n",
       "      <td>PoW</td>\n",
       "      <td>1.792718e+07</td>\n",
       "      <td>21000000</td>\n",
       "    </tr>\n",
       "    <tr>\n",
       "      <th>ETH</th>\n",
       "      <td>Ethereum</td>\n",
       "      <td>Ethash</td>\n",
       "      <td>PoW</td>\n",
       "      <td>1.076842e+08</td>\n",
       "      <td>0</td>\n",
       "    </tr>\n",
       "    <tr>\n",
       "      <th>LTC</th>\n",
       "      <td>Litecoin</td>\n",
       "      <td>Scrypt</td>\n",
       "      <td>PoW</td>\n",
       "      <td>6.303924e+07</td>\n",
       "      <td>84000000</td>\n",
       "    </tr>\n",
       "    <tr>\n",
       "      <th>DASH</th>\n",
       "      <td>Dash</td>\n",
       "      <td>X11</td>\n",
       "      <td>PoW/PoS</td>\n",
       "      <td>9.031294e+06</td>\n",
       "      <td>22000000</td>\n",
       "    </tr>\n",
       "    <tr>\n",
       "      <th>XMR</th>\n",
       "      <td>Monero</td>\n",
       "      <td>CryptoNight-V7</td>\n",
       "      <td>PoW</td>\n",
       "      <td>1.720114e+07</td>\n",
       "      <td>0</td>\n",
       "    </tr>\n",
       "    <tr>\n",
       "      <th>ETC</th>\n",
       "      <td>Ethereum Classic</td>\n",
       "      <td>Ethash</td>\n",
       "      <td>PoW</td>\n",
       "      <td>1.133597e+08</td>\n",
       "      <td>210000000</td>\n",
       "    </tr>\n",
       "    <tr>\n",
       "      <th>ZEC</th>\n",
       "      <td>ZCash</td>\n",
       "      <td>Equihash</td>\n",
       "      <td>PoW</td>\n",
       "      <td>7.383056e+06</td>\n",
       "      <td>21000000</td>\n",
       "    </tr>\n",
       "  </tbody>\n",
       "</table>\n",
       "</div>"
      ],
      "text/plain": [
       "              CoinName       Algorithm ProofType  TotalCoinsMined  \\\n",
       "42             42 Coin          Scrypt   PoW/PoS     4.199995e+01   \n",
       "404            404Coin          Scrypt   PoW/PoS     1.055185e+09   \n",
       "1337         EliteCoin             X13   PoW/PoS     2.927942e+10   \n",
       "BTC            Bitcoin         SHA-256       PoW     1.792718e+07   \n",
       "ETH           Ethereum          Ethash       PoW     1.076842e+08   \n",
       "LTC           Litecoin          Scrypt       PoW     6.303924e+07   \n",
       "DASH              Dash             X11   PoW/PoS     9.031294e+06   \n",
       "XMR             Monero  CryptoNight-V7       PoW     1.720114e+07   \n",
       "ETC   Ethereum Classic          Ethash       PoW     1.133597e+08   \n",
       "ZEC              ZCash        Equihash       PoW     7.383056e+06   \n",
       "\n",
       "     TotalCoinSupply  \n",
       "42                42  \n",
       "404        532000000  \n",
       "1337    314159265359  \n",
       "BTC         21000000  \n",
       "ETH                0  \n",
       "LTC         84000000  \n",
       "DASH        22000000  \n",
       "XMR                0  \n",
       "ETC        210000000  \n",
       "ZEC         21000000  "
      ]
     },
     "execution_count": 38,
     "metadata": {},
     "output_type": "execute_result"
    }
   ],
   "source": [
    "# Drop rows where there are 'N/A' text values\n",
    "crypto_df = crypto_df[crypto_df.iloc[:] != 'N/A'].dropna()\n",
    "crypto_df.head(10)"
   ]
  },
  {
   "cell_type": "code",
   "execution_count": 39,
   "metadata": {},
   "outputs": [
    {
     "name": "stdout",
     "output_type": "stream",
     "text": [
      "(532, 1)\n"
     ]
    },
    {
     "data": {
      "text/html": [
       "<div>\n",
       "<style scoped>\n",
       "    .dataframe tbody tr th:only-of-type {\n",
       "        vertical-align: middle;\n",
       "    }\n",
       "\n",
       "    .dataframe tbody tr th {\n",
       "        vertical-align: top;\n",
       "    }\n",
       "\n",
       "    .dataframe thead th {\n",
       "        text-align: right;\n",
       "    }\n",
       "</style>\n",
       "<table border=\"1\" class=\"dataframe\">\n",
       "  <thead>\n",
       "    <tr style=\"text-align: right;\">\n",
       "      <th></th>\n",
       "      <th>CoinName</th>\n",
       "    </tr>\n",
       "  </thead>\n",
       "  <tbody>\n",
       "    <tr>\n",
       "      <th>42</th>\n",
       "      <td>42 Coin</td>\n",
       "    </tr>\n",
       "    <tr>\n",
       "      <th>404</th>\n",
       "      <td>404Coin</td>\n",
       "    </tr>\n",
       "    <tr>\n",
       "      <th>1337</th>\n",
       "      <td>EliteCoin</td>\n",
       "    </tr>\n",
       "    <tr>\n",
       "      <th>BTC</th>\n",
       "      <td>Bitcoin</td>\n",
       "    </tr>\n",
       "    <tr>\n",
       "      <th>ETH</th>\n",
       "      <td>Ethereum</td>\n",
       "    </tr>\n",
       "  </tbody>\n",
       "</table>\n",
       "</div>"
      ],
      "text/plain": [
       "       CoinName\n",
       "42      42 Coin\n",
       "404     404Coin\n",
       "1337  EliteCoin\n",
       "BTC     Bitcoin\n",
       "ETH    Ethereum"
      ]
     },
     "execution_count": 39,
     "metadata": {},
     "output_type": "execute_result"
    }
   ],
   "source": [
    "# Store the 'CoinName'column in its own DataFrame prior to dropping it from crypto_df\n",
    "coins_name = pd.DataFrame(crypto_df[\"CoinName\"], index=crypto_df.index)\n",
    "print(coins_name.shape)\n",
    "coins_name.head()"
   ]
  },
  {
   "cell_type": "code",
   "execution_count": 40,
   "metadata": {},
   "outputs": [
    {
     "name": "stdout",
     "output_type": "stream",
     "text": [
      "(532, 4)\n"
     ]
    },
    {
     "data": {
      "text/html": [
       "<div>\n",
       "<style scoped>\n",
       "    .dataframe tbody tr th:only-of-type {\n",
       "        vertical-align: middle;\n",
       "    }\n",
       "\n",
       "    .dataframe tbody tr th {\n",
       "        vertical-align: top;\n",
       "    }\n",
       "\n",
       "    .dataframe thead th {\n",
       "        text-align: right;\n",
       "    }\n",
       "</style>\n",
       "<table border=\"1\" class=\"dataframe\">\n",
       "  <thead>\n",
       "    <tr style=\"text-align: right;\">\n",
       "      <th></th>\n",
       "      <th>Algorithm</th>\n",
       "      <th>ProofType</th>\n",
       "      <th>TotalCoinsMined</th>\n",
       "      <th>TotalCoinSupply</th>\n",
       "    </tr>\n",
       "  </thead>\n",
       "  <tbody>\n",
       "    <tr>\n",
       "      <th>42</th>\n",
       "      <td>Scrypt</td>\n",
       "      <td>PoW/PoS</td>\n",
       "      <td>4.199995e+01</td>\n",
       "      <td>42</td>\n",
       "    </tr>\n",
       "    <tr>\n",
       "      <th>404</th>\n",
       "      <td>Scrypt</td>\n",
       "      <td>PoW/PoS</td>\n",
       "      <td>1.055185e+09</td>\n",
       "      <td>532000000</td>\n",
       "    </tr>\n",
       "    <tr>\n",
       "      <th>1337</th>\n",
       "      <td>X13</td>\n",
       "      <td>PoW/PoS</td>\n",
       "      <td>2.927942e+10</td>\n",
       "      <td>314159265359</td>\n",
       "    </tr>\n",
       "    <tr>\n",
       "      <th>BTC</th>\n",
       "      <td>SHA-256</td>\n",
       "      <td>PoW</td>\n",
       "      <td>1.792718e+07</td>\n",
       "      <td>21000000</td>\n",
       "    </tr>\n",
       "    <tr>\n",
       "      <th>ETH</th>\n",
       "      <td>Ethash</td>\n",
       "      <td>PoW</td>\n",
       "      <td>1.076842e+08</td>\n",
       "      <td>0</td>\n",
       "    </tr>\n",
       "    <tr>\n",
       "      <th>LTC</th>\n",
       "      <td>Scrypt</td>\n",
       "      <td>PoW</td>\n",
       "      <td>6.303924e+07</td>\n",
       "      <td>84000000</td>\n",
       "    </tr>\n",
       "    <tr>\n",
       "      <th>DASH</th>\n",
       "      <td>X11</td>\n",
       "      <td>PoW/PoS</td>\n",
       "      <td>9.031294e+06</td>\n",
       "      <td>22000000</td>\n",
       "    </tr>\n",
       "    <tr>\n",
       "      <th>XMR</th>\n",
       "      <td>CryptoNight-V7</td>\n",
       "      <td>PoW</td>\n",
       "      <td>1.720114e+07</td>\n",
       "      <td>0</td>\n",
       "    </tr>\n",
       "    <tr>\n",
       "      <th>ETC</th>\n",
       "      <td>Ethash</td>\n",
       "      <td>PoW</td>\n",
       "      <td>1.133597e+08</td>\n",
       "      <td>210000000</td>\n",
       "    </tr>\n",
       "    <tr>\n",
       "      <th>ZEC</th>\n",
       "      <td>Equihash</td>\n",
       "      <td>PoW</td>\n",
       "      <td>7.383056e+06</td>\n",
       "      <td>21000000</td>\n",
       "    </tr>\n",
       "  </tbody>\n",
       "</table>\n",
       "</div>"
      ],
      "text/plain": [
       "           Algorithm ProofType  TotalCoinsMined TotalCoinSupply\n",
       "42            Scrypt   PoW/PoS     4.199995e+01              42\n",
       "404           Scrypt   PoW/PoS     1.055185e+09       532000000\n",
       "1337             X13   PoW/PoS     2.927942e+10    314159265359\n",
       "BTC          SHA-256       PoW     1.792718e+07        21000000\n",
       "ETH           Ethash       PoW     1.076842e+08               0\n",
       "LTC           Scrypt       PoW     6.303924e+07        84000000\n",
       "DASH             X11   PoW/PoS     9.031294e+06        22000000\n",
       "XMR   CryptoNight-V7       PoW     1.720114e+07               0\n",
       "ETC           Ethash       PoW     1.133597e+08       210000000\n",
       "ZEC         Equihash       PoW     7.383056e+06        21000000"
      ]
     },
     "execution_count": 40,
     "metadata": {},
     "output_type": "execute_result"
    }
   ],
   "source": [
    "# Drop the 'CoinName' column since it's not going to be used on the clustering algorithm\n",
    "crypto_df = crypto_df.drop(\"CoinName\", axis=1)\n",
    "print(crypto_df.shape)\n",
    "crypto_df.head(10)"
   ]
  },
  {
   "cell_type": "code",
   "execution_count": 41,
   "metadata": {},
   "outputs": [
    {
     "name": "stdout",
     "output_type": "stream",
     "text": [
      "(532, 98)\n"
     ]
    },
    {
     "data": {
      "text/html": [
       "<div>\n",
       "<style scoped>\n",
       "    .dataframe tbody tr th:only-of-type {\n",
       "        vertical-align: middle;\n",
       "    }\n",
       "\n",
       "    .dataframe tbody tr th {\n",
       "        vertical-align: top;\n",
       "    }\n",
       "\n",
       "    .dataframe thead th {\n",
       "        text-align: right;\n",
       "    }\n",
       "</style>\n",
       "<table border=\"1\" class=\"dataframe\">\n",
       "  <thead>\n",
       "    <tr style=\"text-align: right;\">\n",
       "      <th></th>\n",
       "      <th>TotalCoinsMined</th>\n",
       "      <th>TotalCoinSupply</th>\n",
       "      <th>Algorithm_1GB AES Pattern Search</th>\n",
       "      <th>Algorithm_536</th>\n",
       "      <th>Algorithm_Argon2d</th>\n",
       "      <th>Algorithm_BLAKE256</th>\n",
       "      <th>Algorithm_Blake</th>\n",
       "      <th>Algorithm_Blake2S</th>\n",
       "      <th>Algorithm_Blake2b</th>\n",
       "      <th>Algorithm_C11</th>\n",
       "      <th>...</th>\n",
       "      <th>ProofType_PoW/PoS</th>\n",
       "      <th>ProofType_PoW/PoS</th>\n",
       "      <th>ProofType_PoW/PoW</th>\n",
       "      <th>ProofType_PoW/nPoS</th>\n",
       "      <th>ProofType_Pos</th>\n",
       "      <th>ProofType_Proof of Authority</th>\n",
       "      <th>ProofType_Proof of Trust</th>\n",
       "      <th>ProofType_TPoS</th>\n",
       "      <th>ProofType_Zero-Knowledge Proof</th>\n",
       "      <th>ProofType_dPoW/PoW</th>\n",
       "    </tr>\n",
       "  </thead>\n",
       "  <tbody>\n",
       "    <tr>\n",
       "      <th>42</th>\n",
       "      <td>4.199995e+01</td>\n",
       "      <td>42</td>\n",
       "      <td>0</td>\n",
       "      <td>0</td>\n",
       "      <td>0</td>\n",
       "      <td>0</td>\n",
       "      <td>0</td>\n",
       "      <td>0</td>\n",
       "      <td>0</td>\n",
       "      <td>0</td>\n",
       "      <td>...</td>\n",
       "      <td>1</td>\n",
       "      <td>0</td>\n",
       "      <td>0</td>\n",
       "      <td>0</td>\n",
       "      <td>0</td>\n",
       "      <td>0</td>\n",
       "      <td>0</td>\n",
       "      <td>0</td>\n",
       "      <td>0</td>\n",
       "      <td>0</td>\n",
       "    </tr>\n",
       "    <tr>\n",
       "      <th>404</th>\n",
       "      <td>1.055185e+09</td>\n",
       "      <td>532000000</td>\n",
       "      <td>0</td>\n",
       "      <td>0</td>\n",
       "      <td>0</td>\n",
       "      <td>0</td>\n",
       "      <td>0</td>\n",
       "      <td>0</td>\n",
       "      <td>0</td>\n",
       "      <td>0</td>\n",
       "      <td>...</td>\n",
       "      <td>1</td>\n",
       "      <td>0</td>\n",
       "      <td>0</td>\n",
       "      <td>0</td>\n",
       "      <td>0</td>\n",
       "      <td>0</td>\n",
       "      <td>0</td>\n",
       "      <td>0</td>\n",
       "      <td>0</td>\n",
       "      <td>0</td>\n",
       "    </tr>\n",
       "    <tr>\n",
       "      <th>1337</th>\n",
       "      <td>2.927942e+10</td>\n",
       "      <td>314159265359</td>\n",
       "      <td>0</td>\n",
       "      <td>0</td>\n",
       "      <td>0</td>\n",
       "      <td>0</td>\n",
       "      <td>0</td>\n",
       "      <td>0</td>\n",
       "      <td>0</td>\n",
       "      <td>0</td>\n",
       "      <td>...</td>\n",
       "      <td>1</td>\n",
       "      <td>0</td>\n",
       "      <td>0</td>\n",
       "      <td>0</td>\n",
       "      <td>0</td>\n",
       "      <td>0</td>\n",
       "      <td>0</td>\n",
       "      <td>0</td>\n",
       "      <td>0</td>\n",
       "      <td>0</td>\n",
       "    </tr>\n",
       "    <tr>\n",
       "      <th>BTC</th>\n",
       "      <td>1.792718e+07</td>\n",
       "      <td>21000000</td>\n",
       "      <td>0</td>\n",
       "      <td>0</td>\n",
       "      <td>0</td>\n",
       "      <td>0</td>\n",
       "      <td>0</td>\n",
       "      <td>0</td>\n",
       "      <td>0</td>\n",
       "      <td>0</td>\n",
       "      <td>...</td>\n",
       "      <td>0</td>\n",
       "      <td>0</td>\n",
       "      <td>0</td>\n",
       "      <td>0</td>\n",
       "      <td>0</td>\n",
       "      <td>0</td>\n",
       "      <td>0</td>\n",
       "      <td>0</td>\n",
       "      <td>0</td>\n",
       "      <td>0</td>\n",
       "    </tr>\n",
       "    <tr>\n",
       "      <th>ETH</th>\n",
       "      <td>1.076842e+08</td>\n",
       "      <td>0</td>\n",
       "      <td>0</td>\n",
       "      <td>0</td>\n",
       "      <td>0</td>\n",
       "      <td>0</td>\n",
       "      <td>0</td>\n",
       "      <td>0</td>\n",
       "      <td>0</td>\n",
       "      <td>0</td>\n",
       "      <td>...</td>\n",
       "      <td>0</td>\n",
       "      <td>0</td>\n",
       "      <td>0</td>\n",
       "      <td>0</td>\n",
       "      <td>0</td>\n",
       "      <td>0</td>\n",
       "      <td>0</td>\n",
       "      <td>0</td>\n",
       "      <td>0</td>\n",
       "      <td>0</td>\n",
       "    </tr>\n",
       "    <tr>\n",
       "      <th>LTC</th>\n",
       "      <td>6.303924e+07</td>\n",
       "      <td>84000000</td>\n",
       "      <td>0</td>\n",
       "      <td>0</td>\n",
       "      <td>0</td>\n",
       "      <td>0</td>\n",
       "      <td>0</td>\n",
       "      <td>0</td>\n",
       "      <td>0</td>\n",
       "      <td>0</td>\n",
       "      <td>...</td>\n",
       "      <td>0</td>\n",
       "      <td>0</td>\n",
       "      <td>0</td>\n",
       "      <td>0</td>\n",
       "      <td>0</td>\n",
       "      <td>0</td>\n",
       "      <td>0</td>\n",
       "      <td>0</td>\n",
       "      <td>0</td>\n",
       "      <td>0</td>\n",
       "    </tr>\n",
       "    <tr>\n",
       "      <th>DASH</th>\n",
       "      <td>9.031294e+06</td>\n",
       "      <td>22000000</td>\n",
       "      <td>0</td>\n",
       "      <td>0</td>\n",
       "      <td>0</td>\n",
       "      <td>0</td>\n",
       "      <td>0</td>\n",
       "      <td>0</td>\n",
       "      <td>0</td>\n",
       "      <td>0</td>\n",
       "      <td>...</td>\n",
       "      <td>1</td>\n",
       "      <td>0</td>\n",
       "      <td>0</td>\n",
       "      <td>0</td>\n",
       "      <td>0</td>\n",
       "      <td>0</td>\n",
       "      <td>0</td>\n",
       "      <td>0</td>\n",
       "      <td>0</td>\n",
       "      <td>0</td>\n",
       "    </tr>\n",
       "    <tr>\n",
       "      <th>XMR</th>\n",
       "      <td>1.720114e+07</td>\n",
       "      <td>0</td>\n",
       "      <td>0</td>\n",
       "      <td>0</td>\n",
       "      <td>0</td>\n",
       "      <td>0</td>\n",
       "      <td>0</td>\n",
       "      <td>0</td>\n",
       "      <td>0</td>\n",
       "      <td>0</td>\n",
       "      <td>...</td>\n",
       "      <td>0</td>\n",
       "      <td>0</td>\n",
       "      <td>0</td>\n",
       "      <td>0</td>\n",
       "      <td>0</td>\n",
       "      <td>0</td>\n",
       "      <td>0</td>\n",
       "      <td>0</td>\n",
       "      <td>0</td>\n",
       "      <td>0</td>\n",
       "    </tr>\n",
       "    <tr>\n",
       "      <th>ETC</th>\n",
       "      <td>1.133597e+08</td>\n",
       "      <td>210000000</td>\n",
       "      <td>0</td>\n",
       "      <td>0</td>\n",
       "      <td>0</td>\n",
       "      <td>0</td>\n",
       "      <td>0</td>\n",
       "      <td>0</td>\n",
       "      <td>0</td>\n",
       "      <td>0</td>\n",
       "      <td>...</td>\n",
       "      <td>0</td>\n",
       "      <td>0</td>\n",
       "      <td>0</td>\n",
       "      <td>0</td>\n",
       "      <td>0</td>\n",
       "      <td>0</td>\n",
       "      <td>0</td>\n",
       "      <td>0</td>\n",
       "      <td>0</td>\n",
       "      <td>0</td>\n",
       "    </tr>\n",
       "    <tr>\n",
       "      <th>ZEC</th>\n",
       "      <td>7.383056e+06</td>\n",
       "      <td>21000000</td>\n",
       "      <td>0</td>\n",
       "      <td>0</td>\n",
       "      <td>0</td>\n",
       "      <td>0</td>\n",
       "      <td>0</td>\n",
       "      <td>0</td>\n",
       "      <td>0</td>\n",
       "      <td>0</td>\n",
       "      <td>...</td>\n",
       "      <td>0</td>\n",
       "      <td>0</td>\n",
       "      <td>0</td>\n",
       "      <td>0</td>\n",
       "      <td>0</td>\n",
       "      <td>0</td>\n",
       "      <td>0</td>\n",
       "      <td>0</td>\n",
       "      <td>0</td>\n",
       "      <td>0</td>\n",
       "    </tr>\n",
       "  </tbody>\n",
       "</table>\n",
       "<p>10 rows × 98 columns</p>\n",
       "</div>"
      ],
      "text/plain": [
       "      TotalCoinsMined TotalCoinSupply  Algorithm_1GB AES Pattern Search  \\\n",
       "42       4.199995e+01              42                                 0   \n",
       "404      1.055185e+09       532000000                                 0   \n",
       "1337     2.927942e+10    314159265359                                 0   \n",
       "BTC      1.792718e+07        21000000                                 0   \n",
       "ETH      1.076842e+08               0                                 0   \n",
       "LTC      6.303924e+07        84000000                                 0   \n",
       "DASH     9.031294e+06        22000000                                 0   \n",
       "XMR      1.720114e+07               0                                 0   \n",
       "ETC      1.133597e+08       210000000                                 0   \n",
       "ZEC      7.383056e+06        21000000                                 0   \n",
       "\n",
       "      Algorithm_536  Algorithm_Argon2d  Algorithm_BLAKE256  Algorithm_Blake  \\\n",
       "42                0                  0                   0                0   \n",
       "404               0                  0                   0                0   \n",
       "1337              0                  0                   0                0   \n",
       "BTC               0                  0                   0                0   \n",
       "ETH               0                  0                   0                0   \n",
       "LTC               0                  0                   0                0   \n",
       "DASH              0                  0                   0                0   \n",
       "XMR               0                  0                   0                0   \n",
       "ETC               0                  0                   0                0   \n",
       "ZEC               0                  0                   0                0   \n",
       "\n",
       "      Algorithm_Blake2S  Algorithm_Blake2b  Algorithm_C11  ...  \\\n",
       "42                    0                  0              0  ...   \n",
       "404                   0                  0              0  ...   \n",
       "1337                  0                  0              0  ...   \n",
       "BTC                   0                  0              0  ...   \n",
       "ETH                   0                  0              0  ...   \n",
       "LTC                   0                  0              0  ...   \n",
       "DASH                  0                  0              0  ...   \n",
       "XMR                   0                  0              0  ...   \n",
       "ETC                   0                  0              0  ...   \n",
       "ZEC                   0                  0              0  ...   \n",
       "\n",
       "      ProofType_PoW/PoS  ProofType_PoW/PoS   ProofType_PoW/PoW  \\\n",
       "42                    1                   0                  0   \n",
       "404                   1                   0                  0   \n",
       "1337                  1                   0                  0   \n",
       "BTC                   0                   0                  0   \n",
       "ETH                   0                   0                  0   \n",
       "LTC                   0                   0                  0   \n",
       "DASH                  1                   0                  0   \n",
       "XMR                   0                   0                  0   \n",
       "ETC                   0                   0                  0   \n",
       "ZEC                   0                   0                  0   \n",
       "\n",
       "      ProofType_PoW/nPoS  ProofType_Pos  ProofType_Proof of Authority  \\\n",
       "42                     0              0                             0   \n",
       "404                    0              0                             0   \n",
       "1337                   0              0                             0   \n",
       "BTC                    0              0                             0   \n",
       "ETH                    0              0                             0   \n",
       "LTC                    0              0                             0   \n",
       "DASH                   0              0                             0   \n",
       "XMR                    0              0                             0   \n",
       "ETC                    0              0                             0   \n",
       "ZEC                    0              0                             0   \n",
       "\n",
       "      ProofType_Proof of Trust  ProofType_TPoS  \\\n",
       "42                           0               0   \n",
       "404                          0               0   \n",
       "1337                         0               0   \n",
       "BTC                          0               0   \n",
       "ETH                          0               0   \n",
       "LTC                          0               0   \n",
       "DASH                         0               0   \n",
       "XMR                          0               0   \n",
       "ETC                          0               0   \n",
       "ZEC                          0               0   \n",
       "\n",
       "      ProofType_Zero-Knowledge Proof  ProofType_dPoW/PoW  \n",
       "42                                 0                   0  \n",
       "404                                0                   0  \n",
       "1337                               0                   0  \n",
       "BTC                                0                   0  \n",
       "ETH                                0                   0  \n",
       "LTC                                0                   0  \n",
       "DASH                               0                   0  \n",
       "XMR                                0                   0  \n",
       "ETC                                0                   0  \n",
       "ZEC                                0                   0  \n",
       "\n",
       "[10 rows x 98 columns]"
      ]
     },
     "execution_count": 41,
     "metadata": {},
     "output_type": "execute_result"
    }
   ],
   "source": [
    "# Create dummies variables for text features\n",
    "X = pd.get_dummies(data=crypto_df, columns=[\"Algorithm\", \"ProofType\"])\n",
    "print(X.shape)\n",
    "X.head(10)"
   ]
  },
  {
   "cell_type": "code",
   "execution_count": 42,
   "metadata": {},
   "outputs": [
    {
     "data": {
      "text/plain": [
       "array([[-0.11710817, -0.1528703 , -0.0433963 , -0.0433963 , -0.0433963 ,\n",
       "        -0.06142951, -0.07530656, -0.0433963 , -0.06142951, -0.06142951,\n",
       "        -0.0433963 , -0.0433963 , -0.19245009, -0.06142951, -0.09740465,\n",
       "        -0.0433963 , -0.11547005, -0.07530656, -0.0433963 , -0.0433963 ,\n",
       "        -0.15191091, -0.0433963 , -0.13118084, -0.0433963 , -0.0433963 ,\n",
       "        -0.08703883, -0.0433963 , -0.0433963 , -0.0433963 , -0.0433963 ,\n",
       "        -0.06142951, -0.0433963 , -0.08703883, -0.08703883, -0.08703883,\n",
       "        -0.0433963 , -0.13118084, -0.13840913, -0.13840913, -0.0433963 ,\n",
       "        -0.06142951, -0.0433963 , -0.07530656, -0.18168574, -0.0433963 ,\n",
       "        -0.0433963 , -0.0433963 , -0.07530656, -0.15826614, -0.31491833,\n",
       "        -0.0433963 , -0.08703883, -0.07530656, -0.06142951,  1.38675049,\n",
       "        -0.0433963 , -0.0433963 , -0.06142951, -0.0433963 , -0.0433963 ,\n",
       "        -0.0433963 , -0.0433963 , -0.0433963 , -0.0433963 , -0.0433963 ,\n",
       "        -0.0433963 , -0.39879994, -0.0433963 , -0.18168574, -0.0433963 ,\n",
       "        -0.08703883, -0.08703883, -0.10680283, -0.0433963 , -0.13118084,\n",
       "        -0.0433963 , -0.0433963 , -0.0433963 , -0.0433963 , -0.07530656,\n",
       "        -0.43911856, -0.0433963 , -0.06142951, -0.0433963 , -0.0433963 ,\n",
       "        -0.89632016, -0.0433963 , -0.0433963 ,  1.42222617, -0.0433963 ,\n",
       "        -0.0433963 , -0.0433963 , -0.0433963 , -0.0433963 , -0.0433963 ,\n",
       "        -0.0433963 , -0.0433963 , -0.0433963 ],\n",
       "       [-0.09396955, -0.145009  , -0.0433963 , -0.0433963 , -0.0433963 ,\n",
       "        -0.06142951, -0.07530656, -0.0433963 , -0.06142951, -0.06142951,\n",
       "        -0.0433963 , -0.0433963 , -0.19245009, -0.06142951, -0.09740465,\n",
       "        -0.0433963 , -0.11547005, -0.07530656, -0.0433963 , -0.0433963 ,\n",
       "        -0.15191091, -0.0433963 , -0.13118084, -0.0433963 , -0.0433963 ,\n",
       "        -0.08703883, -0.0433963 , -0.0433963 , -0.0433963 , -0.0433963 ,\n",
       "        -0.06142951, -0.0433963 , -0.08703883, -0.08703883, -0.08703883,\n",
       "        -0.0433963 , -0.13118084, -0.13840913, -0.13840913, -0.0433963 ,\n",
       "        -0.06142951, -0.0433963 , -0.07530656, -0.18168574, -0.0433963 ,\n",
       "        -0.0433963 , -0.0433963 , -0.07530656, -0.15826614, -0.31491833,\n",
       "        -0.0433963 , -0.08703883, -0.07530656, -0.06142951,  1.38675049,\n",
       "        -0.0433963 , -0.0433963 , -0.06142951, -0.0433963 , -0.0433963 ,\n",
       "        -0.0433963 , -0.0433963 , -0.0433963 , -0.0433963 , -0.0433963 ,\n",
       "        -0.0433963 , -0.39879994, -0.0433963 , -0.18168574, -0.0433963 ,\n",
       "        -0.08703883, -0.08703883, -0.10680283, -0.0433963 , -0.13118084,\n",
       "        -0.0433963 , -0.0433963 , -0.0433963 , -0.0433963 , -0.07530656,\n",
       "        -0.43911856, -0.0433963 , -0.06142951, -0.0433963 , -0.0433963 ,\n",
       "        -0.89632016, -0.0433963 , -0.0433963 ,  1.42222617, -0.0433963 ,\n",
       "        -0.0433963 , -0.0433963 , -0.0433963 , -0.0433963 , -0.0433963 ,\n",
       "        -0.0433963 , -0.0433963 , -0.0433963 ],\n",
       "       [ 0.52494561,  4.48942416, -0.0433963 , -0.0433963 , -0.0433963 ,\n",
       "        -0.06142951, -0.07530656, -0.0433963 , -0.06142951, -0.06142951,\n",
       "        -0.0433963 , -0.0433963 , -0.19245009, -0.06142951, -0.09740465,\n",
       "        -0.0433963 , -0.11547005, -0.07530656, -0.0433963 , -0.0433963 ,\n",
       "        -0.15191091, -0.0433963 , -0.13118084, -0.0433963 , -0.0433963 ,\n",
       "        -0.08703883, -0.0433963 , -0.0433963 , -0.0433963 , -0.0433963 ,\n",
       "        -0.06142951, -0.0433963 , -0.08703883, -0.08703883, -0.08703883,\n",
       "        -0.0433963 , -0.13118084, -0.13840913, -0.13840913, -0.0433963 ,\n",
       "        -0.06142951, -0.0433963 , -0.07530656, -0.18168574, -0.0433963 ,\n",
       "        -0.0433963 , -0.0433963 , -0.07530656, -0.15826614, -0.31491833,\n",
       "        -0.0433963 , -0.08703883, -0.07530656, -0.06142951, -0.72111026,\n",
       "        -0.0433963 , -0.0433963 , -0.06142951, -0.0433963 , -0.0433963 ,\n",
       "        -0.0433963 , -0.0433963 , -0.0433963 , -0.0433963 , -0.0433963 ,\n",
       "        -0.0433963 , -0.39879994, -0.0433963 ,  5.50400923, -0.0433963 ,\n",
       "        -0.08703883, -0.08703883, -0.10680283, -0.0433963 , -0.13118084,\n",
       "        -0.0433963 , -0.0433963 , -0.0433963 , -0.0433963 , -0.07530656,\n",
       "        -0.43911856, -0.0433963 , -0.06142951, -0.0433963 , -0.0433963 ,\n",
       "        -0.89632016, -0.0433963 , -0.0433963 ,  1.42222617, -0.0433963 ,\n",
       "        -0.0433963 , -0.0433963 , -0.0433963 , -0.0433963 , -0.0433963 ,\n",
       "        -0.0433963 , -0.0433963 , -0.0433963 ],\n",
       "       [-0.11671506, -0.15255998, -0.0433963 , -0.0433963 , -0.0433963 ,\n",
       "        -0.06142951, -0.07530656, -0.0433963 , -0.06142951, -0.06142951,\n",
       "        -0.0433963 , -0.0433963 , -0.19245009, -0.06142951, -0.09740465,\n",
       "        -0.0433963 , -0.11547005, -0.07530656, -0.0433963 , -0.0433963 ,\n",
       "        -0.15191091, -0.0433963 , -0.13118084, -0.0433963 , -0.0433963 ,\n",
       "        -0.08703883, -0.0433963 , -0.0433963 , -0.0433963 , -0.0433963 ,\n",
       "        -0.06142951, -0.0433963 , -0.08703883, -0.08703883, -0.08703883,\n",
       "        -0.0433963 , -0.13118084, -0.13840913, -0.13840913, -0.0433963 ,\n",
       "        -0.06142951, -0.0433963 , -0.07530656, -0.18168574, -0.0433963 ,\n",
       "        -0.0433963 , -0.0433963 , -0.07530656, -0.15826614,  3.17542648,\n",
       "        -0.0433963 , -0.08703883, -0.07530656, -0.06142951, -0.72111026,\n",
       "        -0.0433963 , -0.0433963 , -0.06142951, -0.0433963 , -0.0433963 ,\n",
       "        -0.0433963 , -0.0433963 , -0.0433963 , -0.0433963 , -0.0433963 ,\n",
       "        -0.0433963 , -0.39879994, -0.0433963 , -0.18168574, -0.0433963 ,\n",
       "        -0.08703883, -0.08703883, -0.10680283, -0.0433963 , -0.13118084,\n",
       "        -0.0433963 , -0.0433963 , -0.0433963 , -0.0433963 , -0.07530656,\n",
       "        -0.43911856, -0.0433963 , -0.06142951, -0.0433963 , -0.0433963 ,\n",
       "         1.11567277, -0.0433963 , -0.0433963 , -0.70312305, -0.0433963 ,\n",
       "        -0.0433963 , -0.0433963 , -0.0433963 , -0.0433963 , -0.0433963 ,\n",
       "        -0.0433963 , -0.0433963 , -0.0433963 ],\n",
       "       [-0.11474682, -0.1528703 , -0.0433963 , -0.0433963 , -0.0433963 ,\n",
       "        -0.06142951, -0.07530656, -0.0433963 , -0.06142951, -0.06142951,\n",
       "        -0.0433963 , -0.0433963 , -0.19245009, -0.06142951, -0.09740465,\n",
       "        -0.0433963 , -0.11547005, -0.07530656, -0.0433963 , -0.0433963 ,\n",
       "        -0.15191091, -0.0433963 ,  7.62306442, -0.0433963 , -0.0433963 ,\n",
       "        -0.08703883, -0.0433963 , -0.0433963 , -0.0433963 , -0.0433963 ,\n",
       "        -0.06142951, -0.0433963 , -0.08703883, -0.08703883, -0.08703883,\n",
       "        -0.0433963 , -0.13118084, -0.13840913, -0.13840913, -0.0433963 ,\n",
       "        -0.06142951, -0.0433963 , -0.07530656, -0.18168574, -0.0433963 ,\n",
       "        -0.0433963 , -0.0433963 , -0.07530656, -0.15826614, -0.31491833,\n",
       "        -0.0433963 , -0.08703883, -0.07530656, -0.06142951, -0.72111026,\n",
       "        -0.0433963 , -0.0433963 , -0.06142951, -0.0433963 , -0.0433963 ,\n",
       "        -0.0433963 , -0.0433963 , -0.0433963 , -0.0433963 , -0.0433963 ,\n",
       "        -0.0433963 , -0.39879994, -0.0433963 , -0.18168574, -0.0433963 ,\n",
       "        -0.08703883, -0.08703883, -0.10680283, -0.0433963 , -0.13118084,\n",
       "        -0.0433963 , -0.0433963 , -0.0433963 , -0.0433963 , -0.07530656,\n",
       "        -0.43911856, -0.0433963 , -0.06142951, -0.0433963 , -0.0433963 ,\n",
       "         1.11567277, -0.0433963 , -0.0433963 , -0.70312305, -0.0433963 ,\n",
       "        -0.0433963 , -0.0433963 , -0.0433963 , -0.0433963 , -0.0433963 ,\n",
       "        -0.0433963 , -0.0433963 , -0.0433963 ]])"
      ]
     },
     "execution_count": 42,
     "metadata": {},
     "output_type": "execute_result"
    }
   ],
   "source": [
    "# Standardize data\n",
    "X = StandardScaler().fit_transform(X)\n",
    "X[:5]"
   ]
  },
  {
   "cell_type": "markdown",
   "metadata": {},
   "source": [
    "### Reducing Dimensions Using PCA"
   ]
  },
  {
   "cell_type": "code",
   "execution_count": 43,
   "metadata": {},
   "outputs": [
    {
     "data": {
      "text/plain": [
       "array([[-0.34077585,  1.01415562, -0.57208822],\n",
       "       [-0.32409515,  1.01430899, -0.57250511],\n",
       "       [ 2.30682163,  1.74788084, -0.60673991],\n",
       "       ...,\n",
       "       [ 0.32457484, -2.27054017,  0.41477319],\n",
       "       [-0.12693631, -2.05837372,  0.40716155],\n",
       "       [-0.30016913,  0.66931093, -0.28886566]])"
      ]
     },
     "execution_count": 43,
     "metadata": {},
     "output_type": "execute_result"
    }
   ],
   "source": [
    "# Use PCA to reduce dimension to 3 principal components\n",
    "pca = PCA(n_components=3)\n",
    "df_pca = pca.fit_transform(X)\n",
    "df_pca"
   ]
  },
  {
   "cell_type": "code",
   "execution_count": 44,
   "metadata": {},
   "outputs": [
    {
     "data": {
      "text/html": [
       "<div>\n",
       "<style scoped>\n",
       "    .dataframe tbody tr th:only-of-type {\n",
       "        vertical-align: middle;\n",
       "    }\n",
       "\n",
       "    .dataframe tbody tr th {\n",
       "        vertical-align: top;\n",
       "    }\n",
       "\n",
       "    .dataframe thead th {\n",
       "        text-align: right;\n",
       "    }\n",
       "</style>\n",
       "<table border=\"1\" class=\"dataframe\">\n",
       "  <thead>\n",
       "    <tr style=\"text-align: right;\">\n",
       "      <th></th>\n",
       "      <th>PC1</th>\n",
       "      <th>PC2</th>\n",
       "      <th>PC3</th>\n",
       "    </tr>\n",
       "  </thead>\n",
       "  <tbody>\n",
       "    <tr>\n",
       "      <th>42</th>\n",
       "      <td>-0.340776</td>\n",
       "      <td>1.014156</td>\n",
       "      <td>-0.572088</td>\n",
       "    </tr>\n",
       "    <tr>\n",
       "      <th>404</th>\n",
       "      <td>-0.324095</td>\n",
       "      <td>1.014309</td>\n",
       "      <td>-0.572505</td>\n",
       "    </tr>\n",
       "    <tr>\n",
       "      <th>1337</th>\n",
       "      <td>2.306822</td>\n",
       "      <td>1.747881</td>\n",
       "      <td>-0.606740</td>\n",
       "    </tr>\n",
       "    <tr>\n",
       "      <th>BTC</th>\n",
       "      <td>-0.144050</td>\n",
       "      <td>-1.249328</td>\n",
       "      <td>0.186987</td>\n",
       "    </tr>\n",
       "    <tr>\n",
       "      <th>ETH</th>\n",
       "      <td>-0.154448</td>\n",
       "      <td>-2.009371</td>\n",
       "      <td>0.388266</td>\n",
       "    </tr>\n",
       "    <tr>\n",
       "      <th>LTC</th>\n",
       "      <td>-0.170921</td>\n",
       "      <td>-1.171977</td>\n",
       "      <td>-0.030893</td>\n",
       "    </tr>\n",
       "    <tr>\n",
       "      <th>DASH</th>\n",
       "      <td>-0.377745</td>\n",
       "      <td>1.369455</td>\n",
       "      <td>-0.506279</td>\n",
       "    </tr>\n",
       "    <tr>\n",
       "      <th>XMR</th>\n",
       "      <td>-0.150460</td>\n",
       "      <td>-2.185808</td>\n",
       "      <td>0.430427</td>\n",
       "    </tr>\n",
       "    <tr>\n",
       "      <th>ETC</th>\n",
       "      <td>-0.152889</td>\n",
       "      <td>-2.009469</td>\n",
       "      <td>0.388247</td>\n",
       "    </tr>\n",
       "    <tr>\n",
       "      <th>ZEC</th>\n",
       "      <td>-0.126935</td>\n",
       "      <td>-2.058374</td>\n",
       "      <td>0.407162</td>\n",
       "    </tr>\n",
       "  </tbody>\n",
       "</table>\n",
       "</div>"
      ],
      "text/plain": [
       "           PC1       PC2       PC3\n",
       "42   -0.340776  1.014156 -0.572088\n",
       "404  -0.324095  1.014309 -0.572505\n",
       "1337  2.306822  1.747881 -0.606740\n",
       "BTC  -0.144050 -1.249328  0.186987\n",
       "ETH  -0.154448 -2.009371  0.388266\n",
       "LTC  -0.170921 -1.171977 -0.030893\n",
       "DASH -0.377745  1.369455 -0.506279\n",
       "XMR  -0.150460 -2.185808  0.430427\n",
       "ETC  -0.152889 -2.009469  0.388247\n",
       "ZEC  -0.126935 -2.058374  0.407162"
      ]
     },
     "execution_count": 44,
     "metadata": {},
     "output_type": "execute_result"
    }
   ],
   "source": [
    "# Create a DataFrame with the principal components data\n",
    "pcs_df = pd.DataFrame(\n",
    "    data = df_pca, columns = ['PC1','PC2','PC3'], index = crypto_df.index\n",
    ")\n",
    "pcs_df.head(10)"
   ]
  },
  {
   "cell_type": "markdown",
   "metadata": {},
   "source": [
    "### Clustering Crytocurrencies Using K-Means\n",
    "\n",
    "#### Find the Best Value for `k` Using the Elbow Curve"
   ]
  },
  {
   "cell_type": "code",
   "execution_count": 45,
   "metadata": {},
   "outputs": [
    {
     "data": {
      "text/html": [
       "\n",
       "<div id=\"altair-viz-ddf7072c1f234b88ae96d77373a5e760\"></div>\n",
       "<script type=\"text/javascript\">\n",
       "  (function(spec, embedOpt){\n",
       "    let outputDiv = document.currentScript.previousElementSibling;\n",
       "    if (outputDiv.id !== \"altair-viz-ddf7072c1f234b88ae96d77373a5e760\") {\n",
       "      outputDiv = document.getElementById(\"altair-viz-ddf7072c1f234b88ae96d77373a5e760\");\n",
       "    }\n",
       "    const paths = {\n",
       "      \"vega\": \"https://cdn.jsdelivr.net/npm//vega@5?noext\",\n",
       "      \"vega-lib\": \"https://cdn.jsdelivr.net/npm//vega-lib?noext\",\n",
       "      \"vega-lite\": \"https://cdn.jsdelivr.net/npm//vega-lite@4.8.1?noext\",\n",
       "      \"vega-embed\": \"https://cdn.jsdelivr.net/npm//vega-embed@6?noext\",\n",
       "    };\n",
       "\n",
       "    function loadScript(lib) {\n",
       "      return new Promise(function(resolve, reject) {\n",
       "        var s = document.createElement('script');\n",
       "        s.src = paths[lib];\n",
       "        s.async = true;\n",
       "        s.onload = () => resolve(paths[lib]);\n",
       "        s.onerror = () => reject(`Error loading script: ${paths[lib]}`);\n",
       "        document.getElementsByTagName(\"head\")[0].appendChild(s);\n",
       "      });\n",
       "    }\n",
       "\n",
       "    function showError(err) {\n",
       "      outputDiv.innerHTML = `<div class=\"error\" style=\"color:red;\">${err}</div>`;\n",
       "      throw err;\n",
       "    }\n",
       "\n",
       "    function displayChart(vegaEmbed) {\n",
       "      vegaEmbed(outputDiv, spec, embedOpt)\n",
       "        .catch(err => showError(`Javascript Error: ${err.message}<br>This usually means there's a typo in your chart specification. See the javascript console for the full traceback.`));\n",
       "    }\n",
       "\n",
       "    if(typeof define === \"function\" && define.amd) {\n",
       "      requirejs.config({paths});\n",
       "      require([\"vega-embed\"], displayChart, err => showError(`Error loading script: ${err.message}`));\n",
       "    } else if (typeof vegaEmbed === \"function\") {\n",
       "      displayChart(vegaEmbed);\n",
       "    } else {\n",
       "      loadScript(\"vega\")\n",
       "        .then(() => loadScript(\"vega-lite\"))\n",
       "        .then(() => loadScript(\"vega-embed\"))\n",
       "        .catch(showError)\n",
       "        .then(() => displayChart(vegaEmbed));\n",
       "    }\n",
       "  })({\"config\": {\"view\": {\"continuousWidth\": 400, \"continuousHeight\": 300}}, \"data\": {\"name\": \"data-375d09a8942f32629e328fb17b731289\"}, \"mark\": \"line\", \"encoding\": {\"x\": {\"type\": \"quantitative\", \"field\": \"k\"}, \"y\": {\"type\": \"quantitative\", \"field\": \"inertia\"}}, \"$schema\": \"https://vega.github.io/schema/vega-lite/v4.8.1.json\", \"datasets\": {\"data-375d09a8942f32629e328fb17b731289\": [{\"k\": 1, \"inertia\": 3638.418556227439}, {\"k\": 2, \"inertia\": 2470.513939435053}, {\"k\": 3, \"inertia\": 1491.269469379823}, {\"k\": 4, \"inertia\": 529.018711838724}, {\"k\": 5, \"inertia\": 357.4745141808997}, {\"k\": 6, \"inertia\": 275.49795955419467}, {\"k\": 7, \"inertia\": 212.40749278986283}, {\"k\": 8, \"inertia\": 168.91882685825448}, {\"k\": 9, \"inertia\": 137.45521801782763}, {\"k\": 10, \"inertia\": 108.93658140006279}]}}, {\"mode\": \"vega-lite\"});\n",
       "</script>"
      ],
      "text/plain": [
       "alt.Chart(...)"
      ]
     },
     "execution_count": 45,
     "metadata": {},
     "output_type": "execute_result"
    }
   ],
   "source": [
    "inertia = []\n",
    "k = list(range(1, 11))\n",
    "\n",
    "# Calculate the inertia for the range of k values\n",
    "for i in k:\n",
    "    km = KMeans(n_clusters=i, random_state=0)\n",
    "    km.fit(pcs_df)\n",
    "    inertia.append(km.inertia_)\n",
    "\n",
    "# Create the Elbow Curve using hvPlot\n",
    "elbow_data = {\"k\": k, \"inertia\": inertia}\n",
    "df_elbow = pd.DataFrame(elbow_data)\n",
    "alt.Chart(df_elbow).mark_line().encode(x=\"k\", y=\"inertia\")"
   ]
  },
  {
   "cell_type": "markdown",
   "metadata": {},
   "source": [
    "Running K-Means with `k=<your best value for k here>`"
   ]
  },
  {
   "cell_type": "code",
   "execution_count": 46,
   "metadata": {},
   "outputs": [
    {
     "name": "stdout",
     "output_type": "stream",
     "text": [
      "(532, 9)\n"
     ]
    },
    {
     "data": {
      "text/html": [
       "<div>\n",
       "<style scoped>\n",
       "    .dataframe tbody tr th:only-of-type {\n",
       "        vertical-align: middle;\n",
       "    }\n",
       "\n",
       "    .dataframe tbody tr th {\n",
       "        vertical-align: top;\n",
       "    }\n",
       "\n",
       "    .dataframe thead th {\n",
       "        text-align: right;\n",
       "    }\n",
       "</style>\n",
       "<table border=\"1\" class=\"dataframe\">\n",
       "  <thead>\n",
       "    <tr style=\"text-align: right;\">\n",
       "      <th></th>\n",
       "      <th>Algorithm</th>\n",
       "      <th>ProofType</th>\n",
       "      <th>TotalCoinsMined</th>\n",
       "      <th>TotalCoinSupply</th>\n",
       "      <th>PC1</th>\n",
       "      <th>PC2</th>\n",
       "      <th>PC3</th>\n",
       "      <th>CoinName</th>\n",
       "      <th>Class</th>\n",
       "    </tr>\n",
       "  </thead>\n",
       "  <tbody>\n",
       "    <tr>\n",
       "      <th>42</th>\n",
       "      <td>Scrypt</td>\n",
       "      <td>PoW/PoS</td>\n",
       "      <td>4.199995e+01</td>\n",
       "      <td>42</td>\n",
       "      <td>-0.340776</td>\n",
       "      <td>1.014156</td>\n",
       "      <td>-0.572088</td>\n",
       "      <td>42 Coin</td>\n",
       "      <td>0</td>\n",
       "    </tr>\n",
       "    <tr>\n",
       "      <th>404</th>\n",
       "      <td>Scrypt</td>\n",
       "      <td>PoW/PoS</td>\n",
       "      <td>1.055185e+09</td>\n",
       "      <td>532000000</td>\n",
       "      <td>-0.324095</td>\n",
       "      <td>1.014309</td>\n",
       "      <td>-0.572505</td>\n",
       "      <td>404Coin</td>\n",
       "      <td>0</td>\n",
       "    </tr>\n",
       "    <tr>\n",
       "      <th>1337</th>\n",
       "      <td>X13</td>\n",
       "      <td>PoW/PoS</td>\n",
       "      <td>2.927942e+10</td>\n",
       "      <td>314159265359</td>\n",
       "      <td>2.306822</td>\n",
       "      <td>1.747881</td>\n",
       "      <td>-0.606740</td>\n",
       "      <td>EliteCoin</td>\n",
       "      <td>0</td>\n",
       "    </tr>\n",
       "    <tr>\n",
       "      <th>BTC</th>\n",
       "      <td>SHA-256</td>\n",
       "      <td>PoW</td>\n",
       "      <td>1.792718e+07</td>\n",
       "      <td>21000000</td>\n",
       "      <td>-0.144050</td>\n",
       "      <td>-1.249328</td>\n",
       "      <td>0.186987</td>\n",
       "      <td>Bitcoin</td>\n",
       "      <td>3</td>\n",
       "    </tr>\n",
       "    <tr>\n",
       "      <th>ETH</th>\n",
       "      <td>Ethash</td>\n",
       "      <td>PoW</td>\n",
       "      <td>1.076842e+08</td>\n",
       "      <td>0</td>\n",
       "      <td>-0.154448</td>\n",
       "      <td>-2.009371</td>\n",
       "      <td>0.388266</td>\n",
       "      <td>Ethereum</td>\n",
       "      <td>3</td>\n",
       "    </tr>\n",
       "    <tr>\n",
       "      <th>LTC</th>\n",
       "      <td>Scrypt</td>\n",
       "      <td>PoW</td>\n",
       "      <td>6.303924e+07</td>\n",
       "      <td>84000000</td>\n",
       "      <td>-0.170921</td>\n",
       "      <td>-1.171977</td>\n",
       "      <td>-0.030893</td>\n",
       "      <td>Litecoin</td>\n",
       "      <td>3</td>\n",
       "    </tr>\n",
       "    <tr>\n",
       "      <th>DASH</th>\n",
       "      <td>X11</td>\n",
       "      <td>PoW/PoS</td>\n",
       "      <td>9.031294e+06</td>\n",
       "      <td>22000000</td>\n",
       "      <td>-0.377745</td>\n",
       "      <td>1.369455</td>\n",
       "      <td>-0.506279</td>\n",
       "      <td>Dash</td>\n",
       "      <td>0</td>\n",
       "    </tr>\n",
       "    <tr>\n",
       "      <th>XMR</th>\n",
       "      <td>CryptoNight-V7</td>\n",
       "      <td>PoW</td>\n",
       "      <td>1.720114e+07</td>\n",
       "      <td>0</td>\n",
       "      <td>-0.150460</td>\n",
       "      <td>-2.185808</td>\n",
       "      <td>0.430427</td>\n",
       "      <td>Monero</td>\n",
       "      <td>3</td>\n",
       "    </tr>\n",
       "    <tr>\n",
       "      <th>ETC</th>\n",
       "      <td>Ethash</td>\n",
       "      <td>PoW</td>\n",
       "      <td>1.133597e+08</td>\n",
       "      <td>210000000</td>\n",
       "      <td>-0.152889</td>\n",
       "      <td>-2.009469</td>\n",
       "      <td>0.388247</td>\n",
       "      <td>Ethereum Classic</td>\n",
       "      <td>3</td>\n",
       "    </tr>\n",
       "    <tr>\n",
       "      <th>ZEC</th>\n",
       "      <td>Equihash</td>\n",
       "      <td>PoW</td>\n",
       "      <td>7.383056e+06</td>\n",
       "      <td>21000000</td>\n",
       "      <td>-0.126935</td>\n",
       "      <td>-2.058374</td>\n",
       "      <td>0.407162</td>\n",
       "      <td>ZCash</td>\n",
       "      <td>3</td>\n",
       "    </tr>\n",
       "  </tbody>\n",
       "</table>\n",
       "</div>"
      ],
      "text/plain": [
       "           Algorithm ProofType  TotalCoinsMined TotalCoinSupply       PC1  \\\n",
       "42            Scrypt   PoW/PoS     4.199995e+01              42 -0.340776   \n",
       "404           Scrypt   PoW/PoS     1.055185e+09       532000000 -0.324095   \n",
       "1337             X13   PoW/PoS     2.927942e+10    314159265359  2.306822   \n",
       "BTC          SHA-256       PoW     1.792718e+07        21000000 -0.144050   \n",
       "ETH           Ethash       PoW     1.076842e+08               0 -0.154448   \n",
       "LTC           Scrypt       PoW     6.303924e+07        84000000 -0.170921   \n",
       "DASH             X11   PoW/PoS     9.031294e+06        22000000 -0.377745   \n",
       "XMR   CryptoNight-V7       PoW     1.720114e+07               0 -0.150460   \n",
       "ETC           Ethash       PoW     1.133597e+08       210000000 -0.152889   \n",
       "ZEC         Equihash       PoW     7.383056e+06        21000000 -0.126935   \n",
       "\n",
       "           PC2       PC3          CoinName  Class  \n",
       "42    1.014156 -0.572088           42 Coin      0  \n",
       "404   1.014309 -0.572505           404Coin      0  \n",
       "1337  1.747881 -0.606740         EliteCoin      0  \n",
       "BTC  -1.249328  0.186987           Bitcoin      3  \n",
       "ETH  -2.009371  0.388266          Ethereum      3  \n",
       "LTC  -1.171977 -0.030893          Litecoin      3  \n",
       "DASH  1.369455 -0.506279              Dash      0  \n",
       "XMR  -2.185808  0.430427            Monero      3  \n",
       "ETC  -2.009469  0.388247  Ethereum Classic      3  \n",
       "ZEC  -2.058374  0.407162             ZCash      3  "
      ]
     },
     "execution_count": 46,
     "metadata": {},
     "output_type": "execute_result"
    }
   ],
   "source": [
    "# Initialize the K-Means model\n",
    "model = KMeans(n_clusters=4, random_state=0)\n",
    "\n",
    "# Fit the model\n",
    "model.fit(pcs_df)\n",
    "\n",
    "# Predict clusters\n",
    "predictions = model.predict(pcs_df)\n",
    "\n",
    "# Create a new DataFrame including predicted clusters and cryptocurrencies features\n",
    "clustered_df = pd.concat([crypto_df, pcs_df], axis=1, sort=False)\n",
    "clustered_df[\"CoinName\"] = coins_name[\"CoinName\"]\n",
    "clustered_df[\"Class\"] = model.labels_\n",
    "print(clustered_df.shape)\n",
    "clustered_df.head(10)"
   ]
  },
  {
   "cell_type": "markdown",
   "metadata": {},
   "source": [
    "### Visualizing Results\n",
    "\n",
    "#### 3D-Scatter with Clusters"
   ]
  },
  {
   "cell_type": "code",
   "execution_count": 47,
   "metadata": {},
   "outputs": [
    {
     "data": {
      "application/vnd.plotly.v1+json": {
       "config": {
        "plotlyServerURL": "https://plot.ly"
       },
       "data": [
        {
         "customdata": [
          [
           "Scrypt"
          ],
          [
           "Scrypt"
          ],
          [
           "X13"
          ],
          [
           "X11"
          ],
          [
           "SHA-512"
          ],
          [
           "SHA-256"
          ],
          [
           "SHA-256"
          ],
          [
           "X15"
          ],
          [
           "Scrypt"
          ],
          [
           "Scrypt"
          ],
          [
           "Scrypt"
          ],
          [
           "Scrypt"
          ],
          [
           "Scrypt"
          ],
          [
           "Groestl"
          ],
          [
           "PoS"
          ],
          [
           "Scrypt"
          ],
          [
           "Scrypt"
          ],
          [
           "X11"
          ],
          [
           "X11"
          ],
          [
           "SHA3"
          ],
          [
           "Scrypt"
          ],
          [
           "SHA-256"
          ],
          [
           "Scrypt"
          ],
          [
           "X13"
          ],
          [
           "X13"
          ],
          [
           "NeoScrypt"
          ],
          [
           "Scrypt"
          ],
          [
           "Scrypt"
          ],
          [
           "Scrypt"
          ],
          [
           "X11"
          ],
          [
           "X11"
          ],
          [
           "Multiple"
          ],
          [
           "PHI1612"
          ],
          [
           "X11"
          ],
          [
           "Scrypt"
          ],
          [
           "Scrypt"
          ],
          [
           "Scrypt"
          ],
          [
           "X11"
          ],
          [
           "Multiple"
          ],
          [
           "X13"
          ],
          [
           "Scrypt"
          ],
          [
           "Counterparty"
          ],
          [
           "SHA-256"
          ],
          [
           "Groestl"
          ],
          [
           "Scrypt"
          ],
          [
           "X13"
          ],
          [
           "Scrypt"
          ],
          [
           "Scrypt"
          ],
          [
           "X13"
          ],
          [
           "X11"
          ],
          [
           "Scrypt"
          ],
          [
           "X11"
          ],
          [
           "SHA3"
          ],
          [
           "QUAIT"
          ],
          [
           "X11"
          ],
          [
           "Scrypt"
          ],
          [
           "X13"
          ],
          [
           "SHA-256"
          ],
          [
           "X15"
          ],
          [
           "BLAKE256"
          ],
          [
           "SHA-256"
          ],
          [
           "X11"
          ],
          [
           "SHA-256"
          ],
          [
           "NIST5"
          ],
          [
           "Scrypt"
          ],
          [
           "Scrypt"
          ],
          [
           "X11"
          ],
          [
           "Scrypt"
          ],
          [
           "SHA-256"
          ],
          [
           "PoS"
          ],
          [
           "X11"
          ],
          [
           "SHA-256"
          ],
          [
           "SHA-256"
          ],
          [
           "NIST5"
          ],
          [
           "X11"
          ],
          [
           "POS 3.0"
          ],
          [
           "Scrypt"
          ],
          [
           "Scrypt"
          ],
          [
           "Scrypt"
          ],
          [
           "X13"
          ],
          [
           "X11"
          ],
          [
           "X11"
          ],
          [
           "Scrypt"
          ],
          [
           "SHA-256"
          ],
          [
           "X11"
          ],
          [
           "Scrypt"
          ],
          [
           "Scrypt"
          ],
          [
           "Scrypt"
          ],
          [
           "Scrypt"
          ],
          [
           "SHA-256D"
          ],
          [
           "PoS"
          ],
          [
           "Scrypt"
          ],
          [
           "X11"
          ],
          [
           "PoS"
          ],
          [
           "X13"
          ],
          [
           "X14"
          ],
          [
           "PoS"
          ],
          [
           "SHA-256D"
          ],
          [
           "DPoS"
          ],
          [
           "X11"
          ],
          [
           "X13"
          ],
          [
           "X11"
          ],
          [
           "PoS"
          ],
          [
           "Scrypt"
          ],
          [
           "Scrypt"
          ],
          [
           "PoS"
          ],
          [
           "X11"
          ],
          [
           "SHA-256"
          ],
          [
           "Scrypt"
          ],
          [
           "X11"
          ],
          [
           "Scrypt"
          ],
          [
           "Scrypt"
          ],
          [
           "X11"
          ],
          [
           "Scrypt"
          ],
          [
           "Scrypt"
          ],
          [
           "Scrypt"
          ],
          [
           "Scrypt"
          ],
          [
           "Quark"
          ],
          [
           "QuBit"
          ],
          [
           "Scrypt"
          ],
          [
           "SHA-256"
          ],
          [
           "X11"
          ],
          [
           "Scrypt"
          ],
          [
           "Scrypt"
          ],
          [
           "Scrypt"
          ],
          [
           "Scrypt"
          ],
          [
           "X13"
          ],
          [
           "Scrypt"
          ],
          [
           "Scrypt"
          ],
          [
           "X11"
          ],
          [
           "Blake2S"
          ],
          [
           "X11"
          ],
          [
           "PoS"
          ],
          [
           "X11"
          ],
          [
           "PoS"
          ],
          [
           "X11"
          ],
          [
           "Scrypt"
          ],
          [
           "Scrypt"
          ],
          [
           "Scrypt"
          ],
          [
           "SHA-256"
          ],
          [
           "X11"
          ],
          [
           "Scrypt"
          ],
          [
           "PoS"
          ],
          [
           "Scrypt"
          ],
          [
           "X15"
          ],
          [
           "SHA-256"
          ],
          [
           "POS 3.0"
          ],
          [
           "536"
          ],
          [
           "NIST5"
          ],
          [
           "NIST5"
          ],
          [
           "Skein"
          ],
          [
           "X13"
          ],
          [
           "Scrypt"
          ],
          [
           "X13"
          ],
          [
           "SkunkHash v2 Raptor"
          ],
          [
           "Skein"
          ],
          [
           "X11"
          ],
          [
           "Scrypt"
          ],
          [
           "PoS"
          ],
          [
           "Scrypt"
          ],
          [
           "Scrypt"
          ],
          [
           "SHA-512"
          ],
          [
           "Ouroboros"
          ],
          [
           "X11"
          ],
          [
           "NeoScrypt"
          ],
          [
           "Scrypt"
          ],
          [
           "Lyra2REv2"
          ],
          [
           "Scrypt"
          ],
          [
           "SHA-256"
          ],
          [
           "NIST5"
          ],
          [
           "PHI1612"
          ],
          [
           "Scrypt"
          ],
          [
           "Quark"
          ],
          [
           "POS 2.0"
          ],
          [
           "Scrypt"
          ],
          [
           "SHA-256"
          ],
          [
           "X11"
          ],
          [
           "DPoS"
          ],
          [
           "NIST5"
          ],
          [
           "X13"
          ],
          [
           "Scrypt"
          ],
          [
           "NIST5"
          ],
          [
           "Quark"
          ],
          [
           "Scrypt"
          ],
          [
           "Scrypt"
          ],
          [
           "X11"
          ],
          [
           "Quark"
          ],
          [
           "Scrypt"
          ],
          [
           "Scrypt"
          ],
          [
           "X11"
          ],
          [
           "POS 3.0"
          ],
          [
           "Scrypt"
          ],
          [
           "Scrypt"
          ],
          [
           "X13"
          ],
          [
           "C11"
          ],
          [
           "X11"
          ],
          [
           "XEVAN"
          ],
          [
           "Scrypt"
          ],
          [
           "VBFT"
          ],
          [
           "NIST5"
          ],
          [
           "Scrypt"
          ],
          [
           "Scrypt"
          ],
          [
           "Scrypt"
          ],
          [
           "Green Protocol"
          ],
          [
           "PoS"
          ],
          [
           "Scrypt"
          ],
          [
           "Semux BFT consensus"
          ],
          [
           "Quark"
          ],
          [
           "PoS"
          ],
          [
           "X16R"
          ],
          [
           "Scrypt"
          ],
          [
           "XEVAN"
          ],
          [
           "Scrypt"
          ],
          [
           "Scrypt"
          ],
          [
           "Scrypt"
          ],
          [
           "SHA-256D"
          ],
          [
           "Scrypt"
          ],
          [
           "X15"
          ],
          [
           "Scrypt"
          ],
          [
           "Quark"
          ],
          [
           "SHA-256"
          ],
          [
           "DPoS"
          ],
          [
           "X16R"
          ],
          [
           "Quark"
          ],
          [
           "Quark"
          ],
          [
           "Scrypt"
          ],
          [
           "Lyra2REv2"
          ],
          [
           "Quark"
          ],
          [
           "Scrypt"
          ],
          [
           "X11"
          ],
          [
           "X11"
          ],
          [
           "Scrypt"
          ],
          [
           "PoS"
          ],
          [
           "Keccak"
          ],
          [
           "X11"
          ],
          [
           "Scrypt"
          ],
          [
           "SHA-512"
          ],
          [
           "XEVAN"
          ],
          [
           "XEVAN"
          ],
          [
           "X11"
          ],
          [
           "Quark"
          ],
          [
           "Scrypt"
          ],
          [
           "Quark"
          ],
          [
           "Quark"
          ],
          [
           "Scrypt"
          ],
          [
           "X11"
          ],
          [
           "Scrypt"
          ],
          [
           "XEVAN"
          ],
          [
           "SHA-256D"
          ],
          [
           "X11"
          ],
          [
           "X11"
          ],
          [
           "DPoS"
          ],
          [
           "Scrypt"
          ],
          [
           "X11"
          ],
          [
           "Scrypt"
          ],
          [
           "Scrypt"
          ],
          [
           "SHA-256"
          ],
          [
           "Scrypt"
          ],
          [
           "X11"
          ],
          [
           "Scrypt"
          ],
          [
           "SHA-256"
          ],
          [
           "X11"
          ],
          [
           "Scrypt"
          ],
          [
           "Scrypt"
          ],
          [
           "X11"
          ],
          [
           "Scrypt"
          ],
          [
           "PoS"
          ],
          [
           "X11"
          ],
          [
           "SHA-256"
          ],
          [
           "DPoS"
          ],
          [
           "Scrypt"
          ],
          [
           "Scrypt"
          ],
          [
           "NeoScrypt"
          ],
          [
           "X13"
          ],
          [
           "DPoS"
          ],
          [
           "DPoS"
          ],
          [
           "SHA-256"
          ],
          [
           "PoS"
          ],
          [
           "PoS"
          ],
          [
           "SHA-256"
          ],
          [
           "Scrypt"
          ],
          [
           "Scrypt"
          ]
         ],
         "hovertemplate": "<b>%{hovertext}</b><br><br>Class=%{marker.color}<br>PC1=%{x}<br>PC2=%{y}<br>PC3=%{z}<br>Algorithm=%{customdata[0]}<extra></extra>",
         "hovertext": [
          "42 Coin",
          "404Coin",
          "EliteCoin",
          "Dash",
          "Bitshares",
          "BitcoinDark",
          "PayCoin",
          "KoboCoin",
          "Aurora Coin",
          "BlueCoin",
          "EnergyCoin",
          "BitBar",
          "CryptoBullion",
          "Diamond",
          "Exclusive Coin",
          "FlutterCoin",
          "HoboNickels",
          "HyperStake",
          "IOCoin",
          "MaxCoin",
          "MintCoin",
          "MazaCoin",
          "Nautilus Coin",
          "NavCoin",
          "OpalCoin",
          "Orbitcoin",
          "PotCoin",
          "PhoenixCoin",
          "Reddcoin",
          "SuperCoin",
          "SyncCoin",
          "TeslaCoin",
          "TittieCoin",
          "TorCoin",
          "UnitaryStatus Dollar",
          "UltraCoin",
          "VeriCoin",
          "X11 Coin",
          "Crypti",
          "StealthCoin",
          "ZCC Coin",
          "StorjCoin",
          "Neutron",
          "FairCoin",
          "RubyCoin",
          "Kore",
          "Dnotes",
          "8BIT Coin",
          "Sativa Coin",
          "Ucoin",
          "Vtorrent",
          "IslaCoin",
          "Nexus",
          "Droidz",
          "Squall Coin",
          "Diggits",
          "Paycon",
          "Emercoin",
          "EverGreenCoin",
          "Decred",
          "EDRCoin",
          "Hitcoin",
          "DubaiCoin",
          "PWR Coin",
          "BillaryCoin",
          "GPU Coin",
          "EuropeCoin",
          "ZeitCoin",
          "SwingCoin",
          "Nebuchadnezzar",
          "Ratecoin",
          "Revenu",
          "Clockcoin",
          "VIP Tokens",
          "BitSend",
          "Let it Ride",
          "PutinCoin",
          "iBankCoin",
          "Frankywillcoin",
          "MudraCoin",
          "Lutetium Coin",
          "GoldBlocks",
          "CarterCoin",
          "BitTokens",
          "MustangCoin",
          "ZoneCoin",
          "RootCoin",
          "BitCurrency",
          "Swiscoin",
          "BuzzCoin",
          "Opair",
          "PesoBit",
          "Halloween Coin",
          "CoffeeCoin",
          "RoyalCoin",
          "GanjaCoin V2",
          "TeamUP",
          "LanaCoin",
          "ARK",
          "InsaneCoin",
          "EmberCoin",
          "XenixCoin",
          "FreeCoin",
          "PLNCoin",
          "AquariusCoin",
          "Creatio",
          "Eternity",
          "Eurocoin",
          "BitcoinFast",
          "Stakenet",
          "BitConnect Coin",
          "MoneyCoin",
          "Enigma",
          "Russiacoin",
          "PandaCoin",
          "GameUnits",
          "GAKHcoin",
          "Allsafe",
          "LiteCreed",
          "Klingon Empire Darsek",
          "Internet of People",
          "KushCoin",
          "Printerium",
          "Impeach",
          "Zilbercoin",
          "FirstCoin",
          "FindCoin",
          "OpenChat",
          "RenosCoin",
          "VirtacoinPlus",
          "TajCoin",
          "Impact",
          "Atmos",
          "HappyCoin",
          "MacronCoin",
          "Condensate",
          "Independent Money System",
          "ArgusCoin",
          "LomoCoin",
          "ProCurrency",
          "GoldReserve",
          "GrowthCoin",
          "Phreak",
          "Degas Coin",
          "HTML5 Coin",
          "Ultimate Secure Cash",
          "QTUM",
          "Espers",
          "Denarius",
          "Virta Unique Coin",
          "Bitcoin Planet",
          "BritCoin",
          "Linda",
          "DeepOnion",
          "Signatum",
          "Cream",
          "Monoeci",
          "Draftcoin",
          "Stakecoin",
          "CoinonatX",
          "Ethereum Dark",
          "Obsidian",
          "Cardano",
          "Regalcoin",
          "TrezarCoin",
          "TerraNovaCoin",
          "Rupee",
          "WomenCoin",
          "Theresa May Coin",
          "NamoCoin",
          "LUXCoin",
          "Xios",
          "Bitcloud 2.0",
          "KekCoin",
          "BlackholeCoin",
          "Infinity Economics",
          "Magnet",
          "Lamden Tau",
          "Electra",
          "Bitcoin Diamond",
          "Cash & Back Coin",
          "Bulwark",
          "Kalkulus",
          "GermanCoin",
          "LiteCoin Ultra",
          "PhantomX",
          "Digiwage",
          "Trollcoin",
          "Litecoin Plus",
          "Monkey Project",
          "TokenPay",
          "My Big Coin",
          "Unified Society USDEX",
          "Tokyo Coin",
          "Stipend",
          "Pushi",
          "Ellerium",
          "Velox",
          "Ontology",
          "Bitspace",
          "Briacoin",
          "Ignition",
          "MedicCoin",
          "Bitcoin Green",
          "Deviant Coin",
          "Abjcoin",
          "Semux",
          "Carebit",
          "Zealium",
          "Proton",
          "iDealCash",
          "Bitcoin Incognito",
          "HollyWoodCoin",
          "Swisscoin",
          "Xt3ch",
          "TheVig",
          "EmaratCoin",
          "Dekado",
          "Lynx",
          "Poseidon Quark",
          "BitcoinWSpectrum",
          "Muse",
          "Trivechain",
          "Dystem",
          "Giant",
          "Peony Coin",
          "Absolute Coin",
          "Vitae",
          "TPCash",
          "ARENON",
          "EUNO",
          "MMOCoin",
          "Ketan",
          "XDNA",
          "PAXEX",
          "ThunderStake",
          "Kcash",
          "Bettex coin",
          "BitMoney",
          "Junson Ming Chan Coin",
          "HerbCoin",
          "Oduwa",
          "Galilel",
          "Crypto Sports",
          "Credit",
          "Dash Platinum",
          "Nasdacoin",
          "Beetle Coin",
          "Titan Coin",
          "Award",
          "Insane Coin",
          "ALAX",
          "LiteDoge",
          "TruckCoin",
          "OrangeCoin",
          "BitstarCoin",
          "NeosCoin",
          "HyperCoin",
          "PinkCoin",
          "AudioCoin",
          "IncaKoin",
          "Piggy Coin",
          "Genstake",
          "XiaoMiCoin",
          "CapriCoin",
          " ClubCoin",
          "Radium",
          "Creditbit ",
          "OKCash",
          "Lisk",
          "HiCoin",
          "WhiteCoin",
          "FriendshipCoin",
          "Triangles Coin",
          "EOS",
          "Oxycoin",
          "TigerCash",
          "Particl",
          "Nxt",
          "ZEPHYR",
          "Gapcoin",
          "BitcoinPlus"
         ],
         "legendgroup": "0",
         "marker": {
          "color": [
           0,
           0,
           0,
           0,
           0,
           0,
           0,
           0,
           0,
           0,
           0,
           0,
           0,
           0,
           0,
           0,
           0,
           0,
           0,
           0,
           0,
           0,
           0,
           0,
           0,
           0,
           0,
           0,
           0,
           0,
           0,
           0,
           0,
           0,
           0,
           0,
           0,
           0,
           0,
           0,
           0,
           0,
           0,
           0,
           0,
           0,
           0,
           0,
           0,
           0,
           0,
           0,
           0,
           0,
           0,
           0,
           0,
           0,
           0,
           0,
           0,
           0,
           0,
           0,
           0,
           0,
           0,
           0,
           0,
           0,
           0,
           0,
           0,
           0,
           0,
           0,
           0,
           0,
           0,
           0,
           0,
           0,
           0,
           0,
           0,
           0,
           0,
           0,
           0,
           0,
           0,
           0,
           0,
           0,
           0,
           0,
           0,
           0,
           0,
           0,
           0,
           0,
           0,
           0,
           0,
           0,
           0,
           0,
           0,
           0,
           0,
           0,
           0,
           0,
           0,
           0,
           0,
           0,
           0,
           0,
           0,
           0,
           0,
           0,
           0,
           0,
           0,
           0,
           0,
           0,
           0,
           0,
           0,
           0,
           0,
           0,
           0,
           0,
           0,
           0,
           0,
           0,
           0,
           0,
           0,
           0,
           0,
           0,
           0,
           0,
           0,
           0,
           0,
           0,
           0,
           0,
           0,
           0,
           0,
           0,
           0,
           0,
           0,
           0,
           0,
           0,
           0,
           0,
           0,
           0,
           0,
           0,
           0,
           0,
           0,
           0,
           0,
           0,
           0,
           0,
           0,
           0,
           0,
           0,
           0,
           0,
           0,
           0,
           0,
           0,
           0,
           0,
           0,
           0,
           0,
           0,
           0,
           0,
           0,
           0,
           0,
           0,
           0,
           0,
           0,
           0,
           0,
           0,
           0,
           0,
           0,
           0,
           0,
           0,
           0,
           0,
           0,
           0,
           0,
           0,
           0,
           0,
           0,
           0,
           0,
           0,
           0,
           0,
           0,
           0,
           0,
           0,
           0,
           0,
           0,
           0,
           0,
           0,
           0,
           0,
           0,
           0,
           0,
           0,
           0,
           0,
           0,
           0,
           0,
           0,
           0,
           0,
           0,
           0,
           0,
           0,
           0,
           0,
           0,
           0,
           0,
           0,
           0,
           0,
           0,
           0,
           0,
           0,
           0,
           0,
           0,
           0,
           0,
           0,
           0,
           0,
           0,
           0,
           0,
           0,
           0,
           0
          ],
          "coloraxis": "coloraxis",
          "symbol": "circle"
         },
         "mode": "markers",
         "name": "0",
         "scene": "scene",
         "showlegend": true,
         "type": "scatter3d",
         "x": [
          -0.3407758460635135,
          -0.3240951504855292,
          2.3068216328392013,
          -0.37774462104150136,
          -0.23369281495104238,
          -0.3127333422828839,
          -0.27207171374198647,
          -0.24166037224251974,
          -0.3404350703403593,
          -0.33300343262312454,
          -0.3392705602950112,
          -0.34077177922053886,
          -0.34075604289179146,
          -0.3611922537488661,
          -0.36149518521282853,
          -0.29078913026215497,
          -0.33883270765320417,
          -0.3168816751104813,
          -0.3776391870875436,
          -0.40400587421821255,
          -0.03971353852710868,
          -0.27600398020814787,
          -0.29986510181792164,
          -0.27904985232472707,
          -0.2796728297517785,
          -0.3398800216324105,
          -0.3350727548954677,
          -0.339176009206498,
          0.017807977359722386,
          -0.3367928438956203,
          -0.3780111295092151,
          -0.24814073786151822,
          -0.3325588641803748,
          -0.3779227002316403,
          -0.31598376451787824,
          -0.33945201124316693,
          -0.3019785070005887,
          -0.37788711431372307,
          -0.24860865239260746,
          -0.27945342251683547,
          -0.3318719943020603,
          -0.3333649860994552,
          -0.31194426826461913,
          -0.360613084656827,
          -0.2998452718382653,
          -0.2797483578452524,
          -0.29449471377684855,
          -0.3407578924540369,
          -0.27970047620241517,
          -0.33723831822213035,
          -0.3404920264326297,
          -0.3779926355889639,
          -0.39009818382870715,
          -0.4242019985953389,
          -0.3475713972128462,
          -0.2982452372253546,
          -0.2792216835386573,
          -0.3052848095140717,
          -0.24410353206062652,
          -0.07355113775413218,
          -0.3127042203127807,
          -0.0551691635940862,
          -0.312767947150163,
          -0.23444314860907653,
          -0.3403678419347173,
          -0.2981146076646414,
          -0.37515988641838194,
          0.8543211401819041,
          -0.3125678817936474,
          -0.3611781482697802,
          -0.3758332699203742,
          -0.3113106096360632,
          -0.30897718068075947,
          -0.35595202627045286,
          -0.376726825498154,
          -0.34801592843292695,
          -0.3166429033944481,
          -0.34040599606280725,
          -0.33884329546434394,
          -0.2377802712782694,
          -0.3247162299915522,
          -0.3774660930739752,
          -0.3396094235100956,
          -0.3127489179133003,
          -0.3779818259146065,
          -0.3405952977873041,
          -0.3407521184304242,
          -0.29810328262512475,
          -0.2569912704881384,
          0.03213767053727037,
          -0.36013415698804574,
          -0.34036579886037494,
          -0.3641331562316563,
          -0.359461830168998,
          -0.23921184581163993,
          -0.4257186478633419,
          -0.3592115121780539,
          -0.28272631663893266,
          3.6949108913637123,
          -0.3775739746204241,
          0.8538608083851704,
          -0.37793668347877307,
          -0.36059838284652795,
          -0.34029341978592403,
          -0.34044795039428905,
          -0.3611781482697802,
          -0.3775112905341287,
          -0.31261141726037694,
          -0.34029413418778504,
          -0.30326769516490526,
          -0.3404416866638558,
          -0.3360267854981464,
          -0.377965717774873,
          -0.33965188330128493,
          0.34406942264039664,
          -0.3406411483009496,
          -0.34071176754808524,
          -0.3674714805608376,
          -0.35337848337695626,
          -0.33693587729740493,
          -0.3127253024850843,
          -0.3778755756662871,
          -0.3404893720462789,
          -0.34061648972925734,
          -0.29975188849693335,
          -0.29634164832456106,
          -0.23897946177102317,
          -0.3214503327667737,
          -0.2994926164865561,
          -0.3771407804206756,
          -0.4255244857411668,
          -0.375877633633828,
          -0.3594229012322866,
          -0.3770385395523005,
          -0.35381706653487277,
          -0.3729761280230653,
          -0.34055970332866237,
          -0.3405589221457552,
          -0.3336760737956119,
          0.26094703782575523,
          -0.37751736682534054,
          -0.2823804195264372,
          -0.36121252522258684,
          -0.3397697555282869,
          0.8913088753761462,
          -0.27076126548198,
          -0.34679303955625795,
          0.5762460955086427,
          -0.35748924848712876,
          -0.3559900714904496,
          -0.40308606634802063,
          -0.2793852622586323,
          0.1245433121660908,
          -0.2794560771387892,
          -0.3678671698033308,
          -0.40259034049325465,
          -0.37778996425745287,
          -0.2998260304281098,
          -0.36107876209188977,
          -0.3401945582849097,
          -0.3406946797159297,
          -0.29181444144478885,
          0.6417515237420034,
          -0.377730789593736,
          -0.3348746891933613,
          -0.34065028669871045,
          -0.32593563478479387,
          0.4293149171865409,
          -0.3110698499823135,
          -0.3422420911026913,
          -0.40878918495162286,
          -0.3406005853988933,
          -0.40651020482551675,
          -0.3410701582312395,
          -0.34047079960564924,
          -0.09837748282345678,
          -0.3765224246220276,
          3.699771382993737,
          0.20257284877986786,
          -0.2761235902912815,
          -0.33792872436164734,
          -0.31665450431049913,
          -0.36735726367585336,
          0.07398377942078695,
          -0.3396088133776644,
          -0.37710390361708657,
          -0.3665213726708873,
          -0.32716224972714386,
          -0.34071683772929173,
          -0.3372102170845666,
          -0.3482981586846636,
          -0.28792672782733336,
          -0.3362575124861237,
          -0.23076825276437535,
          -0.36818108914260733,
          -0.377807293019995,
          -0.33435113526546895,
          -0.29898540640639837,
          -0.3356701152163243,
          -0.35708787488346805,
          -0.3407442221829598,
          -0.3407259186569161,
          -0.2933614131189708,
          -0.3364930224949394,
          -0.36067282544155144,
          -0.34044218026897416,
          3.8946169125142998,
          -0.40517658936278667,
          -0.36086169505602933,
          -0.3218545676206461,
          -0.2872670269299776,
          -0.3040638014027547,
          -0.2995198973935986,
          -0.14365560296938953,
          -0.29977233865277486,
          -0.3480922353535627,
          -0.3399157796412429,
          -0.20284866554640218,
          2.2303749326275835,
          -0.36306243519718423,
          -0.2708887480745553,
          0.9988086854022616,
          -0.3617885117292377,
          -0.3674709397006998,
          -0.4081956497686593,
          -0.1804241101784563,
          -0.36646200568642745,
          -0.3661892100120572,
          -0.333616091184935,
          -0.33678723972824454,
          -0.3772800801308579,
          -0.297015285559375,
          -0.3599609024107009,
          -0.35520346968730626,
          -0.3366486269457764,
          -0.20012481146228614,
          -0.20099361783694228,
          -0.2937461195451894,
          0.45698529869401766,
          -0.12690376746955465,
          -0.40748960445772214,
          -0.34044612320464407,
          -0.4079461456933974,
          -0.3675880301195024,
          0.5668853833547778,
          -0.33726459387097246,
          -0.3399286574805078,
          -0.3288016717102542,
          -0.3027757184329456,
          -0.3748431968931795,
          -0.3775075171395686,
          3.7120261859142656,
          0.09488058893338239,
          -0.3750440192431206,
          -0.33931384953212973,
          -0.3401392833725484,
          -0.27210441740207675,
          -0.3406580394145422,
          -0.3691269073066482,
          -0.254296266780825,
          -0.09212122244900219,
          -0.3648720127193226,
          -0.3399355306004798,
          -0.33299284272038865,
          -0.37407261066294056,
          -0.3383733737640857,
          -0.36145407470627977,
          -0.30348165504485847,
          -0.31124690697037494,
          3.695303049437227,
          -0.10685697772405062,
          -0.33556525371620527,
          -0.3395056422563464,
          -0.27985564702006427,
          3.705183826430646,
          3.7064294913474614,
          -0.25298159556842886,
          -0.3613898609122953,
          -0.3606195428580335,
          2.4605867288730887,
          -0.3388197981666245,
          -0.30016912530158163
         ],
         "y": [
          1.0141556205706725,
          1.0143089876618105,
          1.747880840468063,
          1.369455069820683,
          1.6705325381576317,
          0.9367815100526896,
          0.5919459182796818,
          2.0181064129385193,
          1.0141546146515006,
          1.0144009819949105,
          1.0142031398190383,
          1.0141553982190066,
          1.014155544222979,
          1.013467722645474,
          1.3603174232089355,
          0.08699798435178575,
          1.0141327786490888,
          1.0252659671411515,
          1.3694583981847885,
          2.2766564844687522,
          0.6775337548321456,
          0.9362592874394755,
          0.6693098777219687,
          1.8866410769242816,
          1.8866214106248005,
          0.627466000207117,
          1.0140410152158537,
          1.0141373748485325,
          1.0254754799635666,
          1.0246374066325996,
          1.3694620895409644,
          0.010295586705685436,
          1.5976953115778498,
          1.3694578665150936,
          1.0138158175066103,
          1.0141272588938715,
          0.05537668095904514,
          1.3694621467775414,
          0.010350968307067514,
          1.88662833692454,
          1.0137351711236429,
          1.2722191674459629,
          0.9367741494231255,
          1.0134890786873516,
          0.669321854448751,
          1.8866106079953735,
          0.6691399979447653,
          1.014156187363944,
          1.8866135225912248,
          1.0246093132254812,
          1.0141505497179946,
          1.369462674062963,
          2.6856011511483415,
          2.125259489533787,
          0.8789636949373277,
          0.6693022118831858,
          1.8866005760964273,
          0.9363305523448227,
          2.0182563728300225,
          1.025734502101157,
          0.9367824293819635,
          1.361028063528874,
          0.9367884852144438,
          1.6830295663811823,
          1.014139036379268,
          0.6692214137707664,
          1.3692827120621696,
          0.6363055439325557,
          0.9367741058378077,
          1.3603134009388023,
          1.3694782268027292,
          0.9366856089299305,
          0.9365472166771787,
          1.6791306076971577,
          1.3694051210112295,
          1.2720377142579025,
          1.013514398299856,
          1.0141361950213528,
          1.0141464749782525,
          1.541677706943785,
          1.0245577399015953,
          1.3694442196629664,
          1.014129304949867,
          0.9367817198858722,
          1.3694609107201767,
          1.0141465880949407,
          1.0141563696396938,
          0.6693768459782545,
          0.12579532212922792,
          2.0468776078969184,
          1.3603084753709178,
          1.0141685650676984,
          1.3688479008236867,
          1.3603535515803837,
          1.5417710664277375,
          2.073817163853378,
          1.3601783546981498,
          2.0457028023585693,
          1.7665543934916395,
          1.369454844600369,
          1.9218087707962477,
          1.3694617371543645,
          1.3603106572599253,
          1.0141438130435614,
          1.0141365074963766,
          1.3603134009388023,
          1.3694357775749506,
          0.936786762067549,
          1.0141476769584077,
          0.9324426752502999,
          1.0141465266286995,
          1.01384908373089,
          1.3694600161689905,
          1.0140900820362921,
          0.6668389694219676,
          1.014150752902109,
          1.0141553173258349,
          1.3938499158738813,
          0.7261918927062131,
          1.0139260774542482,
          0.9367824653833227,
          1.3694598073419102,
          1.014150633512294,
          1.0141452643430882,
          0.6692862183350835,
          0.1269232884997864,
          1.5417699666947102,
          1.0140641646119335,
          0.669308836043778,
          1.3694194127908683,
          2.0679619214268548,
          1.3694522728249996,
          1.3603054699755206,
          1.3694226403549017,
          1.3602791965302017,
          1.369270272173541,
          1.0141475629403678,
          1.0141424047941114,
          1.01367821951341,
          0.556166521135624,
          1.3694496163248473,
          0.6684701322872527,
          1.3603053004351358,
          1.014113720624834,
          1.9909802356991824,
          0.5918556911809154,
          1.2720296670670006,
          2.059523361693552,
          1.6791382025716737,
          1.679108360825058,
          2.0431199737219417,
          1.8866094427722178,
          0.9937685071258817,
          1.8866149955077594,
          1.4783640912718996,
          2.0431356229135456,
          1.369462402419254,
          0.6693102511394167,
          1.3602873548290206,
          1.0141401206832465,
          1.0141552364594668,
          1.671159531308549,
          1.2694776220911956,
          1.369451998813176,
          0.6273460431391561,
          1.0141485469083116,
          0.6016736899438867,
          1.0209278192165445,
          0.9367793043589634,
          1.6787847096815527,
          1.9429861505231014,
          1.0141464211743616,
          1.7386136216432166,
          1.3113825711856741,
          1.0141548759838417,
          0.5911241526826315,
          1.3694080659447423,
          1.766444757502212,
          1.675779539700596,
          1.8865861328987752,
          1.0140981782538305,
          1.3342889828727857,
          1.3938500138577272,
          0.992172431779554,
          1.014087232507567,
          1.3694556533458235,
          1.3938062486251308,
          1.013954002298272,
          1.0141546772757117,
          1.0246094988004857,
          1.2720347677375106,
          0.0464441947717545,
          1.0141355018430456,
          1.541478146979738,
          1.0586105617950168,
          1.3694509867916034,
          1.4456912884088498,
          0.6692620093653185,
          1.3793592363229885,
          1.6791228120935862,
          1.014154514325155,
          1.014153689078445,
          0.6691757742492885,
          1.3354262457829902,
          1.3602816491597602,
          1.014145107989686,
          1.7628205518206959,
          1.7386557215331089,
          1.3602812991059612,
          0.5805913738842758,
          1.0122516055522086,
          0.955215441760727,
          0.6693138862085397,
          1.0132227697562346,
          0.6692932895719397,
          2.048834834720928,
          1.0141238429970172,
          1.6733881552535061,
          0.0596662832738614,
          1.3935436311412928,
          0.5919216947430832,
          1.5413076910567467,
          0.9254302619116437,
          1.393845723777573,
          1.738697107220976,
          0.6612499709227198,
          0.9465002225228816,
          1.393830764982593,
          1.01368011305872,
          1.0245989994851061,
          1.3694500917637642,
          0.6692287947480876,
          1.3602185368522188,
          1.0365683042819342,
          1.024571806469039,
          1.0059682149575686,
          2.316204794583921,
          1.1008542602330582,
          0.8799351399275369,
          1.0312632348821347,
          1.7386851268670755,
          1.0141512972736204,
          1.7386952429039988,
          1.3938473801009805,
          0.9903345628113815,
          1.0246086942080683,
          1.0141234364663267,
          1.4455578027038738,
          2.0468279082105956,
          1.369267454370506,
          1.36945694254592,
          1.7664808558408875,
          1.0033550330053307,
          1.369555756684574,
          1.014061467577093,
          1.0141376535549111,
          0.5919389228914941,
          1.014159339548427,
          1.369391785287972,
          1.0095195804692332,
          0.943627989116402,
          1.3691753406190277,
          1.0141716249526138,
          1.0141207049454373,
          1.36944050443741,
          1.0141192178750682,
          1.3603124072397121,
          1.035908854089269,
          0.9367702073399572,
          1.7665422769821477,
          0.6683926724856697,
          1.0141096513022387,
          0.627438253804656,
          1.8866155552224175,
          1.7669663829955664,
          1.7670057064417224,
          0.5918558003871013,
          1.3603146910171968,
          1.4564239383855617,
          0.8170273551642743,
          1.0140419874887667,
          0.6693109294372648
         ],
         "z": [
          -0.572088219040818,
          -0.5725051062821884,
          -0.6067399051680022,
          -0.5062792173721798,
          -0.09607273153587571,
          -0.3542316399165168,
          -0.07101197650138111,
          -0.5823407695091404,
          -0.5720960027370638,
          -0.5723132664357118,
          -0.5721318040451545,
          -0.5720882746794977,
          -0.572088668198649,
          -0.39086641311759307,
          -0.12899842207852927,
          -0.5132786363484455,
          -0.5721295729896643,
          -0.2236460287290881,
          -0.506282270173768,
          -0.571553414510351,
          -0.29640718180265674,
          -0.35499729466916347,
          -0.28887257817646705,
          -0.5708983994573764,
          -0.5708803613737287,
          -0.29129734824742315,
          -0.5722011687505222,
          -0.5721223661204493,
          -0.5824708825595858,
          -0.22306950811618398,
          -0.5062742338944394,
          0.0766659538013409,
          -0.19004747700348268,
          -0.5062755520461955,
          -0.5726072791213855,
          -0.5721141261004029,
          -0.46466990762820715,
          -0.506277141507889,
          0.0766670779966411,
          -0.5708867142300038,
          -0.5722217858298213,
          -0.23081848793502424,
          -0.3542487721807543,
          -0.3908837269224476,
          -0.2888751625654783,
          -0.5708766835935287,
          -0.2889679655236315,
          -0.5720887388862395,
          -0.5708783184709698,
          -0.22305412475014266,
          -0.5720939521199151,
          -0.5062747695033804,
          -0.3671804227932587,
          -0.5790200045808239,
          -0.24481602136499314,
          -0.2889090668838589,
          -0.5708872120979545,
          -0.3543258017726666,
          -0.5823102457663641,
          -0.42511875927277104,
          -0.35423248313251493,
          -0.5123234068612108,
          -0.35423206671660806,
          -0.5121469102775783,
          -0.5720948145348974,
          -0.2888978095163317,
          -0.5063090821802839,
          -0.3099937711820836,
          -0.3542341944266938,
          -0.12900511694753392,
          -0.5063279750727149,
          -0.35424789634768866,
          -0.35427790498511674,
          -0.5086174834579946,
          -0.5062941510743473,
          -0.08433215796768023,
          -0.5725384976006522,
          -0.5720934199004684,
          -0.5721317512432401,
          -0.28767031059761805,
          -0.22333755572705385,
          -0.5062838032999626,
          -0.5721108106956502,
          -0.3542313131708217,
          -0.5062747097705831,
          -0.5720908376946068,
          -0.5720889060709824,
          -0.28892560122629557,
          -0.46789856090249216,
          -0.6674578569477162,
          -0.12902863632002942,
          -0.5721000918128993,
          -0.5064897041780658,
          -0.129052327503573,
          -0.2876533974602591,
          -0.568590388047398,
          -0.12902714845872898,
          -0.6598933522238248,
          -0.14504411450718155,
          -0.5062831644490021,
          -0.6035958086200227,
          -0.5062759108351462,
          -0.12901817661374412,
          -0.5720973992748296,
          -0.5720924950237373,
          -0.12900511694753392,
          -0.5062812522141392,
          -0.35423541869294745,
          -0.572098066884663,
          -0.3633298844036531,
          -0.5720944157616059,
          -0.5721448877374663,
          -0.5062749276939024,
          -0.5721028722745221,
          -0.3034797917097274,
          -0.572090504037657,
          -0.5720896624591243,
          -0.18107473411832126,
          -0.35210292350306827,
          -0.5721372834434013,
          -0.35423199694691204,
          -0.5062769967804364,
          -0.5720940289767019,
          -0.5720901081314601,
          -0.2888710331916002,
          -0.43045155503167953,
          -0.28765863209116554,
          -0.5725235412295488,
          -0.28888109639942455,
          -0.5062870105594671,
          -0.7513901981426354,
          -0.5063223421030013,
          -0.1290447217611993,
          -0.5062899709064327,
          -0.12917104280229214,
          -0.506357900151561,
          -0.5720918419650206,
          -0.5720909467064943,
          -0.5721695493676342,
          -0.07712881843771333,
          -0.5062835610971251,
          -0.28913236900156447,
          -0.12900287916554473,
          -0.5721043047258463,
          -0.6040072752255441,
          -0.07102661440516836,
          -0.08435930424227413,
          -0.7142709737304971,
          -0.5085829130298064,
          -0.5086126546428928,
          -0.6486396053459832,
          -0.5708849605556966,
          -0.579349315715952,
          -0.5708842894368784,
          -0.05421617507054685,
          -0.6486539589068766,
          -0.50627945658494,
          -0.2888735571683406,
          -0.12900282621719328,
          -0.5720990551449656,
          -0.5720900473758085,
          -0.09482582527580208,
          -0.08558462802970937,
          -0.5062789966517461,
          -0.291393047811303,
          -0.5720898998466959,
          -0.10013397744441122,
          -0.591279890839642,
          -0.35427011493079946,
          -0.5088765421209897,
          -0.4725167420429393,
          -0.5720906845937461,
          -0.46431958383992117,
          -0.04369705129148582,
          -0.5720952142446748,
          -0.07492461357005355,
          -0.506299448222045,
          -0.1451382578945814,
          -0.5210733190493728,
          -0.5709570376970948,
          -0.5721445658063907,
          -0.22536488075682895,
          -0.18107742002152574,
          -0.5778853829292332,
          -0.5721033739024812,
          -0.5062942903632752,
          -0.18108919884109978,
          -0.5723705788610488,
          -0.57208943064683,
          -0.22305481416731868,
          -0.08432504214232649,
          -0.47045115845447555,
          -0.5721902218335185,
          -0.28779879643688067,
          -0.39913213947513376,
          -0.506277030004985,
          -0.4504564878020167,
          -0.2888846537720862,
          -0.15989732803516435,
          -0.5085895650162096,
          -0.5720887619809742,
          -0.5720890434709017,
          -0.28900077982986017,
          -0.07057494308709379,
          -0.1290112999980448,
          -0.5720941529874726,
          -0.21283856906149654,
          -0.46435819818809176,
          -0.1290068252753163,
          -0.053923803474411544,
          -0.5730011910575599,
          -0.18899870790596202,
          -0.28888135339786064,
          -0.5765285055340408,
          -0.2888718077156916,
          -0.6589208347077197,
          -0.5721026857118058,
          -0.29909866465100055,
          -0.5505885700692994,
          -0.18112350338702307,
          -0.07103532517667262,
          -0.12399058152376224,
          -0.33716105219340764,
          -0.18107400433279588,
          -0.46429499063020385,
          -0.2902357707509067,
          -0.3833551966162553,
          -0.18110130130922836,
          -0.5721712861421974,
          -0.2230628371284152,
          -0.5062891892367266,
          -0.2889248011264785,
          -0.1290167560684944,
          -0.3787407074160264,
          -0.223061259766359,
          -0.5739243805336193,
          -0.004077908771251819,
          -0.16723524730385114,
          -0.13891819042406195,
          -0.2291467695913296,
          -0.4643093648659972,
          -0.5720951569901109,
          -0.4643004898434816,
          -0.18107156198127075,
          -0.5890759921494284,
          -0.22305340122063314,
          -0.5721023128386779,
          -0.4505625044553563,
          -0.6596241770427118,
          -0.5063137791341107,
          -0.5062850887010643,
          -0.14543097073852598,
          -0.5803540572416247,
          -0.5063601456116974,
          -0.572105702423352,
          -0.5720999096521635,
          -0.0710099735304542,
          -0.572091630094493,
          -0.5064693529301789,
          -0.5732876732655459,
          -0.36059851070720367,
          -0.5065304313530009,
          -0.5721106864582316,
          -0.5722638766669392,
          -0.5063624302663239,
          -0.5721379031949435,
          -0.12899849424931784,
          -0.3653256767001445,
          -0.3542643671054957,
          -0.14505113100428813,
          -0.2932195604310906,
          -0.5722018175458798,
          -0.2913011813040854,
          -0.5708750530576427,
          -0.1453570937099947,
          -0.1453931614822623,
          -0.07144203591751593,
          -0.12900039899105537,
          -0.097289440653214,
          -0.09289033660944353,
          -0.5721137954505796,
          -0.28886566126585583
         ]
        },
        {
         "customdata": [
          [
           "SHA-256"
          ],
          [
           "Ethash"
          ],
          [
           "Scrypt"
          ],
          [
           "CryptoNight-V7"
          ],
          [
           "Ethash"
          ],
          [
           "Equihash"
          ],
          [
           "Multiple"
          ],
          [
           "Scrypt"
          ],
          [
           "X11"
          ],
          [
           "Scrypt"
          ],
          [
           "Multiple"
          ],
          [
           "Scrypt"
          ],
          [
           "SHA-256"
          ],
          [
           "Scrypt"
          ],
          [
           "Scrypt"
          ],
          [
           "Quark"
          ],
          [
           "Groestl"
          ],
          [
           "Scrypt"
          ],
          [
           "Scrypt"
          ],
          [
           "Scrypt"
          ],
          [
           "X11"
          ],
          [
           "Scrypt"
          ],
          [
           "Multiple"
          ],
          [
           "SHA-256"
          ],
          [
           "Scrypt"
          ],
          [
           "Scrypt"
          ],
          [
           "Scrypt"
          ],
          [
           "Scrypt"
          ],
          [
           "Scrypt"
          ],
          [
           "NeoScrypt"
          ],
          [
           "Scrypt"
          ],
          [
           "Scrypt"
          ],
          [
           "Scrypt"
          ],
          [
           "Scrypt"
          ],
          [
           "SHA-256"
          ],
          [
           "Scrypt"
          ],
          [
           "Scrypt"
          ],
          [
           "Scrypt"
          ],
          [
           "Scrypt"
          ],
          [
           "HybridScryptHash256"
          ],
          [
           "Scrypt"
          ],
          [
           "Scrypt"
          ],
          [
           "SHA-256"
          ],
          [
           "Scrypt"
          ],
          [
           "Scrypt"
          ],
          [
           "Scrypt"
          ],
          [
           "Scrypt"
          ],
          [
           "SHA-256"
          ],
          [
           "SHA-256"
          ],
          [
           "SHA-256"
          ],
          [
           "SHA-256"
          ],
          [
           "SHA-256"
          ],
          [
           "X11"
          ],
          [
           "Scrypt"
          ],
          [
           "Lyra2REv2"
          ],
          [
           "Scrypt"
          ],
          [
           "SHA-256"
          ],
          [
           "CryptoNight"
          ],
          [
           "CryptoNight"
          ],
          [
           "Shabal256"
          ],
          [
           "Scrypt"
          ],
          [
           "Scrypt"
          ],
          [
           "Scrypt"
          ],
          [
           "Scrypt"
          ],
          [
           "Scrypt"
          ],
          [
           "Scrypt"
          ],
          [
           "Stanford Folding"
          ],
          [
           "Multiple"
          ],
          [
           "QuBit"
          ],
          [
           "Scrypt"
          ],
          [
           "Scrypt"
          ],
          [
           "M7 POW"
          ],
          [
           "Scrypt"
          ],
          [
           "SHA-256"
          ],
          [
           "Scrypt"
          ],
          [
           "X11"
          ],
          [
           "Lyra2RE"
          ],
          [
           "SHA-256"
          ],
          [
           "X11"
          ],
          [
           "Scrypt"
          ],
          [
           "Scrypt"
          ],
          [
           "Ethash"
          ],
          [
           "Blake2b"
          ],
          [
           "X11"
          ],
          [
           "SHA-256"
          ],
          [
           "Scrypt"
          ],
          [
           "1GB AES Pattern Search"
          ],
          [
           "Scrypt"
          ],
          [
           "SHA-256"
          ],
          [
           "X11"
          ],
          [
           "Dagger"
          ],
          [
           "Scrypt"
          ],
          [
           "X11GOST"
          ],
          [
           "Scrypt"
          ],
          [
           "Scrypt"
          ],
          [
           "X11"
          ],
          [
           "Scrypt"
          ],
          [
           "X11"
          ],
          [
           "Equihash"
          ],
          [
           "CryptoNight"
          ],
          [
           "SHA-256"
          ],
          [
           "Multiple"
          ],
          [
           "Scrypt"
          ],
          [
           "SHA-256"
          ],
          [
           "Scrypt"
          ],
          [
           "Lyra2Z"
          ],
          [
           "Ethash"
          ],
          [
           "Equihash"
          ],
          [
           "Scrypt"
          ],
          [
           "X11"
          ],
          [
           "X11"
          ],
          [
           "CryptoNight"
          ],
          [
           "Scrypt"
          ],
          [
           "CryptoNight"
          ],
          [
           "Lyra2RE"
          ],
          [
           "X11"
          ],
          [
           "CryptoNight-V7"
          ],
          [
           "Scrypt"
          ],
          [
           "X11"
          ],
          [
           "Equihash"
          ],
          [
           "Scrypt"
          ],
          [
           "Lyra2RE"
          ],
          [
           "Dagger-Hashimoto"
          ],
          [
           "Scrypt"
          ],
          [
           "NIST5"
          ],
          [
           "Scrypt"
          ],
          [
           "SHA-256"
          ],
          [
           "Scrypt"
          ],
          [
           "CryptoNight-V7"
          ],
          [
           "Argon2d"
          ],
          [
           "Blake2b"
          ],
          [
           "Cloverhash"
          ],
          [
           "CryptoNight"
          ],
          [
           "X11"
          ],
          [
           "Scrypt"
          ],
          [
           "Scrypt"
          ],
          [
           "X11"
          ],
          [
           "X11"
          ],
          [
           "CryptoNight"
          ],
          [
           "Time Travel"
          ],
          [
           "Scrypt"
          ],
          [
           "Keccak"
          ],
          [
           "X11"
          ],
          [
           "SHA-256"
          ],
          [
           "Scrypt"
          ],
          [
           "Scrypt"
          ],
          [
           "Scrypt"
          ],
          [
           "Scrypt"
          ],
          [
           "Scrypt"
          ],
          [
           "Scrypt"
          ],
          [
           "CryptoNight"
          ],
          [
           "Equihash"
          ],
          [
           "X11"
          ],
          [
           "NeoScrypt"
          ],
          [
           "Equihash"
          ],
          [
           "Dagger"
          ],
          [
           "Scrypt"
          ],
          [
           "X11"
          ],
          [
           "NeoScrypt"
          ],
          [
           "Ethash"
          ],
          [
           "NeoScrypt"
          ],
          [
           "Multiple"
          ],
          [
           "CryptoNight"
          ],
          [
           "CryptoNight"
          ],
          [
           "Ethash"
          ],
          [
           "X11"
          ],
          [
           "CryptoNight-V7"
          ],
          [
           "Scrypt"
          ],
          [
           "BLAKE256"
          ],
          [
           "X11"
          ],
          [
           "NeoScrypt"
          ],
          [
           "NeoScrypt"
          ],
          [
           "Scrypt"
          ],
          [
           "X11"
          ],
          [
           "SHA-256"
          ],
          [
           "C11"
          ],
          [
           "Ethash"
          ],
          [
           "CryptoNight"
          ],
          [
           "SkunkHash"
          ],
          [
           "CryptoNight"
          ],
          [
           "Scrypt"
          ],
          [
           "Dagger"
          ],
          [
           "Lyra2REv2"
          ],
          [
           "Scrypt"
          ],
          [
           "Scrypt"
          ],
          [
           "X11"
          ],
          [
           "Ethash"
          ],
          [
           "CryptoNight"
          ],
          [
           "Scrypt"
          ],
          [
           "IMesh"
          ],
          [
           "Equihash"
          ],
          [
           "Lyra2Z"
          ],
          [
           "X11"
          ],
          [
           "CryptoNight"
          ],
          [
           "NIST5"
          ],
          [
           "Lyra2RE"
          ],
          [
           "Tribus"
          ],
          [
           "Lyra2Z"
          ],
          [
           "CryptoNight"
          ],
          [
           "CryptoNight Heavy"
          ],
          [
           "CryptoNight"
          ],
          [
           "Jump Consistent Hash"
          ],
          [
           "CryptoNight"
          ],
          [
           "X16R"
          ],
          [
           "HMQ1725"
          ],
          [
           "X11"
          ],
          [
           "Scrypt"
          ],
          [
           "CryptoNight-V7"
          ],
          [
           "Cryptonight-GPU"
          ],
          [
           "XEVAN"
          ],
          [
           "CryptoNight Heavy"
          ],
          [
           "SHA-256"
          ],
          [
           "X11"
          ],
          [
           "X16R"
          ],
          [
           "Equihash"
          ],
          [
           "Lyra2Z"
          ],
          [
           "SHA-256"
          ],
          [
           "CryptoNight"
          ],
          [
           "Blake"
          ],
          [
           "Blake"
          ],
          [
           "Equihash"
          ],
          [
           "Exosis"
          ],
          [
           "Scrypt"
          ],
          [
           "Equihash"
          ],
          [
           "Equihash"
          ],
          [
           "QuBit"
          ],
          [
           "SHA-256"
          ],
          [
           "X13"
          ],
          [
           "SHA-256"
          ],
          [
           "Scrypt"
          ],
          [
           "NeoScrypt"
          ],
          [
           "Blake"
          ],
          [
           "Scrypt"
          ],
          [
           "SHA-256"
          ],
          [
           "Scrypt"
          ],
          [
           "Groestl"
          ],
          [
           "Scrypt"
          ],
          [
           "Scrypt"
          ],
          [
           "Multiple"
          ],
          [
           "Equihash+Scrypt"
          ],
          [
           "Ethash"
          ],
          [
           "CryptoNight"
          ],
          [
           "Equihash"
          ]
         ],
         "hovertemplate": "<b>%{hovertext}</b><br><br>Class=%{marker.color}<br>PC1=%{x}<br>PC2=%{y}<br>PC3=%{z}<br>Algorithm=%{customdata[0]}<extra></extra>",
         "hovertext": [
          "Bitcoin",
          "Ethereum",
          "Litecoin",
          "Monero",
          "Ethereum Classic",
          "ZCash",
          "DigiByte",
          "ProsperCoin",
          "Spreadcoin",
          "Argentum",
          "MyriadCoin",
          "MoonCoin",
          "ZetaCoin",
          "SexCoin",
          "Quatloo",
          "QuarkCoin",
          "Riecoin",
          "Digitalcoin ",
          "Catcoin",
          "CannaCoin",
          "CryptCoin",
          "CasinoCoin",
          "Verge",
          "DevCoin",
          "EarthCoin",
          "E-Gulden",
          "Einsteinium",
          "Emerald",
          "Franko",
          "FeatherCoin",
          "GrandCoin",
          "GlobalCoin",
          "GoldCoin",
          "Infinite Coin",
          "IXcoin",
          "KrugerCoin",
          "LuckyCoin",
          "Litebar ",
          "MegaCoin",
          "MediterraneanCoin",
          "MinCoin",
          "NobleCoin",
          "Namecoin",
          "NyanCoin",
          "RonPaulCoin",
          "StableCoin",
          "SmartCoin",
          "SysCoin",
          "TigerCoin",
          "TerraCoin",
          "UnbreakableCoin",
          "Unobtanium",
          "UroCoin",
          "ViaCoin",
          "Vertcoin",
          "WorldCoin",
          "JouleCoin",
          "ByteCoin",
          "DigitalNote ",
          "BurstCoin",
          "MonaCoin",
          "Gulden",
          "PesetaCoin",
          "Wild Beast Coin",
          "Flo",
          "ArtByte",
          "Folding Coin",
          "Unitus",
          "CypherPunkCoin",
          "OmniCron",
          "GreenCoin",
          "Cryptonite",
          "MasterCoin",
          "SoonCoin",
          "1Credit",
          "MarsCoin ",
          "Crypto",
          "Anarchists Prime",
          "BowsCoin",
          "Song Coin",
          "BitZeny",
          "Expanse",
          "Siacoin",
          "MindCoin",
          "I0coin",
          "Revolution VR",
          "HOdlcoin",
          "Gamecredits",
          "CarpeDiemCoin",
          "Adzcoin",
          "SoilCoin",
          "YoCoin",
          "SibCoin",
          "SafeExchangeCoin",
          "Francs",
          "BolivarCoin",
          "Omni",
          "PizzaCoin",
          "Komodo",
          "Karbo",
          "ZayedCoin",
          "Circuits of Value",
          "DopeCoin",
          "DollarCoin",
          "Shilling",
          "ZCoin",
          "Elementrem",
          "ZClassic",
          "KiloCoin",
          "ArtexCoin",
          "Kurrent",
          "Cannabis Industry Coin",
          "OsmiumCoin",
          "Bikercoins",
          "HexxCoin",
          "PacCoin",
          "Citadel",
          "BeaverCoin",
          "VaultCoin",
          "Zero",
          "Canada eCoin",
          "Zoin",
          "DubaiCoin",
          "EB3coin",
          "Coinonat",
          "BenjiRolls",
          "ILCoin",
          "EquiTrader",
          "Quantum Resistant Ledger",
          "Dynamic",
          "Nano",
          "ChanCoin",
          "Dinastycoin",
          "DigitalPrice",
          "Unify",
          "SocialCoin",
          "ArcticCoin",
          "DAS",
          "LeviarCoin",
          "Bitcore",
          "gCn Coin",
          "SmartCash",
          "Onix",
          "Bitcoin Cash",
          "Sojourn Coin",
          "NewYorkCoin",
          "FrazCoin",
          "Kronecoin",
          "AdCoin",
          "Linx",
          "Sumokoin",
          "BitcoinZ",
          "Elements",
          "VIVO Coin",
          "Bitcoin Gold",
          "Pirl",
          "eBoost",
          "Pura",
          "Innova",
          "Ellaism",
          "GoByte",
          "SHIELD",
          "UltraNote",
          "BitCoal",
          "DaxxCoin",
          "AC3",
          "Lethean",
          "PopularCoin",
          "Photon",
          "Sucre",
          "SparksPay",
          "GunCoin",
          "IrishCoin",
          "Pioneer Coin",
          "UnitedBitcoin",
          "Interzone",
          "1717 Masonic Commemorative Token",
          "TurtleCoin",
          "MUNcoin",
          "Niobio Cash",
          "ShareChain",
          "Travelflex",
          "KREDS",
          "BitFlip",
          "LottoCoin",
          "Crypto Improvement Fund",
          "Callisto Network",
          "BitTube",
          "Poseidon",
          "Aidos Kuneen",
          "Bitrolium",
          "Alpenschillling",
          "FuturoCoin",
          "Monero Classic",
          "Jumpcoin",
          "Infinex",
          "KEYCO",
          "GINcoin",
          "PlatinCoin",
          "Loki",
          "Newton Coin",
          "MassGrid",
          "PluraCoin",
          "Motion",
          "PlusOneCoin",
          "Axe",
          "HexCoin",
          "Webchain",
          "Ryo",
          "Urals Coin",
          "Qwertycoin",
          "Project Pai",
          "Azart",
          "Xchange",
          "CrypticCoin",
          "Actinium",
          "Bitcoin SV",
          "FREDEnergy",
          "Universal Molecule",
          "Lithium",
          "PirateCash",
          "Exosis",
          "Block-Logic",
          "Beam",
          "Bithereum",
          "SLICE",
          "BLAST",
          "Bitcoin Rhodium",
          "GlobalToken",
          "SolarCoin",
          "UFO Coin",
          "BlakeCoin",
          "Crypto Escudo",
          "Crown Coin",
          "SmileyCoin",
          "Groestlcoin",
          "Bata",
          "Pakcoin",
          "JoinCoin",
          "Vollar",
          "Reality Clash",
          "Beldex",
          "Horizen"
         ],
         "legendgroup": "3",
         "marker": {
          "color": [
           3,
           3,
           3,
           3,
           3,
           3,
           3,
           3,
           3,
           3,
           3,
           3,
           3,
           3,
           3,
           3,
           3,
           3,
           3,
           3,
           3,
           3,
           3,
           3,
           3,
           3,
           3,
           3,
           3,
           3,
           3,
           3,
           3,
           3,
           3,
           3,
           3,
           3,
           3,
           3,
           3,
           3,
           3,
           3,
           3,
           3,
           3,
           3,
           3,
           3,
           3,
           3,
           3,
           3,
           3,
           3,
           3,
           3,
           3,
           3,
           3,
           3,
           3,
           3,
           3,
           3,
           3,
           3,
           3,
           3,
           3,
           3,
           3,
           3,
           3,
           3,
           3,
           3,
           3,
           3,
           3,
           3,
           3,
           3,
           3,
           3,
           3,
           3,
           3,
           3,
           3,
           3,
           3,
           3,
           3,
           3,
           3,
           3,
           3,
           3,
           3,
           3,
           3,
           3,
           3,
           3,
           3,
           3,
           3,
           3,
           3,
           3,
           3,
           3,
           3,
           3,
           3,
           3,
           3,
           3,
           3,
           3,
           3,
           3,
           3,
           3,
           3,
           3,
           3,
           3,
           3,
           3,
           3,
           3,
           3,
           3,
           3,
           3,
           3,
           3,
           3,
           3,
           3,
           3,
           3,
           3,
           3,
           3,
           3,
           3,
           3,
           3,
           3,
           3,
           3,
           3,
           3,
           3,
           3,
           3,
           3,
           3,
           3,
           3,
           3,
           3,
           3,
           3,
           3,
           3,
           3,
           3,
           3,
           3,
           3,
           3,
           3,
           3,
           3,
           3,
           3,
           3,
           3,
           3,
           3,
           3,
           3,
           3,
           3,
           3,
           3,
           3,
           3,
           3,
           3,
           3,
           3,
           3,
           3,
           3,
           3,
           3,
           3,
           3,
           3,
           3,
           3,
           3,
           3,
           3,
           3,
           3,
           3,
           3,
           3,
           3,
           3,
           3,
           3,
           3,
           3,
           3,
           3,
           3,
           3,
           3,
           3,
           3,
           3,
           3,
           3,
           3,
           3,
           3,
           3,
           3,
           3,
           3,
           3,
           3,
           3,
           3,
           3
          ],
          "coloraxis": "coloraxis",
          "symbol": "diamond"
         },
         "mode": "markers",
         "name": "3",
         "scene": "scene",
         "showlegend": true,
         "type": "scatter3d",
         "x": [
          -0.14404951608396827,
          -0.15444805511168233,
          -0.17092149027631123,
          -0.1504600385504692,
          -0.15288896544659408,
          -0.12693525093321611,
          0.16654354719361586,
          -0.17206892054076808,
          -0.20924549351393626,
          -0.17168515088214353,
          -0.08710469514011882,
          2.551675902612954,
          -0.14113137808836193,
          -0.1689378429251615,
          -0.17148907927521395,
          -0.2348901937275055,
          -0.1915744031906145,
          -0.17153770154375744,
          -0.17205116420663844,
          -0.17213769664736953,
          -0.20933494035912303,
          0.6269618251626364,
          0.19034074074235427,
          0.2341881741256434,
          0.07685136720685933,
          -0.1718837036979066,
          -0.16748460984024602,
          -0.17182296555363716,
          -0.172194763742322,
          -0.16652287714622235,
          -0.15139662659414482,
          -0.1709885891603723,
          -0.1712663956339349,
          1.5785511852697205,
          -0.14401083682393953,
          -0.16855315433890197,
          -0.17191017456944685,
          -0.17226535986594718,
          -0.17152384107684937,
          -0.17698377320813108,
          -0.17214651170829529,
          -0.036942202613686484,
          -0.14408854518735234,
          -0.1658037666798873,
          -0.172125971787933,
          -0.1702188335569172,
          -0.17161219030596586,
          -0.13122794598220838,
          -0.14355174283142155,
          -0.14383928944091373,
          -0.14382240694737627,
          -0.14441353458580852,
          -0.20950898096510606,
          -0.17184211196783855,
          -0.1972882861005564,
          -0.16894262533436308,
          -0.14361911427537857,
          3.8626801019113164,
          0.4580691643819315,
          -0.07616629015963547,
          -0.17070861173574864,
          -0.15529448327581874,
          -0.16942606296710705,
          -0.17226757714258809,
          -0.16929090634820043,
          -0.15550058505730688,
          -0.1220627349323915,
          -0.12114603733980728,
          -0.18574219312428458,
          -0.17214049780175983,
          -0.04495884572893056,
          -0.11221366094441926,
          -0.17227647275291771,
          -0.14411635773906473,
          0.48032909242574656,
          -0.2088955282281932,
          -0.14938251797382554,
          -0.14385602487502494,
          -0.20918073761706213,
          -0.17039873991292823,
          -0.16959012444807384,
          -0.15551692819694213,
          0.37928177293941084,
          -0.20921615871842933,
          -0.14401196059074065,
          -0.16823008652098012,
          -0.1561770487921355,
          -0.1708383520973977,
          0.2749118771407923,
          -0.20837609837717103,
          -0.14773174447905324,
          -0.17108643296161483,
          -0.16798867463866715,
          -0.10455748062837066,
          -0.172066198161373,
          -0.20917939239554303,
          -0.17227653130922543,
          -0.20932955269590878,
          -0.16817742231890837,
          0.3028188206072594,
          -0.14427232792062372,
          -0.1011982483972597,
          -0.16944047893848657,
          -0.14423090906270877,
          -0.1719396263053339,
          -0.17003653126152513,
          -0.15525879760648068,
          -0.12695689528055126,
          -0.09895078427051786,
          -0.19589786989995298,
          -0.2071557891630511,
          0.3028131324875018,
          -0.1722582546713043,
          0.3029439971483356,
          -0.14992341717957622,
          0.5064102544189336,
          -0.14922393876487575,
          -0.17222650440547765,
          -0.2020584198783838,
          -0.12696926936936787,
          -0.1703578084799867,
          -0.14964148664584448,
          -0.13034398551944965,
          -0.14312980213977572,
          -0.1886576977359344,
          -0.1717884605998641,
          -0.11056512372079298,
          -0.17161045001726585,
          -0.14908116778923883,
          -0.15802700915117482,
          -0.02152813519163382,
          -0.16263440697079376,
          0.338972658721935,
          -0.20838456797739296,
          -0.1719298988261572,
          -0.17169320871282678,
          -0.20877958270341584,
          -0.20935759572180607,
          0.3032084837923181,
          -0.1549767903460397,
          3.2409096145165077,
          -0.12648951022534186,
          -0.2002226212525858,
          -0.14404867924579465,
          -0.09779910932901235,
          1.5769486837388171,
          -0.17202787288707283,
          -0.17147908551697275,
          -0.17117974862415006,
          -0.1711666630455074,
          0.303392182633362,
          0.08553924792911738,
          -0.16369422181867774,
          -0.17121627018352797,
          -0.1268151426010053,
          -0.14648979057906214,
          -0.1703560153732072,
          -0.20489775328150467,
          -0.17106156061763125,
          -0.15362297506139824,
          -0.1711618382052428,
          -0.11136822083396293,
          1.1414655404070073,
          0.30279591522830196,
          -0.07845718786599633,
          -0.2046398208198489,
          -0.13818315153251,
          -0.08833061610915771,
          1.1011422157182624,
          -0.20933156517822674,
          -0.1712138011595922,
          -0.16424484219333407,
          -0.17127810827256926,
          -0.2092568915343015,
          -0.14402804720688092,
          -0.19965959098685457,
          -0.2836233079530235,
          8.046308215322341,
          -0.14457860750157392,
          0.3066739127481264,
          0.020966696600366784,
          -0.1459921478120187,
          -0.18283226060507876,
          -0.17185245928279227,
          0.13553637525240925,
          -0.2033923575432251,
          -0.10662770153208309,
          0.31072500724036706,
          -0.1720896914307774,
          -0.1299737572677192,
          -0.12580516023298524,
          -0.16781838740754546,
          -0.20842539196894933,
          0.3029786404385384,
          -0.18871712238542454,
          -0.14976852697763676,
          -0.1460846350354186,
          -0.17012096961629974,
          0.30690943026831785,
          0.5939169276616058,
          2.112993778927999,
          -0.15434099278239516,
          0.3165967495623158,
          -0.19408231282590338,
          -0.15176483429772486,
          -0.20931370777088262,
          -0.1721143089068098,
          -0.1380659656891938,
          -0.16067289546686797,
          -0.16462443998249554,
          3.1189049369087725,
          -0.10383418589672727,
          -0.2092850536360805,
          -0.19350963245753797,
          -0.02145945375781377,
          -0.16951826292268948,
          -0.14404871685875453,
          0.3828064990799198,
          -0.13947470192511394,
          -0.13986689320123083,
          -0.2541542008471231,
          -0.12089270675377295,
          -0.17100560801236414,
          -0.124873788482238,
          -0.12664779069151447,
          -0.18495258024527703,
          -0.14332412073734058,
          -0.11134160631035009,
          -0.14219105578709218,
          0.5242789861048055,
          -0.09630112786811806,
          -0.09029839551256456,
          -0.155651361653684,
          -0.14383865909558427,
          0.5442615386957405,
          -0.19113493445114868,
          -0.172191174056711,
          -0.17014502859117261,
          -0.12188186386459716,
          -0.11225625070244394,
          -0.15529199101171365,
          0.3245748428565259,
          -0.12693630921819027
         ],
         "y": [
          -1.2493283591714095,
          -2.009370584200332,
          -1.1719769269804796,
          -2.1858082306296964,
          -2.0094686874481096,
          -2.0583736844277194,
          -1.8365852540959844,
          -1.1719689530435065,
          -0.8166599284866098,
          -1.17198700383227,
          -1.8312634427783787,
          -1.3553572968880356,
          -1.2493406230261737,
          -1.172030760441352,
          -1.1720060692190457,
          -0.4474372307606331,
          -1.1726692182940766,
          -1.1719712411160619,
          -1.17196839250733,
          -1.1719656101708786,
          -0.8166613491091077,
          -0.4244930173524083,
          -1.8327157249623278,
          -1.2521054258610718,
          -1.173566879341061,
          -1.17196310607419,
          -1.1720198152565848,
          -1.1719689054902516,
          -1.1719660758372643,
          -1.558730110898348,
          -1.1722982310272358,
          -1.171969223776594,
          -1.1719795690596733,
          -1.1802487010624134,
          -1.2493271381353481,
          -1.1720294346295521,
          -1.171963240184569,
          -1.1719613692540445,
          -1.1719664779415258,
          -2.1461106405002175,
          -1.1719636856476874,
          -1.1782114343764365,
          -1.249329591251433,
          -1.1719928561470605,
          -1.1719707540508362,
          -1.1720711990580717,
          -1.1719757210321315,
          -1.2495318299089915,
          -1.249330893480982,
          -1.2493364547828758,
          -1.2493625799109405,
          -1.2493252938800141,
          -0.8166542157533903,
          -1.1719631961533397,
          -1.239616981302872,
          -1.1720417295425034,
          -1.2493316088260755,
          -2.287275272665021,
          -2.2723589779731186,
          -1.2731226391565174,
          -1.1719850230595952,
          -1.1726032492119782,
          -1.1719875150932815,
          -1.1719623358028368,
          -1.1719787684767455,
          -1.1721327161801334,
          -2.0895617290906885,
          -1.8309350111894402,
          -1.45989644177946,
          -1.171958845604007,
          -1.174956863746143,
          -2.2263758759736105,
          -1.171961207586383,
          -1.2493304692446758,
          -1.2158997768459316,
          -0.8166580005682988,
          -2.123806384984601,
          -1.2493452330648458,
          -0.8166585857854519,
          -1.172048985616086,
          -1.172051351819497,
          -2.0094161869573224,
          -2.0906324610301645,
          -0.816656196325273,
          -1.2493271736106855,
          -1.1719803566835667,
          -2.0905627926165873,
          -1.1719743024546745,
          -1.2512592035223944,
          -0.8166773810309472,
          -2.1257643047038175,
          -1.172041308761628,
          -2.124283248864192,
          -0.42103117799079354,
          -1.1719681655744012,
          -0.8166613494327197,
          -1.171961207309271,
          -0.8166660897287705,
          -1.6372164393576203,
          -2.27025168915704,
          -1.249327490932708,
          -1.8311471287091745,
          -1.172011551355229,
          -1.2493268164000155,
          -1.171971185207818,
          -2.140648547347598,
          -2.0094145618415613,
          -2.058374367701619,
          -1.1766612940944368,
          -0.8165753011568445,
          -0.8167398781070958,
          -2.2702595855331924,
          -1.171962102040925,
          -2.2702582604800168,
          -2.123784322581354,
          -0.8642067456861513,
          -2.185898991889119,
          -1.1719615527276876,
          -0.8171205430553082,
          -2.0583719522162562,
          -1.1719703569937094,
          -2.123783139344196,
          -2.191315135111016,
          -1.1738467775200911,
          -0.506994539640833,
          -1.1719702858901966,
          -1.250010404781632,
          -1.1719902578846941,
          -2.18583836259022,
          -2.0273796822085925,
          -2.103524041211044,
          -2.1982861835303766,
          -2.2705064176890004,
          -0.8166888728554614,
          -1.1719633554992643,
          -1.1719949750160208,
          -0.8166732816388135,
          -0.8166626956745283,
          -2.2702702554259466,
          -2.0908398272125104,
          -1.204518180400422,
          -1.150898103492734,
          -0.8171327429664795,
          -1.2493283327539149,
          -1.176975701938711,
          -1.1167408175216702,
          -1.1719669557130332,
          -1.1719945292795484,
          -1.1719963041955335,
          -1.171995891106876,
          -2.270288931922529,
          -2.066383602939216,
          -0.8164706756409128,
          -1.5586615007742457,
          -2.0583698928193415,
          -2.1258137061661495,
          -1.1719703003884885,
          -0.8167541823566955,
          -1.5586692443768313,
          -2.0095409658250407,
          -1.5586631497888672,
          -1.8310893514882292,
          -2.303399987632455,
          -2.27025416606045,
          -2.0139869702931543,
          -0.8168863455604626,
          -2.1861218355962864,
          -1.1728183921755992,
          -1.1917409433560995,
          -0.8166625053116883,
          -1.5586572136612011,
          -1.5587732480046852,
          -1.1719741542144284,
          -0.8166623928871812,
          -1.2493270963621335,
          -1.127507700544909,
          -0.16813980475666418,
          -2.7273247453429756,
          -2.140107228421199,
          -2.2703586889456293,
          -1.1728757105571856,
          -2.1257584956897357,
          -1.2398733828934871,
          -1.1719754487823841,
          -1.1751566827021183,
          -0.816811888924003,
          -2.0124209144160843,
          -2.2706966178795684,
          -1.1719696087438987,
          -2.0446417118497036,
          -2.0583723843467725,
          -2.1407739702633117,
          -0.8166901615969299,
          -2.2702525367650566,
          -0.5069772975207409,
          -2.123790853853458,
          -2.181872068880777,
          -2.140643566258253,
          -2.270536457929633,
          -2.13855687208465,
          -2.3421818634177907,
          -2.244930356681453,
          -2.2705112573223962,
          -1.2606687487841082,
          -2.0686683855615393,
          -0.8166627834188712,
          -1.1719711612476005,
          -2.186644646265799,
          -2.1576830244407543,
          -0.7404915900623049,
          -2.188153162429243,
          -1.249517309582602,
          -0.8166646849718736,
          -1.2607053363824676,
          -2.060360883024424,
          -2.1406761022064065,
          -1.2493283339412895,
          -2.2733879531798697,
          -2.0996119483462374,
          -2.0995682831881246,
          -0.21713894123654165,
          -2.1077651852491965,
          -1.1720048374510137,
          -2.05847823725463,
          -2.058371545124103,
          -1.4599416679309363,
          -1.2493356254392716,
          -0.29950176438495746,
          -1.2493728155276733,
          -1.2187916793056803,
          -1.559083734030341,
          -2.1028964930483767,
          -1.1721374759315637,
          -1.2493364348839844,
          -1.1844173500129342,
          -1.1726700771365461,
          -1.1719615879173921,
          -1.1720211652351853,
          -1.83096020421554,
          -2.080371784003861,
          -2.0094144047572207,
          -2.270540170498382,
          -2.0583737178359103
         ],
         "z": [
          0.1869865842713815,
          0.3882662550629523,
          -0.03089332663040199,
          0.4304266679483521,
          0.3882472027993371,
          0.40716151856934046,
          0.32895989925181174,
          -0.03086793038887711,
          0.034944230457225674,
          -0.03087369993652134,
          0.3339436125901075,
          -0.06202703532408176,
          0.18692057716352778,
          -0.03093013841011116,
          -0.030874904442620577,
          0.07681958775510683,
          0.1503347830449554,
          -0.030879936510025727,
          -0.03086844451704018,
          -0.030866915536026426,
          0.034946571875949836,
          -0.3446946533359911,
          0.3277186090171748,
          0.1786413019350491,
          -0.03640068202998508,
          -0.030873293274849375,
          -0.03096602997858275,
          -0.030873685274734216,
          -0.030865499757230765,
          0.24982696254267076,
          -0.03129260022014454,
          -0.0308931231805881,
          -0.030884800387719808,
          -0.07030287102031413,
          0.18698546432753507,
          -0.030939361032048345,
          -0.03087265106142999,
          -0.030864683895462916,
          -0.03088110390471504,
          0.3794635909819906,
          -0.030867050415864933,
          -0.03291946933405349,
          0.18698771434478859,
          -0.03101007547598593,
          -0.030866278490872645,
          -0.03089304779468249,
          -0.030877402767988234,
          0.18672305733379674,
          0.18697540318144654,
          0.18698310629654075,
          0.1869873386276883,
          0.18699454629349044,
          0.03494937482026994,
          -0.030874249066210058,
          0.15785288071984693,
          -0.030928084041760343,
          0.18697710392808262,
          0.3350730983636832,
          0.4119763560206252,
          -0.18006019277247573,
          -0.030896866481033885,
          -0.03114751228688196,
          -0.030926390463324228,
          -0.03086446091504462,
          -0.03093109727676793,
          -0.03122602855755654,
          0.3459778721823194,
          0.33468078523074374,
          0.18913596138296115,
          -0.030868048097975817,
          -0.0333085553076216,
          0.3550163640145652,
          -0.030864452886659063,
          0.18698851964705526,
          -0.03833031443364294,
          0.03493571247317477,
          0.4746577783452495,
          0.18698505193894605,
          0.03494247971489452,
          -0.030892778493631867,
          -0.030911251837080975,
          0.38829930435984855,
          0.4303311719268267,
          0.034942884114990955,
          0.1869854968657921,
          -0.030955600877600985,
          0.4454758819887036,
          -0.030895733865978003,
          0.1775399716488012,
          0.03492700886216596,
          0.44992022398966525,
          -0.030878070886328067,
          0.4561020913833102,
          -0.3282166133326292,
          -0.030868133455366,
          0.034942937728452514,
          -0.030864451567632668,
          0.034947285565052985,
          0.5250575325145718,
          0.4152304054885879,
          0.18699163625614362,
          0.3342522934811746,
          -0.03092179681754447,
          0.18699054909065063,
          -0.030870555887296217,
          0.4163514790696393,
          0.38829298561756836,
          0.4071621452735041,
          -0.03174523846591438,
          0.03461739056984578,
          0.03490956595739331,
          0.41523193683689313,
          -0.03086472012353449,
          0.4152286446624368,
          0.47466650859093173,
          0.026644293974419163,
          0.43041386171389967,
          -0.03086555921672812,
          0.034857887536671545,
          0.40716200659676705,
          -0.030907659974917973,
          0.4746597120463992,
          0.22243954728815968,
          -0.03121149708782081,
          0.03263591055496826,
          -0.03087424697507898,
          0.186325049343288,
          -0.030874868944843467,
          0.43039978855338856,
          0.4588098714008978,
          0.4419787533035277,
          0.3181613223245242,
          0.41443082389114644,
          0.03492924195216552,
          -0.030872169803871075,
          -0.030872099974102434,
          0.03493570981959178,
          0.03494733967058388,
          0.4152245895370294,
          0.3931547640485795,
          -0.10484388742328356,
          0.1613152231927412,
          0.03481715675748996,
          0.18698656004102515,
          -0.03171646429838932,
          -0.08151270476301581,
          -0.03086924314967225,
          -0.030877181664058107,
          -0.030883860998534556,
          -0.030884239886680407,
          0.41522360523418966,
          0.4036158488375709,
          0.03384645899838442,
          0.24992446755667053,
          0.40715804087649127,
          0.44989995614190226,
          -0.030907711893669206,
          0.03485934275459033,
          0.24992222433554884,
          0.38827715264860735,
          0.24992348785538535,
          0.3344796711810947,
          0.4015069379566336,
          0.4152313793079338,
          0.38730837717151845,
          0.03487672261222755,
          0.43019537174489525,
          -0.03267394649674009,
          0.09815003101276669,
          0.0349466977826008,
          0.249923650621052,
          0.24978137839559975,
          -0.030885485706472034,
          0.034944933205704985,
          0.18698585903089646,
          0.1420913637511057,
          0.13030233765591587,
          0.3152602474132135,
          0.4434397345063713,
          0.4151592852673827,
          -0.035217405284228384,
          0.44987855147336425,
          0.157560540631223,
          -0.030871837366678378,
          -0.037490236955925994,
          0.03483439071966759,
          0.38768920063500806,
          0.41512448332397656,
          -0.030867328975350453,
          0.4034991155149696,
          0.40713488501471495,
          0.41632186706476265,
          0.03493042399591632,
          0.4152268215881076,
          0.03263424535854143,
          0.474664046445183,
          0.5141690428899741,
          0.4163525697245539,
          0.4151852656290979,
          0.3874702912082352,
          0.385676550883508,
          0.37938923908740596,
          0.41495446917167855,
          0.20407809011646302,
          0.48393256359366815,
          0.034946329817086175,
          -0.030866478866363605,
          0.4302852238302368,
          0.4904985451658097,
          0.09075030088211458,
          0.3372602855664381,
          0.18608046110380222,
          0.03494599711104388,
          0.20407118975784816,
          0.40504912787713293,
          0.41634425028526173,
          0.18698656113009454,
          0.4139170162808063,
          0.4098556162111061,
          0.40985704620425945,
          0.14915119234328433,
          0.33383412235843674,
          -0.030886418356508537,
          0.40713187114881755,
          0.4071544235095493,
          0.18912552252960563,
          0.18697092307682223,
          -0.029651542554841627,
          0.18695103665826088,
          -0.03884499750569066,
          0.24824893644760002,
          0.40928836094609833,
          -0.031221662876330568,
          0.1869830880451222,
          -0.045399576573676964,
          0.15032466744903375,
          -0.030866378438838722,
          -0.030903633177724495,
          0.33470243869352884,
          0.45021339384508285,
          0.38829373332478057,
          0.41477319044985544,
          0.4071615492115947
         ]
        },
        {
         "customdata": [
          [
           "VeChainThor Authority"
          ],
          [
           "Proof-of-BibleHash"
          ],
          [
           "SHA-256 + Hive"
          ],
          [
           "Proof-of-Authority"
          ],
          [
           "ECC 256K1"
          ],
          [
           "Leased POS"
          ]
         ],
         "hovertemplate": "<b>%{hovertext}</b><br><br>Class=%{marker.color}<br>PC1=%{x}<br>PC2=%{y}<br>PC3=%{z}<br>Algorithm=%{customdata[0]}<extra></extra>",
         "hovertext": [
          "Vechain",
          "BiblePay",
          "LitecoinCash",
          "Poa Network",
          "Acute Angle Cloud",
          "Waves"
         ],
         "legendgroup": "1",
         "marker": {
          "color": [
           1,
           1,
           1,
           1,
           1,
           1
          ],
          "coloraxis": "coloraxis",
          "symbol": "square"
         },
         "mode": "markers",
         "name": "1",
         "scene": "scene",
         "showlegend": true,
         "type": "scatter3d",
         "x": [
          4.403583493323197,
          -0.24359691742095313,
          -0.3804277069814109,
          -0.3712633039038525,
          -0.33195021332566466,
          -0.4476835439735448
         ],
         "y": [
          3.986899006598764,
          1.0054493864704888,
          3.2962536483328724,
          3.1920326619514365,
          5.304105477423831,
          0.07402205028251335
         ],
         "z": [
          6.988999899356242,
          10.566195163428993,
          15.142993872626215,
          17.590356731697852,
          14.591427963441479,
          9.18757963442648
         ]
        },
        {
         "customdata": [
          [
           "TRC10"
          ]
         ],
         "hovertemplate": "<b>%{hovertext}</b><br><br>Class=%{marker.color}<br>PC1=%{x}<br>PC2=%{y}<br>PC3=%{z}<br>Algorithm=%{customdata[0]}<extra></extra>",
         "hovertext": [
          "BitTorrent"
         ],
         "legendgroup": "2",
         "marker": {
          "color": [
           2
          ],
          "coloraxis": "coloraxis",
          "symbol": "x"
         },
         "mode": "markers",
         "name": "2",
         "scene": "scene",
         "showlegend": true,
         "type": "scatter3d",
         "x": [
          34.087607571440024
         ],
         "y": [
          1.6455432832118309
         ],
         "z": [
          -1.0180887588548526
         ]
        }
       ],
       "layout": {
        "autosize": true,
        "coloraxis": {
         "colorbar": {
          "title": {
           "text": "Class"
          }
         },
         "colorscale": [
          [
           0,
           "#0d0887"
          ],
          [
           0.1111111111111111,
           "#46039f"
          ],
          [
           0.2222222222222222,
           "#7201a8"
          ],
          [
           0.3333333333333333,
           "#9c179e"
          ],
          [
           0.4444444444444444,
           "#bd3786"
          ],
          [
           0.5555555555555556,
           "#d8576b"
          ],
          [
           0.6666666666666666,
           "#ed7953"
          ],
          [
           0.7777777777777778,
           "#fb9f3a"
          ],
          [
           0.8888888888888888,
           "#fdca26"
          ],
          [
           1,
           "#f0f921"
          ]
         ]
        },
        "legend": {
         "title": {
          "text": "Class"
         },
         "tracegroupgap": 0,
         "x": 0,
         "y": 1
        },
        "margin": {
         "t": 60
        },
        "scene": {
         "aspectmode": "auto",
         "aspectratio": {
          "x": 1,
          "y": 1,
          "z": 1
         },
         "domain": {
          "x": [
           0,
           1
          ],
          "y": [
           0,
           1
          ]
         },
         "xaxis": {
          "title": {
           "text": "PC1"
          },
          "type": "linear"
         },
         "yaxis": {
          "title": {
           "text": "PC2"
          },
          "type": "linear"
         },
         "zaxis": {
          "title": {
           "text": "PC3"
          },
          "type": "linear"
         }
        },
        "template": {
         "data": {
          "bar": [
           {
            "error_x": {
             "color": "#2a3f5f"
            },
            "error_y": {
             "color": "#2a3f5f"
            },
            "marker": {
             "line": {
              "color": "#E5ECF6",
              "width": 0.5
             },
             "pattern": {
              "fillmode": "overlay",
              "size": 10,
              "solidity": 0.2
             }
            },
            "type": "bar"
           }
          ],
          "barpolar": [
           {
            "marker": {
             "line": {
              "color": "#E5ECF6",
              "width": 0.5
             },
             "pattern": {
              "fillmode": "overlay",
              "size": 10,
              "solidity": 0.2
             }
            },
            "type": "barpolar"
           }
          ],
          "carpet": [
           {
            "aaxis": {
             "endlinecolor": "#2a3f5f",
             "gridcolor": "white",
             "linecolor": "white",
             "minorgridcolor": "white",
             "startlinecolor": "#2a3f5f"
            },
            "baxis": {
             "endlinecolor": "#2a3f5f",
             "gridcolor": "white",
             "linecolor": "white",
             "minorgridcolor": "white",
             "startlinecolor": "#2a3f5f"
            },
            "type": "carpet"
           }
          ],
          "choropleth": [
           {
            "colorbar": {
             "outlinewidth": 0,
             "ticks": ""
            },
            "type": "choropleth"
           }
          ],
          "contour": [
           {
            "colorbar": {
             "outlinewidth": 0,
             "ticks": ""
            },
            "colorscale": [
             [
              0,
              "#0d0887"
             ],
             [
              0.1111111111111111,
              "#46039f"
             ],
             [
              0.2222222222222222,
              "#7201a8"
             ],
             [
              0.3333333333333333,
              "#9c179e"
             ],
             [
              0.4444444444444444,
              "#bd3786"
             ],
             [
              0.5555555555555556,
              "#d8576b"
             ],
             [
              0.6666666666666666,
              "#ed7953"
             ],
             [
              0.7777777777777778,
              "#fb9f3a"
             ],
             [
              0.8888888888888888,
              "#fdca26"
             ],
             [
              1,
              "#f0f921"
             ]
            ],
            "type": "contour"
           }
          ],
          "contourcarpet": [
           {
            "colorbar": {
             "outlinewidth": 0,
             "ticks": ""
            },
            "type": "contourcarpet"
           }
          ],
          "heatmap": [
           {
            "colorbar": {
             "outlinewidth": 0,
             "ticks": ""
            },
            "colorscale": [
             [
              0,
              "#0d0887"
             ],
             [
              0.1111111111111111,
              "#46039f"
             ],
             [
              0.2222222222222222,
              "#7201a8"
             ],
             [
              0.3333333333333333,
              "#9c179e"
             ],
             [
              0.4444444444444444,
              "#bd3786"
             ],
             [
              0.5555555555555556,
              "#d8576b"
             ],
             [
              0.6666666666666666,
              "#ed7953"
             ],
             [
              0.7777777777777778,
              "#fb9f3a"
             ],
             [
              0.8888888888888888,
              "#fdca26"
             ],
             [
              1,
              "#f0f921"
             ]
            ],
            "type": "heatmap"
           }
          ],
          "heatmapgl": [
           {
            "colorbar": {
             "outlinewidth": 0,
             "ticks": ""
            },
            "colorscale": [
             [
              0,
              "#0d0887"
             ],
             [
              0.1111111111111111,
              "#46039f"
             ],
             [
              0.2222222222222222,
              "#7201a8"
             ],
             [
              0.3333333333333333,
              "#9c179e"
             ],
             [
              0.4444444444444444,
              "#bd3786"
             ],
             [
              0.5555555555555556,
              "#d8576b"
             ],
             [
              0.6666666666666666,
              "#ed7953"
             ],
             [
              0.7777777777777778,
              "#fb9f3a"
             ],
             [
              0.8888888888888888,
              "#fdca26"
             ],
             [
              1,
              "#f0f921"
             ]
            ],
            "type": "heatmapgl"
           }
          ],
          "histogram": [
           {
            "marker": {
             "pattern": {
              "fillmode": "overlay",
              "size": 10,
              "solidity": 0.2
             }
            },
            "type": "histogram"
           }
          ],
          "histogram2d": [
           {
            "colorbar": {
             "outlinewidth": 0,
             "ticks": ""
            },
            "colorscale": [
             [
              0,
              "#0d0887"
             ],
             [
              0.1111111111111111,
              "#46039f"
             ],
             [
              0.2222222222222222,
              "#7201a8"
             ],
             [
              0.3333333333333333,
              "#9c179e"
             ],
             [
              0.4444444444444444,
              "#bd3786"
             ],
             [
              0.5555555555555556,
              "#d8576b"
             ],
             [
              0.6666666666666666,
              "#ed7953"
             ],
             [
              0.7777777777777778,
              "#fb9f3a"
             ],
             [
              0.8888888888888888,
              "#fdca26"
             ],
             [
              1,
              "#f0f921"
             ]
            ],
            "type": "histogram2d"
           }
          ],
          "histogram2dcontour": [
           {
            "colorbar": {
             "outlinewidth": 0,
             "ticks": ""
            },
            "colorscale": [
             [
              0,
              "#0d0887"
             ],
             [
              0.1111111111111111,
              "#46039f"
             ],
             [
              0.2222222222222222,
              "#7201a8"
             ],
             [
              0.3333333333333333,
              "#9c179e"
             ],
             [
              0.4444444444444444,
              "#bd3786"
             ],
             [
              0.5555555555555556,
              "#d8576b"
             ],
             [
              0.6666666666666666,
              "#ed7953"
             ],
             [
              0.7777777777777778,
              "#fb9f3a"
             ],
             [
              0.8888888888888888,
              "#fdca26"
             ],
             [
              1,
              "#f0f921"
             ]
            ],
            "type": "histogram2dcontour"
           }
          ],
          "mesh3d": [
           {
            "colorbar": {
             "outlinewidth": 0,
             "ticks": ""
            },
            "type": "mesh3d"
           }
          ],
          "parcoords": [
           {
            "line": {
             "colorbar": {
              "outlinewidth": 0,
              "ticks": ""
             }
            },
            "type": "parcoords"
           }
          ],
          "pie": [
           {
            "automargin": true,
            "type": "pie"
           }
          ],
          "scatter": [
           {
            "marker": {
             "colorbar": {
              "outlinewidth": 0,
              "ticks": ""
             }
            },
            "type": "scatter"
           }
          ],
          "scatter3d": [
           {
            "line": {
             "colorbar": {
              "outlinewidth": 0,
              "ticks": ""
             }
            },
            "marker": {
             "colorbar": {
              "outlinewidth": 0,
              "ticks": ""
             }
            },
            "type": "scatter3d"
           }
          ],
          "scattercarpet": [
           {
            "marker": {
             "colorbar": {
              "outlinewidth": 0,
              "ticks": ""
             }
            },
            "type": "scattercarpet"
           }
          ],
          "scattergeo": [
           {
            "marker": {
             "colorbar": {
              "outlinewidth": 0,
              "ticks": ""
             }
            },
            "type": "scattergeo"
           }
          ],
          "scattergl": [
           {
            "marker": {
             "colorbar": {
              "outlinewidth": 0,
              "ticks": ""
             }
            },
            "type": "scattergl"
           }
          ],
          "scattermapbox": [
           {
            "marker": {
             "colorbar": {
              "outlinewidth": 0,
              "ticks": ""
             }
            },
            "type": "scattermapbox"
           }
          ],
          "scatterpolar": [
           {
            "marker": {
             "colorbar": {
              "outlinewidth": 0,
              "ticks": ""
             }
            },
            "type": "scatterpolar"
           }
          ],
          "scatterpolargl": [
           {
            "marker": {
             "colorbar": {
              "outlinewidth": 0,
              "ticks": ""
             }
            },
            "type": "scatterpolargl"
           }
          ],
          "scatterternary": [
           {
            "marker": {
             "colorbar": {
              "outlinewidth": 0,
              "ticks": ""
             }
            },
            "type": "scatterternary"
           }
          ],
          "surface": [
           {
            "colorbar": {
             "outlinewidth": 0,
             "ticks": ""
            },
            "colorscale": [
             [
              0,
              "#0d0887"
             ],
             [
              0.1111111111111111,
              "#46039f"
             ],
             [
              0.2222222222222222,
              "#7201a8"
             ],
             [
              0.3333333333333333,
              "#9c179e"
             ],
             [
              0.4444444444444444,
              "#bd3786"
             ],
             [
              0.5555555555555556,
              "#d8576b"
             ],
             [
              0.6666666666666666,
              "#ed7953"
             ],
             [
              0.7777777777777778,
              "#fb9f3a"
             ],
             [
              0.8888888888888888,
              "#fdca26"
             ],
             [
              1,
              "#f0f921"
             ]
            ],
            "type": "surface"
           }
          ],
          "table": [
           {
            "cells": {
             "fill": {
              "color": "#EBF0F8"
             },
             "line": {
              "color": "white"
             }
            },
            "header": {
             "fill": {
              "color": "#C8D4E3"
             },
             "line": {
              "color": "white"
             }
            },
            "type": "table"
           }
          ]
         },
         "layout": {
          "annotationdefaults": {
           "arrowcolor": "#2a3f5f",
           "arrowhead": 0,
           "arrowwidth": 1
          },
          "autotypenumbers": "strict",
          "coloraxis": {
           "colorbar": {
            "outlinewidth": 0,
            "ticks": ""
           }
          },
          "colorscale": {
           "diverging": [
            [
             0,
             "#8e0152"
            ],
            [
             0.1,
             "#c51b7d"
            ],
            [
             0.2,
             "#de77ae"
            ],
            [
             0.3,
             "#f1b6da"
            ],
            [
             0.4,
             "#fde0ef"
            ],
            [
             0.5,
             "#f7f7f7"
            ],
            [
             0.6,
             "#e6f5d0"
            ],
            [
             0.7,
             "#b8e186"
            ],
            [
             0.8,
             "#7fbc41"
            ],
            [
             0.9,
             "#4d9221"
            ],
            [
             1,
             "#276419"
            ]
           ],
           "sequential": [
            [
             0,
             "#0d0887"
            ],
            [
             0.1111111111111111,
             "#46039f"
            ],
            [
             0.2222222222222222,
             "#7201a8"
            ],
            [
             0.3333333333333333,
             "#9c179e"
            ],
            [
             0.4444444444444444,
             "#bd3786"
            ],
            [
             0.5555555555555556,
             "#d8576b"
            ],
            [
             0.6666666666666666,
             "#ed7953"
            ],
            [
             0.7777777777777778,
             "#fb9f3a"
            ],
            [
             0.8888888888888888,
             "#fdca26"
            ],
            [
             1,
             "#f0f921"
            ]
           ],
           "sequentialminus": [
            [
             0,
             "#0d0887"
            ],
            [
             0.1111111111111111,
             "#46039f"
            ],
            [
             0.2222222222222222,
             "#7201a8"
            ],
            [
             0.3333333333333333,
             "#9c179e"
            ],
            [
             0.4444444444444444,
             "#bd3786"
            ],
            [
             0.5555555555555556,
             "#d8576b"
            ],
            [
             0.6666666666666666,
             "#ed7953"
            ],
            [
             0.7777777777777778,
             "#fb9f3a"
            ],
            [
             0.8888888888888888,
             "#fdca26"
            ],
            [
             1,
             "#f0f921"
            ]
           ]
          },
          "colorway": [
           "#636efa",
           "#EF553B",
           "#00cc96",
           "#ab63fa",
           "#FFA15A",
           "#19d3f3",
           "#FF6692",
           "#B6E880",
           "#FF97FF",
           "#FECB52"
          ],
          "font": {
           "color": "#2a3f5f"
          },
          "geo": {
           "bgcolor": "white",
           "lakecolor": "white",
           "landcolor": "#E5ECF6",
           "showlakes": true,
           "showland": true,
           "subunitcolor": "white"
          },
          "hoverlabel": {
           "align": "left"
          },
          "hovermode": "closest",
          "mapbox": {
           "style": "light"
          },
          "paper_bgcolor": "white",
          "plot_bgcolor": "#E5ECF6",
          "polar": {
           "angularaxis": {
            "gridcolor": "white",
            "linecolor": "white",
            "ticks": ""
           },
           "bgcolor": "#E5ECF6",
           "radialaxis": {
            "gridcolor": "white",
            "linecolor": "white",
            "ticks": ""
           }
          },
          "scene": {
           "xaxis": {
            "backgroundcolor": "#E5ECF6",
            "gridcolor": "white",
            "gridwidth": 2,
            "linecolor": "white",
            "showbackground": true,
            "ticks": "",
            "zerolinecolor": "white"
           },
           "yaxis": {
            "backgroundcolor": "#E5ECF6",
            "gridcolor": "white",
            "gridwidth": 2,
            "linecolor": "white",
            "showbackground": true,
            "ticks": "",
            "zerolinecolor": "white"
           },
           "zaxis": {
            "backgroundcolor": "#E5ECF6",
            "gridcolor": "white",
            "gridwidth": 2,
            "linecolor": "white",
            "showbackground": true,
            "ticks": "",
            "zerolinecolor": "white"
           }
          },
          "shapedefaults": {
           "line": {
            "color": "#2a3f5f"
           }
          },
          "ternary": {
           "aaxis": {
            "gridcolor": "white",
            "linecolor": "white",
            "ticks": ""
           },
           "baxis": {
            "gridcolor": "white",
            "linecolor": "white",
            "ticks": ""
           },
           "bgcolor": "#E5ECF6",
           "caxis": {
            "gridcolor": "white",
            "linecolor": "white",
            "ticks": ""
           }
          },
          "title": {
           "x": 0.05
          },
          "xaxis": {
           "automargin": true,
           "gridcolor": "white",
           "linecolor": "white",
           "ticks": "",
           "title": {
            "standoff": 15
           },
           "zerolinecolor": "white",
           "zerolinewidth": 2
          },
          "yaxis": {
           "automargin": true,
           "gridcolor": "white",
           "linecolor": "white",
           "ticks": "",
           "title": {
            "standoff": 15
           },
           "zerolinecolor": "white",
           "zerolinewidth": 2
          }
         }
        }
       }
      },
      "image/png": "[encoded data removed]",
      "text/html": [
       "<div>                            <div id=\"62688c42-9354-454e-94d5-2bdc841c66e9\" class=\"plotly-graph-div\" style=\"height:525px; width:800px;\"></div>            <script type=\"text/javascript\">                require([\"plotly\"], function(Plotly) {                    window.PLOTLYENV=window.PLOTLYENV || {};                                    if (document.getElementById(\"62688c42-9354-454e-94d5-2bdc841c66e9\")) {                    Plotly.newPlot(                        \"62688c42-9354-454e-94d5-2bdc841c66e9\",                        [{\"customdata\":[[\"Scrypt\"],[\"Scrypt\"],[\"X13\"],[\"X11\"],[\"SHA-512\"],[\"SHA-256\"],[\"SHA-256\"],[\"X15\"],[\"Scrypt\"],[\"Scrypt\"],[\"Scrypt\"],[\"Scrypt\"],[\"Scrypt\"],[\"Groestl\"],[\"PoS\"],[\"Scrypt\"],[\"Scrypt\"],[\"X11\"],[\"X11\"],[\"SHA3\"],[\"Scrypt\"],[\"SHA-256\"],[\"Scrypt\"],[\"X13\"],[\"X13\"],[\"NeoScrypt\"],[\"Scrypt\"],[\"Scrypt\"],[\"Scrypt\"],[\"X11\"],[\"X11\"],[\"Multiple\"],[\"PHI1612\"],[\"X11\"],[\"Scrypt\"],[\"Scrypt\"],[\"Scrypt\"],[\"X11\"],[\"Multiple\"],[\"X13\"],[\"Scrypt\"],[\"Counterparty\"],[\"SHA-256\"],[\"Groestl\"],[\"Scrypt\"],[\"X13\"],[\"Scrypt\"],[\"Scrypt\"],[\"X13\"],[\"X11\"],[\"Scrypt\"],[\"X11\"],[\"SHA3\"],[\"QUAIT\"],[\"X11\"],[\"Scrypt\"],[\"X13\"],[\"SHA-256\"],[\"X15\"],[\"BLAKE256\"],[\"SHA-256\"],[\"X11\"],[\"SHA-256\"],[\"NIST5\"],[\"Scrypt\"],[\"Scrypt\"],[\"X11\"],[\"Scrypt\"],[\"SHA-256\"],[\"PoS\"],[\"X11\"],[\"SHA-256\"],[\"SHA-256\"],[\"NIST5\"],[\"X11\"],[\"POS 3.0\"],[\"Scrypt\"],[\"Scrypt\"],[\"Scrypt\"],[\"X13\"],[\"X11\"],[\"X11\"],[\"Scrypt\"],[\"SHA-256\"],[\"X11\"],[\"Scrypt\"],[\"Scrypt\"],[\"Scrypt\"],[\"Scrypt\"],[\"SHA-256D\"],[\"PoS\"],[\"Scrypt\"],[\"X11\"],[\"PoS\"],[\"X13\"],[\"X14\"],[\"PoS\"],[\"SHA-256D\"],[\"DPoS\"],[\"X11\"],[\"X13\"],[\"X11\"],[\"PoS\"],[\"Scrypt\"],[\"Scrypt\"],[\"PoS\"],[\"X11\"],[\"SHA-256\"],[\"Scrypt\"],[\"X11\"],[\"Scrypt\"],[\"Scrypt\"],[\"X11\"],[\"Scrypt\"],[\"Scrypt\"],[\"Scrypt\"],[\"Scrypt\"],[\"Quark\"],[\"QuBit\"],[\"Scrypt\"],[\"SHA-256\"],[\"X11\"],[\"Scrypt\"],[\"Scrypt\"],[\"Scrypt\"],[\"Scrypt\"],[\"X13\"],[\"Scrypt\"],[\"Scrypt\"],[\"X11\"],[\"Blake2S\"],[\"X11\"],[\"PoS\"],[\"X11\"],[\"PoS\"],[\"X11\"],[\"Scrypt\"],[\"Scrypt\"],[\"Scrypt\"],[\"SHA-256\"],[\"X11\"],[\"Scrypt\"],[\"PoS\"],[\"Scrypt\"],[\"X15\"],[\"SHA-256\"],[\"POS 3.0\"],[\"536\"],[\"NIST5\"],[\"NIST5\"],[\"Skein\"],[\"X13\"],[\"Scrypt\"],[\"X13\"],[\"SkunkHash v2 Raptor\"],[\"Skein\"],[\"X11\"],[\"Scrypt\"],[\"PoS\"],[\"Scrypt\"],[\"Scrypt\"],[\"SHA-512\"],[\"Ouroboros\"],[\"X11\"],[\"NeoScrypt\"],[\"Scrypt\"],[\"Lyra2REv2\"],[\"Scrypt\"],[\"SHA-256\"],[\"NIST5\"],[\"PHI1612\"],[\"Scrypt\"],[\"Quark\"],[\"POS 2.0\"],[\"Scrypt\"],[\"SHA-256\"],[\"X11\"],[\"DPoS\"],[\"NIST5\"],[\"X13\"],[\"Scrypt\"],[\"NIST5\"],[\"Quark\"],[\"Scrypt\"],[\"Scrypt\"],[\"X11\"],[\"Quark\"],[\"Scrypt\"],[\"Scrypt\"],[\"X11\"],[\"POS 3.0\"],[\"Scrypt\"],[\"Scrypt\"],[\"X13\"],[\"C11\"],[\"X11\"],[\"XEVAN\"],[\"Scrypt\"],[\"VBFT\"],[\"NIST5\"],[\"Scrypt\"],[\"Scrypt\"],[\"Scrypt\"],[\"Green Protocol\"],[\"PoS\"],[\"Scrypt\"],[\"Semux BFT consensus\"],[\"Quark\"],[\"PoS\"],[\"X16R\"],[\"Scrypt\"],[\"XEVAN\"],[\"Scrypt\"],[\"Scrypt\"],[\"Scrypt\"],[\"SHA-256D\"],[\"Scrypt\"],[\"X15\"],[\"Scrypt\"],[\"Quark\"],[\"SHA-256\"],[\"DPoS\"],[\"X16R\"],[\"Quark\"],[\"Quark\"],[\"Scrypt\"],[\"Lyra2REv2\"],[\"Quark\"],[\"Scrypt\"],[\"X11\"],[\"X11\"],[\"Scrypt\"],[\"PoS\"],[\"Keccak\"],[\"X11\"],[\"Scrypt\"],[\"SHA-512\"],[\"XEVAN\"],[\"XEVAN\"],[\"X11\"],[\"Quark\"],[\"Scrypt\"],[\"Quark\"],[\"Quark\"],[\"Scrypt\"],[\"X11\"],[\"Scrypt\"],[\"XEVAN\"],[\"SHA-256D\"],[\"X11\"],[\"X11\"],[\"DPoS\"],[\"Scrypt\"],[\"X11\"],[\"Scrypt\"],[\"Scrypt\"],[\"SHA-256\"],[\"Scrypt\"],[\"X11\"],[\"Scrypt\"],[\"SHA-256\"],[\"X11\"],[\"Scrypt\"],[\"Scrypt\"],[\"X11\"],[\"Scrypt\"],[\"PoS\"],[\"X11\"],[\"SHA-256\"],[\"DPoS\"],[\"Scrypt\"],[\"Scrypt\"],[\"NeoScrypt\"],[\"X13\"],[\"DPoS\"],[\"DPoS\"],[\"SHA-256\"],[\"PoS\"],[\"PoS\"],[\"SHA-256\"],[\"Scrypt\"],[\"Scrypt\"]],\"hovertemplate\":\"<b>%{hovertext}</b><br><br>Class=%{marker.color}<br>PC1=%{x}<br>PC2=%{y}<br>PC3=%{z}<br>Algorithm=%{customdata[0]}<extra></extra>\",\"hovertext\":[\"42 Coin\",\"404Coin\",\"EliteCoin\",\"Dash\",\"Bitshares\",\"BitcoinDark\",\"PayCoin\",\"KoboCoin\",\"Aurora Coin\",\"BlueCoin\",\"EnergyCoin\",\"BitBar\",\"CryptoBullion\",\"Diamond\",\"Exclusive Coin\",\"FlutterCoin\",\"HoboNickels\",\"HyperStake\",\"IOCoin\",\"MaxCoin\",\"MintCoin\",\"MazaCoin\",\"Nautilus Coin\",\"NavCoin\",\"OpalCoin\",\"Orbitcoin\",\"PotCoin\",\"PhoenixCoin\",\"Reddcoin\",\"SuperCoin\",\"SyncCoin\",\"TeslaCoin\",\"TittieCoin\",\"TorCoin\",\"UnitaryStatus Dollar\",\"UltraCoin\",\"VeriCoin\",\"X11 Coin\",\"Crypti\",\"StealthCoin\",\"ZCC Coin\",\"StorjCoin\",\"Neutron\",\"FairCoin\",\"RubyCoin\",\"Kore\",\"Dnotes\",\"8BIT Coin\",\"Sativa Coin\",\"Ucoin\",\"Vtorrent\",\"IslaCoin\",\"Nexus\",\"Droidz\",\"Squall Coin\",\"Diggits\",\"Paycon\",\"Emercoin\",\"EverGreenCoin\",\"Decred\",\"EDRCoin\",\"Hitcoin\",\"DubaiCoin\",\"PWR Coin\",\"BillaryCoin\",\"GPU Coin\",\"EuropeCoin\",\"ZeitCoin\",\"SwingCoin\",\"Nebuchadnezzar\",\"Ratecoin\",\"Revenu\",\"Clockcoin\",\"VIP Tokens\",\"BitSend\",\"Let it Ride\",\"PutinCoin\",\"iBankCoin\",\"Frankywillcoin\",\"MudraCoin\",\"Lutetium Coin\",\"GoldBlocks\",\"CarterCoin\",\"BitTokens\",\"MustangCoin\",\"ZoneCoin\",\"RootCoin\",\"BitCurrency\",\"Swiscoin\",\"BuzzCoin\",\"Opair\",\"PesoBit\",\"Halloween Coin\",\"CoffeeCoin\",\"RoyalCoin\",\"GanjaCoin V2\",\"TeamUP\",\"LanaCoin\",\"ARK\",\"InsaneCoin\",\"EmberCoin\",\"XenixCoin\",\"FreeCoin\",\"PLNCoin\",\"AquariusCoin\",\"Creatio\",\"Eternity\",\"Eurocoin\",\"BitcoinFast\",\"Stakenet\",\"BitConnect Coin\",\"MoneyCoin\",\"Enigma\",\"Russiacoin\",\"PandaCoin\",\"GameUnits\",\"GAKHcoin\",\"Allsafe\",\"LiteCreed\",\"Klingon Empire Darsek\",\"Internet of People\",\"KushCoin\",\"Printerium\",\"Impeach\",\"Zilbercoin\",\"FirstCoin\",\"FindCoin\",\"OpenChat\",\"RenosCoin\",\"VirtacoinPlus\",\"TajCoin\",\"Impact\",\"Atmos\",\"HappyCoin\",\"MacronCoin\",\"Condensate\",\"Independent Money System\",\"ArgusCoin\",\"LomoCoin\",\"ProCurrency\",\"GoldReserve\",\"GrowthCoin\",\"Phreak\",\"Degas Coin\",\"HTML5 Coin\",\"Ultimate Secure Cash\",\"QTUM\",\"Espers\",\"Denarius\",\"Virta Unique Coin\",\"Bitcoin Planet\",\"BritCoin\",\"Linda\",\"DeepOnion\",\"Signatum\",\"Cream\",\"Monoeci\",\"Draftcoin\",\"Stakecoin\",\"CoinonatX\",\"Ethereum Dark\",\"Obsidian\",\"Cardano\",\"Regalcoin\",\"TrezarCoin\",\"TerraNovaCoin\",\"Rupee\",\"WomenCoin\",\"Theresa May Coin\",\"NamoCoin\",\"LUXCoin\",\"Xios\",\"Bitcloud 2.0\",\"KekCoin\",\"BlackholeCoin\",\"Infinity Economics\",\"Magnet\",\"Lamden Tau\",\"Electra\",\"Bitcoin Diamond\",\"Cash & Back Coin\",\"Bulwark\",\"Kalkulus\",\"GermanCoin\",\"LiteCoin Ultra\",\"PhantomX\",\"Digiwage\",\"Trollcoin\",\"Litecoin Plus\",\"Monkey Project\",\"TokenPay\",\"My Big Coin\",\"Unified Society USDEX\",\"Tokyo Coin\",\"Stipend\",\"Pushi\",\"Ellerium\",\"Velox\",\"Ontology\",\"Bitspace\",\"Briacoin\",\"Ignition\",\"MedicCoin\",\"Bitcoin Green\",\"Deviant Coin\",\"Abjcoin\",\"Semux\",\"Carebit\",\"Zealium\",\"Proton\",\"iDealCash\",\"Bitcoin Incognito\",\"HollyWoodCoin\",\"Swisscoin\",\"Xt3ch\",\"TheVig\",\"EmaratCoin\",\"Dekado\",\"Lynx\",\"Poseidon Quark\",\"BitcoinWSpectrum\",\"Muse\",\"Trivechain\",\"Dystem\",\"Giant\",\"Peony Coin\",\"Absolute Coin\",\"Vitae\",\"TPCash\",\"ARENON\",\"EUNO\",\"MMOCoin\",\"Ketan\",\"XDNA\",\"PAXEX\",\"ThunderStake\",\"Kcash\",\"Bettex coin\",\"BitMoney\",\"Junson Ming Chan Coin\",\"HerbCoin\",\"Oduwa\",\"Galilel\",\"Crypto Sports\",\"Credit\",\"Dash Platinum\",\"Nasdacoin\",\"Beetle Coin\",\"Titan Coin\",\"Award\",\"Insane Coin\",\"ALAX\",\"LiteDoge\",\"TruckCoin\",\"OrangeCoin\",\"BitstarCoin\",\"NeosCoin\",\"HyperCoin\",\"PinkCoin\",\"AudioCoin\",\"IncaKoin\",\"Piggy Coin\",\"Genstake\",\"XiaoMiCoin\",\"CapriCoin\",\" ClubCoin\",\"Radium\",\"Creditbit \",\"OKCash\",\"Lisk\",\"HiCoin\",\"WhiteCoin\",\"FriendshipCoin\",\"Triangles Coin\",\"EOS\",\"Oxycoin\",\"TigerCash\",\"Particl\",\"Nxt\",\"ZEPHYR\",\"Gapcoin\",\"BitcoinPlus\"],\"legendgroup\":\"0\",\"marker\":{\"color\":[0,0,0,0,0,0,0,0,0,0,0,0,0,0,0,0,0,0,0,0,0,0,0,0,0,0,0,0,0,0,0,0,0,0,0,0,0,0,0,0,0,0,0,0,0,0,0,0,0,0,0,0,0,0,0,0,0,0,0,0,0,0,0,0,0,0,0,0,0,0,0,0,0,0,0,0,0,0,0,0,0,0,0,0,0,0,0,0,0,0,0,0,0,0,0,0,0,0,0,0,0,0,0,0,0,0,0,0,0,0,0,0,0,0,0,0,0,0,0,0,0,0,0,0,0,0,0,0,0,0,0,0,0,0,0,0,0,0,0,0,0,0,0,0,0,0,0,0,0,0,0,0,0,0,0,0,0,0,0,0,0,0,0,0,0,0,0,0,0,0,0,0,0,0,0,0,0,0,0,0,0,0,0,0,0,0,0,0,0,0,0,0,0,0,0,0,0,0,0,0,0,0,0,0,0,0,0,0,0,0,0,0,0,0,0,0,0,0,0,0,0,0,0,0,0,0,0,0,0,0,0,0,0,0,0,0,0,0,0,0,0,0,0,0,0,0,0,0,0,0,0,0,0,0,0,0,0,0,0,0,0,0,0,0,0,0,0,0,0,0,0,0,0,0,0,0,0,0,0,0,0,0],\"coloraxis\":\"coloraxis\",\"symbol\":\"circle\"},\"mode\":\"markers\",\"name\":\"0\",\"scene\":\"scene\",\"showlegend\":true,\"type\":\"scatter3d\",\"x\":[-0.3407758460635135,-0.3240951504855292,2.3068216328392013,-0.37774462104150136,-0.23369281495104238,-0.3127333422828839,-0.27207171374198647,-0.24166037224251974,-0.3404350703403593,-0.33300343262312454,-0.3392705602950112,-0.34077177922053886,-0.34075604289179146,-0.3611922537488661,-0.36149518521282853,-0.29078913026215497,-0.33883270765320417,-0.3168816751104813,-0.3776391870875436,-0.40400587421821255,-0.03971353852710868,-0.27600398020814787,-0.29986510181792164,-0.27904985232472707,-0.2796728297517785,-0.3398800216324105,-0.3350727548954677,-0.339176009206498,0.017807977359722386,-0.3367928438956203,-0.3780111295092151,-0.24814073786151822,-0.3325588641803748,-0.3779227002316403,-0.31598376451787824,-0.33945201124316693,-0.3019785070005887,-0.37788711431372307,-0.24860865239260746,-0.27945342251683547,-0.3318719943020603,-0.3333649860994552,-0.31194426826461913,-0.360613084656827,-0.2998452718382653,-0.2797483578452524,-0.29449471377684855,-0.3407578924540369,-0.27970047620241517,-0.33723831822213035,-0.3404920264326297,-0.3779926355889639,-0.39009818382870715,-0.4242019985953389,-0.3475713972128462,-0.2982452372253546,-0.2792216835386573,-0.3052848095140717,-0.24410353206062652,-0.07355113775413218,-0.3127042203127807,-0.0551691635940862,-0.312767947150163,-0.23444314860907653,-0.3403678419347173,-0.2981146076646414,-0.37515988641838194,0.8543211401819041,-0.3125678817936474,-0.3611781482697802,-0.3758332699203742,-0.3113106096360632,-0.30897718068075947,-0.35595202627045286,-0.376726825498154,-0.34801592843292695,-0.3166429033944481,-0.34040599606280725,-0.33884329546434394,-0.2377802712782694,-0.3247162299915522,-0.3774660930739752,-0.3396094235100956,-0.3127489179133003,-0.3779818259146065,-0.3405952977873041,-0.3407521184304242,-0.29810328262512475,-0.2569912704881384,0.03213767053727037,-0.36013415698804574,-0.34036579886037494,-0.3641331562316563,-0.359461830168998,-0.23921184581163993,-0.4257186478633419,-0.3592115121780539,-0.28272631663893266,3.6949108913637123,-0.3775739746204241,0.8538608083851704,-0.37793668347877307,-0.36059838284652795,-0.34029341978592403,-0.34044795039428905,-0.3611781482697802,-0.3775112905341287,-0.31261141726037694,-0.34029413418778504,-0.30326769516490526,-0.3404416866638558,-0.3360267854981464,-0.377965717774873,-0.33965188330128493,0.34406942264039664,-0.3406411483009496,-0.34071176754808524,-0.3674714805608376,-0.35337848337695626,-0.33693587729740493,-0.3127253024850843,-0.3778755756662871,-0.3404893720462789,-0.34061648972925734,-0.29975188849693335,-0.29634164832456106,-0.23897946177102317,-0.3214503327667737,-0.2994926164865561,-0.3771407804206756,-0.4255244857411668,-0.375877633633828,-0.3594229012322866,-0.3770385395523005,-0.35381706653487277,-0.3729761280230653,-0.34055970332866237,-0.3405589221457552,-0.3336760737956119,0.26094703782575523,-0.37751736682534054,-0.2823804195264372,-0.36121252522258684,-0.3397697555282869,0.8913088753761462,-0.27076126548198,-0.34679303955625795,0.5762460955086427,-0.35748924848712876,-0.3559900714904496,-0.40308606634802063,-0.2793852622586323,0.1245433121660908,-0.2794560771387892,-0.3678671698033308,-0.40259034049325465,-0.37778996425745287,-0.2998260304281098,-0.36107876209188977,-0.3401945582849097,-0.3406946797159297,-0.29181444144478885,0.6417515237420034,-0.377730789593736,-0.3348746891933613,-0.34065028669871045,-0.32593563478479387,0.4293149171865409,-0.3110698499823135,-0.3422420911026913,-0.40878918495162286,-0.3406005853988933,-0.40651020482551675,-0.3410701582312395,-0.34047079960564924,-0.09837748282345678,-0.3765224246220276,3.699771382993737,0.20257284877986786,-0.2761235902912815,-0.33792872436164734,-0.31665450431049913,-0.36735726367585336,0.07398377942078695,-0.3396088133776644,-0.37710390361708657,-0.3665213726708873,-0.32716224972714386,-0.34071683772929173,-0.3372102170845666,-0.3482981586846636,-0.28792672782733336,-0.3362575124861237,-0.23076825276437535,-0.36818108914260733,-0.377807293019995,-0.33435113526546895,-0.29898540640639837,-0.3356701152163243,-0.35708787488346805,-0.3407442221829598,-0.3407259186569161,-0.2933614131189708,-0.3364930224949394,-0.36067282544155144,-0.34044218026897416,3.8946169125142998,-0.40517658936278667,-0.36086169505602933,-0.3218545676206461,-0.2872670269299776,-0.3040638014027547,-0.2995198973935986,-0.14365560296938953,-0.29977233865277486,-0.3480922353535627,-0.3399157796412429,-0.20284866554640218,2.2303749326275835,-0.36306243519718423,-0.2708887480745553,0.9988086854022616,-0.3617885117292377,-0.3674709397006998,-0.4081956497686593,-0.1804241101784563,-0.36646200568642745,-0.3661892100120572,-0.333616091184935,-0.33678723972824454,-0.3772800801308579,-0.297015285559375,-0.3599609024107009,-0.35520346968730626,-0.3366486269457764,-0.20012481146228614,-0.20099361783694228,-0.2937461195451894,0.45698529869401766,-0.12690376746955465,-0.40748960445772214,-0.34044612320464407,-0.4079461456933974,-0.3675880301195024,0.5668853833547778,-0.33726459387097246,-0.3399286574805078,-0.3288016717102542,-0.3027757184329456,-0.3748431968931795,-0.3775075171395686,3.7120261859142656,0.09488058893338239,-0.3750440192431206,-0.33931384953212973,-0.3401392833725484,-0.27210441740207675,-0.3406580394145422,-0.3691269073066482,-0.254296266780825,-0.09212122244900219,-0.3648720127193226,-0.3399355306004798,-0.33299284272038865,-0.37407261066294056,-0.3383733737640857,-0.36145407470627977,-0.30348165504485847,-0.31124690697037494,3.695303049437227,-0.10685697772405062,-0.33556525371620527,-0.3395056422563464,-0.27985564702006427,3.705183826430646,3.7064294913474614,-0.25298159556842886,-0.3613898609122953,-0.3606195428580335,2.4605867288730887,-0.3388197981666245,-0.30016912530158163],\"y\":[1.0141556205706725,1.0143089876618105,1.747880840468063,1.369455069820683,1.6705325381576317,0.9367815100526896,0.5919459182796818,2.0181064129385193,1.0141546146515006,1.0144009819949105,1.0142031398190383,1.0141553982190066,1.014155544222979,1.013467722645474,1.3603174232089355,0.08699798435178575,1.0141327786490888,1.0252659671411515,1.3694583981847885,2.2766564844687522,0.6775337548321456,0.9362592874394755,0.6693098777219687,1.8866410769242816,1.8866214106248005,0.627466000207117,1.0140410152158537,1.0141373748485325,1.0254754799635666,1.0246374066325996,1.3694620895409644,0.010295586705685436,1.5976953115778498,1.3694578665150936,1.0138158175066103,1.0141272588938715,0.05537668095904514,1.3694621467775414,0.010350968307067514,1.88662833692454,1.0137351711236429,1.2722191674459629,0.9367741494231255,1.0134890786873516,0.669321854448751,1.8866106079953735,0.6691399979447653,1.014156187363944,1.8866135225912248,1.0246093132254812,1.0141505497179946,1.369462674062963,2.6856011511483415,2.125259489533787,0.8789636949373277,0.6693022118831858,1.8866005760964273,0.9363305523448227,2.0182563728300225,1.025734502101157,0.9367824293819635,1.361028063528874,0.9367884852144438,1.6830295663811823,1.014139036379268,0.6692214137707664,1.3692827120621696,0.6363055439325557,0.9367741058378077,1.3603134009388023,1.3694782268027292,0.9366856089299305,0.9365472166771787,1.6791306076971577,1.3694051210112295,1.2720377142579025,1.013514398299856,1.0141361950213528,1.0141464749782525,1.541677706943785,1.0245577399015953,1.3694442196629664,1.014129304949867,0.9367817198858722,1.3694609107201767,1.0141465880949407,1.0141563696396938,0.6693768459782545,0.12579532212922792,2.0468776078969184,1.3603084753709178,1.0141685650676984,1.3688479008236867,1.3603535515803837,1.5417710664277375,2.073817163853378,1.3601783546981498,2.0457028023585693,1.7665543934916395,1.369454844600369,1.9218087707962477,1.3694617371543645,1.3603106572599253,1.0141438130435614,1.0141365074963766,1.3603134009388023,1.3694357775749506,0.936786762067549,1.0141476769584077,0.9324426752502999,1.0141465266286995,1.01384908373089,1.3694600161689905,1.0140900820362921,0.6668389694219676,1.014150752902109,1.0141553173258349,1.3938499158738813,0.7261918927062131,1.0139260774542482,0.9367824653833227,1.3694598073419102,1.014150633512294,1.0141452643430882,0.6692862183350835,0.1269232884997864,1.5417699666947102,1.0140641646119335,0.669308836043778,1.3694194127908683,2.0679619214268548,1.3694522728249996,1.3603054699755206,1.3694226403549017,1.3602791965302017,1.369270272173541,1.0141475629403678,1.0141424047941114,1.01367821951341,0.556166521135624,1.3694496163248473,0.6684701322872527,1.3603053004351358,1.014113720624834,1.9909802356991824,0.5918556911809154,1.2720296670670006,2.059523361693552,1.6791382025716737,1.679108360825058,2.0431199737219417,1.8866094427722178,0.9937685071258817,1.8866149955077594,1.4783640912718996,2.0431356229135456,1.369462402419254,0.6693102511394167,1.3602873548290206,1.0141401206832465,1.0141552364594668,1.671159531308549,1.2694776220911956,1.369451998813176,0.6273460431391561,1.0141485469083116,0.6016736899438867,1.0209278192165445,0.9367793043589634,1.6787847096815527,1.9429861505231014,1.0141464211743616,1.7386136216432166,1.3113825711856741,1.0141548759838417,0.5911241526826315,1.3694080659447423,1.766444757502212,1.675779539700596,1.8865861328987752,1.0140981782538305,1.3342889828727857,1.3938500138577272,0.992172431779554,1.014087232507567,1.3694556533458235,1.3938062486251308,1.013954002298272,1.0141546772757117,1.0246094988004857,1.2720347677375106,0.0464441947717545,1.0141355018430456,1.541478146979738,1.0586105617950168,1.3694509867916034,1.4456912884088498,0.6692620093653185,1.3793592363229885,1.6791228120935862,1.014154514325155,1.014153689078445,0.6691757742492885,1.3354262457829902,1.3602816491597602,1.014145107989686,1.7628205518206959,1.7386557215331089,1.3602812991059612,0.5805913738842758,1.0122516055522086,0.955215441760727,0.6693138862085397,1.0132227697562346,0.6692932895719397,2.048834834720928,1.0141238429970172,1.6733881552535061,0.0596662832738614,1.3935436311412928,0.5919216947430832,1.5413076910567467,0.9254302619116437,1.393845723777573,1.738697107220976,0.6612499709227198,0.9465002225228816,1.393830764982593,1.01368011305872,1.0245989994851061,1.3694500917637642,0.6692287947480876,1.3602185368522188,1.0365683042819342,1.024571806469039,1.0059682149575686,2.316204794583921,1.1008542602330582,0.8799351399275369,1.0312632348821347,1.7386851268670755,1.0141512972736204,1.7386952429039988,1.3938473801009805,0.9903345628113815,1.0246086942080683,1.0141234364663267,1.4455578027038738,2.0468279082105956,1.369267454370506,1.36945694254592,1.7664808558408875,1.0033550330053307,1.369555756684574,1.014061467577093,1.0141376535549111,0.5919389228914941,1.014159339548427,1.369391785287972,1.0095195804692332,0.943627989116402,1.3691753406190277,1.0141716249526138,1.0141207049454373,1.36944050443741,1.0141192178750682,1.3603124072397121,1.035908854089269,0.9367702073399572,1.7665422769821477,0.6683926724856697,1.0141096513022387,0.627438253804656,1.8866155552224175,1.7669663829955664,1.7670057064417224,0.5918558003871013,1.3603146910171968,1.4564239383855617,0.8170273551642743,1.0140419874887667,0.6693109294372648],\"z\":[-0.572088219040818,-0.5725051062821884,-0.6067399051680022,-0.5062792173721798,-0.09607273153587571,-0.3542316399165168,-0.07101197650138111,-0.5823407695091404,-0.5720960027370638,-0.5723132664357118,-0.5721318040451545,-0.5720882746794977,-0.572088668198649,-0.39086641311759307,-0.12899842207852927,-0.5132786363484455,-0.5721295729896643,-0.2236460287290881,-0.506282270173768,-0.571553414510351,-0.29640718180265674,-0.35499729466916347,-0.28887257817646705,-0.5708983994573764,-0.5708803613737287,-0.29129734824742315,-0.5722011687505222,-0.5721223661204493,-0.5824708825595858,-0.22306950811618398,-0.5062742338944394,0.0766659538013409,-0.19004747700348268,-0.5062755520461955,-0.5726072791213855,-0.5721141261004029,-0.46466990762820715,-0.506277141507889,0.0766670779966411,-0.5708867142300038,-0.5722217858298213,-0.23081848793502424,-0.3542487721807543,-0.3908837269224476,-0.2888751625654783,-0.5708766835935287,-0.2889679655236315,-0.5720887388862395,-0.5708783184709698,-0.22305412475014266,-0.5720939521199151,-0.5062747695033804,-0.3671804227932587,-0.5790200045808239,-0.24481602136499314,-0.2889090668838589,-0.5708872120979545,-0.3543258017726666,-0.5823102457663641,-0.42511875927277104,-0.35423248313251493,-0.5123234068612108,-0.35423206671660806,-0.5121469102775783,-0.5720948145348974,-0.2888978095163317,-0.5063090821802839,-0.3099937711820836,-0.3542341944266938,-0.12900511694753392,-0.5063279750727149,-0.35424789634768866,-0.35427790498511674,-0.5086174834579946,-0.5062941510743473,-0.08433215796768023,-0.5725384976006522,-0.5720934199004684,-0.5721317512432401,-0.28767031059761805,-0.22333755572705385,-0.5062838032999626,-0.5721108106956502,-0.3542313131708217,-0.5062747097705831,-0.5720908376946068,-0.5720889060709824,-0.28892560122629557,-0.46789856090249216,-0.6674578569477162,-0.12902863632002942,-0.5721000918128993,-0.5064897041780658,-0.129052327503573,-0.2876533974602591,-0.568590388047398,-0.12902714845872898,-0.6598933522238248,-0.14504411450718155,-0.5062831644490021,-0.6035958086200227,-0.5062759108351462,-0.12901817661374412,-0.5720973992748296,-0.5720924950237373,-0.12900511694753392,-0.5062812522141392,-0.35423541869294745,-0.572098066884663,-0.3633298844036531,-0.5720944157616059,-0.5721448877374663,-0.5062749276939024,-0.5721028722745221,-0.3034797917097274,-0.572090504037657,-0.5720896624591243,-0.18107473411832126,-0.35210292350306827,-0.5721372834434013,-0.35423199694691204,-0.5062769967804364,-0.5720940289767019,-0.5720901081314601,-0.2888710331916002,-0.43045155503167953,-0.28765863209116554,-0.5725235412295488,-0.28888109639942455,-0.5062870105594671,-0.7513901981426354,-0.5063223421030013,-0.1290447217611993,-0.5062899709064327,-0.12917104280229214,-0.506357900151561,-0.5720918419650206,-0.5720909467064943,-0.5721695493676342,-0.07712881843771333,-0.5062835610971251,-0.28913236900156447,-0.12900287916554473,-0.5721043047258463,-0.6040072752255441,-0.07102661440516836,-0.08435930424227413,-0.7142709737304971,-0.5085829130298064,-0.5086126546428928,-0.6486396053459832,-0.5708849605556966,-0.579349315715952,-0.5708842894368784,-0.05421617507054685,-0.6486539589068766,-0.50627945658494,-0.2888735571683406,-0.12900282621719328,-0.5720990551449656,-0.5720900473758085,-0.09482582527580208,-0.08558462802970937,-0.5062789966517461,-0.291393047811303,-0.5720898998466959,-0.10013397744441122,-0.591279890839642,-0.35427011493079946,-0.5088765421209897,-0.4725167420429393,-0.5720906845937461,-0.46431958383992117,-0.04369705129148582,-0.5720952142446748,-0.07492461357005355,-0.506299448222045,-0.1451382578945814,-0.5210733190493728,-0.5709570376970948,-0.5721445658063907,-0.22536488075682895,-0.18107742002152574,-0.5778853829292332,-0.5721033739024812,-0.5062942903632752,-0.18108919884109978,-0.5723705788610488,-0.57208943064683,-0.22305481416731868,-0.08432504214232649,-0.47045115845447555,-0.5721902218335185,-0.28779879643688067,-0.39913213947513376,-0.506277030004985,-0.4504564878020167,-0.2888846537720862,-0.15989732803516435,-0.5085895650162096,-0.5720887619809742,-0.5720890434709017,-0.28900077982986017,-0.07057494308709379,-0.1290112999980448,-0.5720941529874726,-0.21283856906149654,-0.46435819818809176,-0.1290068252753163,-0.053923803474411544,-0.5730011910575599,-0.18899870790596202,-0.28888135339786064,-0.5765285055340408,-0.2888718077156916,-0.6589208347077197,-0.5721026857118058,-0.29909866465100055,-0.5505885700692994,-0.18112350338702307,-0.07103532517667262,-0.12399058152376224,-0.33716105219340764,-0.18107400433279588,-0.46429499063020385,-0.2902357707509067,-0.3833551966162553,-0.18110130130922836,-0.5721712861421974,-0.2230628371284152,-0.5062891892367266,-0.2889248011264785,-0.1290167560684944,-0.3787407074160264,-0.223061259766359,-0.5739243805336193,-0.004077908771251819,-0.16723524730385114,-0.13891819042406195,-0.2291467695913296,-0.4643093648659972,-0.5720951569901109,-0.4643004898434816,-0.18107156198127075,-0.5890759921494284,-0.22305340122063314,-0.5721023128386779,-0.4505625044553563,-0.6596241770427118,-0.5063137791341107,-0.5062850887010643,-0.14543097073852598,-0.5803540572416247,-0.5063601456116974,-0.572105702423352,-0.5720999096521635,-0.0710099735304542,-0.572091630094493,-0.5064693529301789,-0.5732876732655459,-0.36059851070720367,-0.5065304313530009,-0.5721106864582316,-0.5722638766669392,-0.5063624302663239,-0.5721379031949435,-0.12899849424931784,-0.3653256767001445,-0.3542643671054957,-0.14505113100428813,-0.2932195604310906,-0.5722018175458798,-0.2913011813040854,-0.5708750530576427,-0.1453570937099947,-0.1453931614822623,-0.07144203591751593,-0.12900039899105537,-0.097289440653214,-0.09289033660944353,-0.5721137954505796,-0.28886566126585583]},{\"customdata\":[[\"SHA-256\"],[\"Ethash\"],[\"Scrypt\"],[\"CryptoNight-V7\"],[\"Ethash\"],[\"Equihash\"],[\"Multiple\"],[\"Scrypt\"],[\"X11\"],[\"Scrypt\"],[\"Multiple\"],[\"Scrypt\"],[\"SHA-256\"],[\"Scrypt\"],[\"Scrypt\"],[\"Quark\"],[\"Groestl\"],[\"Scrypt\"],[\"Scrypt\"],[\"Scrypt\"],[\"X11\"],[\"Scrypt\"],[\"Multiple\"],[\"SHA-256\"],[\"Scrypt\"],[\"Scrypt\"],[\"Scrypt\"],[\"Scrypt\"],[\"Scrypt\"],[\"NeoScrypt\"],[\"Scrypt\"],[\"Scrypt\"],[\"Scrypt\"],[\"Scrypt\"],[\"SHA-256\"],[\"Scrypt\"],[\"Scrypt\"],[\"Scrypt\"],[\"Scrypt\"],[\"HybridScryptHash256\"],[\"Scrypt\"],[\"Scrypt\"],[\"SHA-256\"],[\"Scrypt\"],[\"Scrypt\"],[\"Scrypt\"],[\"Scrypt\"],[\"SHA-256\"],[\"SHA-256\"],[\"SHA-256\"],[\"SHA-256\"],[\"SHA-256\"],[\"X11\"],[\"Scrypt\"],[\"Lyra2REv2\"],[\"Scrypt\"],[\"SHA-256\"],[\"CryptoNight\"],[\"CryptoNight\"],[\"Shabal256\"],[\"Scrypt\"],[\"Scrypt\"],[\"Scrypt\"],[\"Scrypt\"],[\"Scrypt\"],[\"Scrypt\"],[\"Stanford Folding\"],[\"Multiple\"],[\"QuBit\"],[\"Scrypt\"],[\"Scrypt\"],[\"M7 POW\"],[\"Scrypt\"],[\"SHA-256\"],[\"Scrypt\"],[\"X11\"],[\"Lyra2RE\"],[\"SHA-256\"],[\"X11\"],[\"Scrypt\"],[\"Scrypt\"],[\"Ethash\"],[\"Blake2b\"],[\"X11\"],[\"SHA-256\"],[\"Scrypt\"],[\"1GB AES Pattern Search\"],[\"Scrypt\"],[\"SHA-256\"],[\"X11\"],[\"Dagger\"],[\"Scrypt\"],[\"X11GOST\"],[\"Scrypt\"],[\"Scrypt\"],[\"X11\"],[\"Scrypt\"],[\"X11\"],[\"Equihash\"],[\"CryptoNight\"],[\"SHA-256\"],[\"Multiple\"],[\"Scrypt\"],[\"SHA-256\"],[\"Scrypt\"],[\"Lyra2Z\"],[\"Ethash\"],[\"Equihash\"],[\"Scrypt\"],[\"X11\"],[\"X11\"],[\"CryptoNight\"],[\"Scrypt\"],[\"CryptoNight\"],[\"Lyra2RE\"],[\"X11\"],[\"CryptoNight-V7\"],[\"Scrypt\"],[\"X11\"],[\"Equihash\"],[\"Scrypt\"],[\"Lyra2RE\"],[\"Dagger-Hashimoto\"],[\"Scrypt\"],[\"NIST5\"],[\"Scrypt\"],[\"SHA-256\"],[\"Scrypt\"],[\"CryptoNight-V7\"],[\"Argon2d\"],[\"Blake2b\"],[\"Cloverhash\"],[\"CryptoNight\"],[\"X11\"],[\"Scrypt\"],[\"Scrypt\"],[\"X11\"],[\"X11\"],[\"CryptoNight\"],[\"Time Travel\"],[\"Scrypt\"],[\"Keccak\"],[\"X11\"],[\"SHA-256\"],[\"Scrypt\"],[\"Scrypt\"],[\"Scrypt\"],[\"Scrypt\"],[\"Scrypt\"],[\"Scrypt\"],[\"CryptoNight\"],[\"Equihash\"],[\"X11\"],[\"NeoScrypt\"],[\"Equihash\"],[\"Dagger\"],[\"Scrypt\"],[\"X11\"],[\"NeoScrypt\"],[\"Ethash\"],[\"NeoScrypt\"],[\"Multiple\"],[\"CryptoNight\"],[\"CryptoNight\"],[\"Ethash\"],[\"X11\"],[\"CryptoNight-V7\"],[\"Scrypt\"],[\"BLAKE256\"],[\"X11\"],[\"NeoScrypt\"],[\"NeoScrypt\"],[\"Scrypt\"],[\"X11\"],[\"SHA-256\"],[\"C11\"],[\"Ethash\"],[\"CryptoNight\"],[\"SkunkHash\"],[\"CryptoNight\"],[\"Scrypt\"],[\"Dagger\"],[\"Lyra2REv2\"],[\"Scrypt\"],[\"Scrypt\"],[\"X11\"],[\"Ethash\"],[\"CryptoNight\"],[\"Scrypt\"],[\"IMesh\"],[\"Equihash\"],[\"Lyra2Z\"],[\"X11\"],[\"CryptoNight\"],[\"NIST5\"],[\"Lyra2RE\"],[\"Tribus\"],[\"Lyra2Z\"],[\"CryptoNight\"],[\"CryptoNight Heavy\"],[\"CryptoNight\"],[\"Jump Consistent Hash\"],[\"CryptoNight\"],[\"X16R\"],[\"HMQ1725\"],[\"X11\"],[\"Scrypt\"],[\"CryptoNight-V7\"],[\"Cryptonight-GPU\"],[\"XEVAN\"],[\"CryptoNight Heavy\"],[\"SHA-256\"],[\"X11\"],[\"X16R\"],[\"Equihash\"],[\"Lyra2Z\"],[\"SHA-256\"],[\"CryptoNight\"],[\"Blake\"],[\"Blake\"],[\"Equihash\"],[\"Exosis\"],[\"Scrypt\"],[\"Equihash\"],[\"Equihash\"],[\"QuBit\"],[\"SHA-256\"],[\"X13\"],[\"SHA-256\"],[\"Scrypt\"],[\"NeoScrypt\"],[\"Blake\"],[\"Scrypt\"],[\"SHA-256\"],[\"Scrypt\"],[\"Groestl\"],[\"Scrypt\"],[\"Scrypt\"],[\"Multiple\"],[\"Equihash+Scrypt\"],[\"Ethash\"],[\"CryptoNight\"],[\"Equihash\"]],\"hovertemplate\":\"<b>%{hovertext}</b><br><br>Class=%{marker.color}<br>PC1=%{x}<br>PC2=%{y}<br>PC3=%{z}<br>Algorithm=%{customdata[0]}<extra></extra>\",\"hovertext\":[\"Bitcoin\",\"Ethereum\",\"Litecoin\",\"Monero\",\"Ethereum Classic\",\"ZCash\",\"DigiByte\",\"ProsperCoin\",\"Spreadcoin\",\"Argentum\",\"MyriadCoin\",\"MoonCoin\",\"ZetaCoin\",\"SexCoin\",\"Quatloo\",\"QuarkCoin\",\"Riecoin\",\"Digitalcoin \",\"Catcoin\",\"CannaCoin\",\"CryptCoin\",\"CasinoCoin\",\"Verge\",\"DevCoin\",\"EarthCoin\",\"E-Gulden\",\"Einsteinium\",\"Emerald\",\"Franko\",\"FeatherCoin\",\"GrandCoin\",\"GlobalCoin\",\"GoldCoin\",\"Infinite Coin\",\"IXcoin\",\"KrugerCoin\",\"LuckyCoin\",\"Litebar \",\"MegaCoin\",\"MediterraneanCoin\",\"MinCoin\",\"NobleCoin\",\"Namecoin\",\"NyanCoin\",\"RonPaulCoin\",\"StableCoin\",\"SmartCoin\",\"SysCoin\",\"TigerCoin\",\"TerraCoin\",\"UnbreakableCoin\",\"Unobtanium\",\"UroCoin\",\"ViaCoin\",\"Vertcoin\",\"WorldCoin\",\"JouleCoin\",\"ByteCoin\",\"DigitalNote \",\"BurstCoin\",\"MonaCoin\",\"Gulden\",\"PesetaCoin\",\"Wild Beast Coin\",\"Flo\",\"ArtByte\",\"Folding Coin\",\"Unitus\",\"CypherPunkCoin\",\"OmniCron\",\"GreenCoin\",\"Cryptonite\",\"MasterCoin\",\"SoonCoin\",\"1Credit\",\"MarsCoin \",\"Crypto\",\"Anarchists Prime\",\"BowsCoin\",\"Song Coin\",\"BitZeny\",\"Expanse\",\"Siacoin\",\"MindCoin\",\"I0coin\",\"Revolution VR\",\"HOdlcoin\",\"Gamecredits\",\"CarpeDiemCoin\",\"Adzcoin\",\"SoilCoin\",\"YoCoin\",\"SibCoin\",\"SafeExchangeCoin\",\"Francs\",\"BolivarCoin\",\"Omni\",\"PizzaCoin\",\"Komodo\",\"Karbo\",\"ZayedCoin\",\"Circuits of Value\",\"DopeCoin\",\"DollarCoin\",\"Shilling\",\"ZCoin\",\"Elementrem\",\"ZClassic\",\"KiloCoin\",\"ArtexCoin\",\"Kurrent\",\"Cannabis Industry Coin\",\"OsmiumCoin\",\"Bikercoins\",\"HexxCoin\",\"PacCoin\",\"Citadel\",\"BeaverCoin\",\"VaultCoin\",\"Zero\",\"Canada eCoin\",\"Zoin\",\"DubaiCoin\",\"EB3coin\",\"Coinonat\",\"BenjiRolls\",\"ILCoin\",\"EquiTrader\",\"Quantum Resistant Ledger\",\"Dynamic\",\"Nano\",\"ChanCoin\",\"Dinastycoin\",\"DigitalPrice\",\"Unify\",\"SocialCoin\",\"ArcticCoin\",\"DAS\",\"LeviarCoin\",\"Bitcore\",\"gCn Coin\",\"SmartCash\",\"Onix\",\"Bitcoin Cash\",\"Sojourn Coin\",\"NewYorkCoin\",\"FrazCoin\",\"Kronecoin\",\"AdCoin\",\"Linx\",\"Sumokoin\",\"BitcoinZ\",\"Elements\",\"VIVO Coin\",\"Bitcoin Gold\",\"Pirl\",\"eBoost\",\"Pura\",\"Innova\",\"Ellaism\",\"GoByte\",\"SHIELD\",\"UltraNote\",\"BitCoal\",\"DaxxCoin\",\"AC3\",\"Lethean\",\"PopularCoin\",\"Photon\",\"Sucre\",\"SparksPay\",\"GunCoin\",\"IrishCoin\",\"Pioneer Coin\",\"UnitedBitcoin\",\"Interzone\",\"1717 Masonic Commemorative Token\",\"TurtleCoin\",\"MUNcoin\",\"Niobio Cash\",\"ShareChain\",\"Travelflex\",\"KREDS\",\"BitFlip\",\"LottoCoin\",\"Crypto Improvement Fund\",\"Callisto Network\",\"BitTube\",\"Poseidon\",\"Aidos Kuneen\",\"Bitrolium\",\"Alpenschillling\",\"FuturoCoin\",\"Monero Classic\",\"Jumpcoin\",\"Infinex\",\"KEYCO\",\"GINcoin\",\"PlatinCoin\",\"Loki\",\"Newton Coin\",\"MassGrid\",\"PluraCoin\",\"Motion\",\"PlusOneCoin\",\"Axe\",\"HexCoin\",\"Webchain\",\"Ryo\",\"Urals Coin\",\"Qwertycoin\",\"Project Pai\",\"Azart\",\"Xchange\",\"CrypticCoin\",\"Actinium\",\"Bitcoin SV\",\"FREDEnergy\",\"Universal Molecule\",\"Lithium\",\"PirateCash\",\"Exosis\",\"Block-Logic\",\"Beam\",\"Bithereum\",\"SLICE\",\"BLAST\",\"Bitcoin Rhodium\",\"GlobalToken\",\"SolarCoin\",\"UFO Coin\",\"BlakeCoin\",\"Crypto Escudo\",\"Crown Coin\",\"SmileyCoin\",\"Groestlcoin\",\"Bata\",\"Pakcoin\",\"JoinCoin\",\"Vollar\",\"Reality Clash\",\"Beldex\",\"Horizen\"],\"legendgroup\":\"3\",\"marker\":{\"color\":[3,3,3,3,3,3,3,3,3,3,3,3,3,3,3,3,3,3,3,3,3,3,3,3,3,3,3,3,3,3,3,3,3,3,3,3,3,3,3,3,3,3,3,3,3,3,3,3,3,3,3,3,3,3,3,3,3,3,3,3,3,3,3,3,3,3,3,3,3,3,3,3,3,3,3,3,3,3,3,3,3,3,3,3,3,3,3,3,3,3,3,3,3,3,3,3,3,3,3,3,3,3,3,3,3,3,3,3,3,3,3,3,3,3,3,3,3,3,3,3,3,3,3,3,3,3,3,3,3,3,3,3,3,3,3,3,3,3,3,3,3,3,3,3,3,3,3,3,3,3,3,3,3,3,3,3,3,3,3,3,3,3,3,3,3,3,3,3,3,3,3,3,3,3,3,3,3,3,3,3,3,3,3,3,3,3,3,3,3,3,3,3,3,3,3,3,3,3,3,3,3,3,3,3,3,3,3,3,3,3,3,3,3,3,3,3,3,3,3,3,3,3,3,3,3,3,3,3,3,3,3,3,3,3,3,3,3,3,3,3,3,3,3],\"coloraxis\":\"coloraxis\",\"symbol\":\"diamond\"},\"mode\":\"markers\",\"name\":\"3\",\"scene\":\"scene\",\"showlegend\":true,\"type\":\"scatter3d\",\"x\":[-0.14404951608396827,-0.15444805511168233,-0.17092149027631123,-0.1504600385504692,-0.15288896544659408,-0.12693525093321611,0.16654354719361586,-0.17206892054076808,-0.20924549351393626,-0.17168515088214353,-0.08710469514011882,2.551675902612954,-0.14113137808836193,-0.1689378429251615,-0.17148907927521395,-0.2348901937275055,-0.1915744031906145,-0.17153770154375744,-0.17205116420663844,-0.17213769664736953,-0.20933494035912303,0.6269618251626364,0.19034074074235427,0.2341881741256434,0.07685136720685933,-0.1718837036979066,-0.16748460984024602,-0.17182296555363716,-0.172194763742322,-0.16652287714622235,-0.15139662659414482,-0.1709885891603723,-0.1712663956339349,1.5785511852697205,-0.14401083682393953,-0.16855315433890197,-0.17191017456944685,-0.17226535986594718,-0.17152384107684937,-0.17698377320813108,-0.17214651170829529,-0.036942202613686484,-0.14408854518735234,-0.1658037666798873,-0.172125971787933,-0.1702188335569172,-0.17161219030596586,-0.13122794598220838,-0.14355174283142155,-0.14383928944091373,-0.14382240694737627,-0.14441353458580852,-0.20950898096510606,-0.17184211196783855,-0.1972882861005564,-0.16894262533436308,-0.14361911427537857,3.8626801019113164,0.4580691643819315,-0.07616629015963547,-0.17070861173574864,-0.15529448327581874,-0.16942606296710705,-0.17226757714258809,-0.16929090634820043,-0.15550058505730688,-0.1220627349323915,-0.12114603733980728,-0.18574219312428458,-0.17214049780175983,-0.04495884572893056,-0.11221366094441926,-0.17227647275291771,-0.14411635773906473,0.48032909242574656,-0.2088955282281932,-0.14938251797382554,-0.14385602487502494,-0.20918073761706213,-0.17039873991292823,-0.16959012444807384,-0.15551692819694213,0.37928177293941084,-0.20921615871842933,-0.14401196059074065,-0.16823008652098012,-0.1561770487921355,-0.1708383520973977,0.2749118771407923,-0.20837609837717103,-0.14773174447905324,-0.17108643296161483,-0.16798867463866715,-0.10455748062837066,-0.172066198161373,-0.20917939239554303,-0.17227653130922543,-0.20932955269590878,-0.16817742231890837,0.3028188206072594,-0.14427232792062372,-0.1011982483972597,-0.16944047893848657,-0.14423090906270877,-0.1719396263053339,-0.17003653126152513,-0.15525879760648068,-0.12695689528055126,-0.09895078427051786,-0.19589786989995298,-0.2071557891630511,0.3028131324875018,-0.1722582546713043,0.3029439971483356,-0.14992341717957622,0.5064102544189336,-0.14922393876487575,-0.17222650440547765,-0.2020584198783838,-0.12696926936936787,-0.1703578084799867,-0.14964148664584448,-0.13034398551944965,-0.14312980213977572,-0.1886576977359344,-0.1717884605998641,-0.11056512372079298,-0.17161045001726585,-0.14908116778923883,-0.15802700915117482,-0.02152813519163382,-0.16263440697079376,0.338972658721935,-0.20838456797739296,-0.1719298988261572,-0.17169320871282678,-0.20877958270341584,-0.20935759572180607,0.3032084837923181,-0.1549767903460397,3.2409096145165077,-0.12648951022534186,-0.2002226212525858,-0.14404867924579465,-0.09779910932901235,1.5769486837388171,-0.17202787288707283,-0.17147908551697275,-0.17117974862415006,-0.1711666630455074,0.303392182633362,0.08553924792911738,-0.16369422181867774,-0.17121627018352797,-0.1268151426010053,-0.14648979057906214,-0.1703560153732072,-0.20489775328150467,-0.17106156061763125,-0.15362297506139824,-0.1711618382052428,-0.11136822083396293,1.1414655404070073,0.30279591522830196,-0.07845718786599633,-0.2046398208198489,-0.13818315153251,-0.08833061610915771,1.1011422157182624,-0.20933156517822674,-0.1712138011595922,-0.16424484219333407,-0.17127810827256926,-0.2092568915343015,-0.14402804720688092,-0.19965959098685457,-0.2836233079530235,8.046308215322341,-0.14457860750157392,0.3066739127481264,0.020966696600366784,-0.1459921478120187,-0.18283226060507876,-0.17185245928279227,0.13553637525240925,-0.2033923575432251,-0.10662770153208309,0.31072500724036706,-0.1720896914307774,-0.1299737572677192,-0.12580516023298524,-0.16781838740754546,-0.20842539196894933,0.3029786404385384,-0.18871712238542454,-0.14976852697763676,-0.1460846350354186,-0.17012096961629974,0.30690943026831785,0.5939169276616058,2.112993778927999,-0.15434099278239516,0.3165967495623158,-0.19408231282590338,-0.15176483429772486,-0.20931370777088262,-0.1721143089068098,-0.1380659656891938,-0.16067289546686797,-0.16462443998249554,3.1189049369087725,-0.10383418589672727,-0.2092850536360805,-0.19350963245753797,-0.02145945375781377,-0.16951826292268948,-0.14404871685875453,0.3828064990799198,-0.13947470192511394,-0.13986689320123083,-0.2541542008471231,-0.12089270675377295,-0.17100560801236414,-0.124873788482238,-0.12664779069151447,-0.18495258024527703,-0.14332412073734058,-0.11134160631035009,-0.14219105578709218,0.5242789861048055,-0.09630112786811806,-0.09029839551256456,-0.155651361653684,-0.14383865909558427,0.5442615386957405,-0.19113493445114868,-0.172191174056711,-0.17014502859117261,-0.12188186386459716,-0.11225625070244394,-0.15529199101171365,0.3245748428565259,-0.12693630921819027],\"y\":[-1.2493283591714095,-2.009370584200332,-1.1719769269804796,-2.1858082306296964,-2.0094686874481096,-2.0583736844277194,-1.8365852540959844,-1.1719689530435065,-0.8166599284866098,-1.17198700383227,-1.8312634427783787,-1.3553572968880356,-1.2493406230261737,-1.172030760441352,-1.1720060692190457,-0.4474372307606331,-1.1726692182940766,-1.1719712411160619,-1.17196839250733,-1.1719656101708786,-0.8166613491091077,-0.4244930173524083,-1.8327157249623278,-1.2521054258610718,-1.173566879341061,-1.17196310607419,-1.1720198152565848,-1.1719689054902516,-1.1719660758372643,-1.558730110898348,-1.1722982310272358,-1.171969223776594,-1.1719795690596733,-1.1802487010624134,-1.2493271381353481,-1.1720294346295521,-1.171963240184569,-1.1719613692540445,-1.1719664779415258,-2.1461106405002175,-1.1719636856476874,-1.1782114343764365,-1.249329591251433,-1.1719928561470605,-1.1719707540508362,-1.1720711990580717,-1.1719757210321315,-1.2495318299089915,-1.249330893480982,-1.2493364547828758,-1.2493625799109405,-1.2493252938800141,-0.8166542157533903,-1.1719631961533397,-1.239616981302872,-1.1720417295425034,-1.2493316088260755,-2.287275272665021,-2.2723589779731186,-1.2731226391565174,-1.1719850230595952,-1.1726032492119782,-1.1719875150932815,-1.1719623358028368,-1.1719787684767455,-1.1721327161801334,-2.0895617290906885,-1.8309350111894402,-1.45989644177946,-1.171958845604007,-1.174956863746143,-2.2263758759736105,-1.171961207586383,-1.2493304692446758,-1.2158997768459316,-0.8166580005682988,-2.123806384984601,-1.2493452330648458,-0.8166585857854519,-1.172048985616086,-1.172051351819497,-2.0094161869573224,-2.0906324610301645,-0.816656196325273,-1.2493271736106855,-1.1719803566835667,-2.0905627926165873,-1.1719743024546745,-1.2512592035223944,-0.8166773810309472,-2.1257643047038175,-1.172041308761628,-2.124283248864192,-0.42103117799079354,-1.1719681655744012,-0.8166613494327197,-1.171961207309271,-0.8166660897287705,-1.6372164393576203,-2.27025168915704,-1.249327490932708,-1.8311471287091745,-1.172011551355229,-1.2493268164000155,-1.171971185207818,-2.140648547347598,-2.0094145618415613,-2.058374367701619,-1.1766612940944368,-0.8165753011568445,-0.8167398781070958,-2.2702595855331924,-1.171962102040925,-2.2702582604800168,-2.123784322581354,-0.8642067456861513,-2.185898991889119,-1.1719615527276876,-0.8171205430553082,-2.0583719522162562,-1.1719703569937094,-2.123783139344196,-2.191315135111016,-1.1738467775200911,-0.506994539640833,-1.1719702858901966,-1.250010404781632,-1.1719902578846941,-2.18583836259022,-2.0273796822085925,-2.103524041211044,-2.1982861835303766,-2.2705064176890004,-0.8166888728554614,-1.1719633554992643,-1.1719949750160208,-0.8166732816388135,-0.8166626956745283,-2.2702702554259466,-2.0908398272125104,-1.204518180400422,-1.150898103492734,-0.8171327429664795,-1.2493283327539149,-1.176975701938711,-1.1167408175216702,-1.1719669557130332,-1.1719945292795484,-1.1719963041955335,-1.171995891106876,-2.270288931922529,-2.066383602939216,-0.8164706756409128,-1.5586615007742457,-2.0583698928193415,-2.1258137061661495,-1.1719703003884885,-0.8167541823566955,-1.5586692443768313,-2.0095409658250407,-1.5586631497888672,-1.8310893514882292,-2.303399987632455,-2.27025416606045,-2.0139869702931543,-0.8168863455604626,-2.1861218355962864,-1.1728183921755992,-1.1917409433560995,-0.8166625053116883,-1.5586572136612011,-1.5587732480046852,-1.1719741542144284,-0.8166623928871812,-1.2493270963621335,-1.127507700544909,-0.16813980475666418,-2.7273247453429756,-2.140107228421199,-2.2703586889456293,-1.1728757105571856,-2.1257584956897357,-1.2398733828934871,-1.1719754487823841,-1.1751566827021183,-0.816811888924003,-2.0124209144160843,-2.2706966178795684,-1.1719696087438987,-2.0446417118497036,-2.0583723843467725,-2.1407739702633117,-0.8166901615969299,-2.2702525367650566,-0.5069772975207409,-2.123790853853458,-2.181872068880777,-2.140643566258253,-2.270536457929633,-2.13855687208465,-2.3421818634177907,-2.244930356681453,-2.2705112573223962,-1.2606687487841082,-2.0686683855615393,-0.8166627834188712,-1.1719711612476005,-2.186644646265799,-2.1576830244407543,-0.7404915900623049,-2.188153162429243,-1.249517309582602,-0.8166646849718736,-1.2607053363824676,-2.060360883024424,-2.1406761022064065,-1.2493283339412895,-2.2733879531798697,-2.0996119483462374,-2.0995682831881246,-0.21713894123654165,-2.1077651852491965,-1.1720048374510137,-2.05847823725463,-2.058371545124103,-1.4599416679309363,-1.2493356254392716,-0.29950176438495746,-1.2493728155276733,-1.2187916793056803,-1.559083734030341,-2.1028964930483767,-1.1721374759315637,-1.2493364348839844,-1.1844173500129342,-1.1726700771365461,-1.1719615879173921,-1.1720211652351853,-1.83096020421554,-2.080371784003861,-2.0094144047572207,-2.270540170498382,-2.0583737178359103],\"z\":[0.1869865842713815,0.3882662550629523,-0.03089332663040199,0.4304266679483521,0.3882472027993371,0.40716151856934046,0.32895989925181174,-0.03086793038887711,0.034944230457225674,-0.03087369993652134,0.3339436125901075,-0.06202703532408176,0.18692057716352778,-0.03093013841011116,-0.030874904442620577,0.07681958775510683,0.1503347830449554,-0.030879936510025727,-0.03086844451704018,-0.030866915536026426,0.034946571875949836,-0.3446946533359911,0.3277186090171748,0.1786413019350491,-0.03640068202998508,-0.030873293274849375,-0.03096602997858275,-0.030873685274734216,-0.030865499757230765,0.24982696254267076,-0.03129260022014454,-0.0308931231805881,-0.030884800387719808,-0.07030287102031413,0.18698546432753507,-0.030939361032048345,-0.03087265106142999,-0.030864683895462916,-0.03088110390471504,0.3794635909819906,-0.030867050415864933,-0.03291946933405349,0.18698771434478859,-0.03101007547598593,-0.030866278490872645,-0.03089304779468249,-0.030877402767988234,0.18672305733379674,0.18697540318144654,0.18698310629654075,0.1869873386276883,0.18699454629349044,0.03494937482026994,-0.030874249066210058,0.15785288071984693,-0.030928084041760343,0.18697710392808262,0.3350730983636832,0.4119763560206252,-0.18006019277247573,-0.030896866481033885,-0.03114751228688196,-0.030926390463324228,-0.03086446091504462,-0.03093109727676793,-0.03122602855755654,0.3459778721823194,0.33468078523074374,0.18913596138296115,-0.030868048097975817,-0.0333085553076216,0.3550163640145652,-0.030864452886659063,0.18698851964705526,-0.03833031443364294,0.03493571247317477,0.4746577783452495,0.18698505193894605,0.03494247971489452,-0.030892778493631867,-0.030911251837080975,0.38829930435984855,0.4303311719268267,0.034942884114990955,0.1869854968657921,-0.030955600877600985,0.4454758819887036,-0.030895733865978003,0.1775399716488012,0.03492700886216596,0.44992022398966525,-0.030878070886328067,0.4561020913833102,-0.3282166133326292,-0.030868133455366,0.034942937728452514,-0.030864451567632668,0.034947285565052985,0.5250575325145718,0.4152304054885879,0.18699163625614362,0.3342522934811746,-0.03092179681754447,0.18699054909065063,-0.030870555887296217,0.4163514790696393,0.38829298561756836,0.4071621452735041,-0.03174523846591438,0.03461739056984578,0.03490956595739331,0.41523193683689313,-0.03086472012353449,0.4152286446624368,0.47466650859093173,0.026644293974419163,0.43041386171389967,-0.03086555921672812,0.034857887536671545,0.40716200659676705,-0.030907659974917973,0.4746597120463992,0.22243954728815968,-0.03121149708782081,0.03263591055496826,-0.03087424697507898,0.186325049343288,-0.030874868944843467,0.43039978855338856,0.4588098714008978,0.4419787533035277,0.3181613223245242,0.41443082389114644,0.03492924195216552,-0.030872169803871075,-0.030872099974102434,0.03493570981959178,0.03494733967058388,0.4152245895370294,0.3931547640485795,-0.10484388742328356,0.1613152231927412,0.03481715675748996,0.18698656004102515,-0.03171646429838932,-0.08151270476301581,-0.03086924314967225,-0.030877181664058107,-0.030883860998534556,-0.030884239886680407,0.41522360523418966,0.4036158488375709,0.03384645899838442,0.24992446755667053,0.40715804087649127,0.44989995614190226,-0.030907711893669206,0.03485934275459033,0.24992222433554884,0.38827715264860735,0.24992348785538535,0.3344796711810947,0.4015069379566336,0.4152313793079338,0.38730837717151845,0.03487672261222755,0.43019537174489525,-0.03267394649674009,0.09815003101276669,0.0349466977826008,0.249923650621052,0.24978137839559975,-0.030885485706472034,0.034944933205704985,0.18698585903089646,0.1420913637511057,0.13030233765591587,0.3152602474132135,0.4434397345063713,0.4151592852673827,-0.035217405284228384,0.44987855147336425,0.157560540631223,-0.030871837366678378,-0.037490236955925994,0.03483439071966759,0.38768920063500806,0.41512448332397656,-0.030867328975350453,0.4034991155149696,0.40713488501471495,0.41632186706476265,0.03493042399591632,0.4152268215881076,0.03263424535854143,0.474664046445183,0.5141690428899741,0.4163525697245539,0.4151852656290979,0.3874702912082352,0.385676550883508,0.37938923908740596,0.41495446917167855,0.20407809011646302,0.48393256359366815,0.034946329817086175,-0.030866478866363605,0.4302852238302368,0.4904985451658097,0.09075030088211458,0.3372602855664381,0.18608046110380222,0.03494599711104388,0.20407118975784816,0.40504912787713293,0.41634425028526173,0.18698656113009454,0.4139170162808063,0.4098556162111061,0.40985704620425945,0.14915119234328433,0.33383412235843674,-0.030886418356508537,0.40713187114881755,0.4071544235095493,0.18912552252960563,0.18697092307682223,-0.029651542554841627,0.18695103665826088,-0.03884499750569066,0.24824893644760002,0.40928836094609833,-0.031221662876330568,0.1869830880451222,-0.045399576573676964,0.15032466744903375,-0.030866378438838722,-0.030903633177724495,0.33470243869352884,0.45021339384508285,0.38829373332478057,0.41477319044985544,0.4071615492115947]},{\"customdata\":[[\"VeChainThor Authority\"],[\"Proof-of-BibleHash\"],[\"SHA-256 + Hive\"],[\"Proof-of-Authority\"],[\"ECC 256K1\"],[\"Leased POS\"]],\"hovertemplate\":\"<b>%{hovertext}</b><br><br>Class=%{marker.color}<br>PC1=%{x}<br>PC2=%{y}<br>PC3=%{z}<br>Algorithm=%{customdata[0]}<extra></extra>\",\"hovertext\":[\"Vechain\",\"BiblePay\",\"LitecoinCash\",\"Poa Network\",\"Acute Angle Cloud\",\"Waves\"],\"legendgroup\":\"1\",\"marker\":{\"color\":[1,1,1,1,1,1],\"coloraxis\":\"coloraxis\",\"symbol\":\"square\"},\"mode\":\"markers\",\"name\":\"1\",\"scene\":\"scene\",\"showlegend\":true,\"type\":\"scatter3d\",\"x\":[4.403583493323197,-0.24359691742095313,-0.3804277069814109,-0.3712633039038525,-0.33195021332566466,-0.4476835439735448],\"y\":[3.986899006598764,1.0054493864704888,3.2962536483328724,3.1920326619514365,5.304105477423831,0.07402205028251335],\"z\":[6.988999899356242,10.566195163428993,15.142993872626215,17.590356731697852,14.591427963441479,9.18757963442648]},{\"customdata\":[[\"TRC10\"]],\"hovertemplate\":\"<b>%{hovertext}</b><br><br>Class=%{marker.color}<br>PC1=%{x}<br>PC2=%{y}<br>PC3=%{z}<br>Algorithm=%{customdata[0]}<extra></extra>\",\"hovertext\":[\"BitTorrent\"],\"legendgroup\":\"2\",\"marker\":{\"color\":[2],\"coloraxis\":\"coloraxis\",\"symbol\":\"x\"},\"mode\":\"markers\",\"name\":\"2\",\"scene\":\"scene\",\"showlegend\":true,\"type\":\"scatter3d\",\"x\":[34.087607571440024],\"y\":[1.6455432832118309],\"z\":[-1.0180887588548526]}],                        {\"coloraxis\":{\"colorbar\":{\"title\":{\"text\":\"Class\"}},\"colorscale\":[[0.0,\"#0d0887\"],[0.1111111111111111,\"#46039f\"],[0.2222222222222222,\"#7201a8\"],[0.3333333333333333,\"#9c179e\"],[0.4444444444444444,\"#bd3786\"],[0.5555555555555556,\"#d8576b\"],[0.6666666666666666,\"#ed7953\"],[0.7777777777777778,\"#fb9f3a\"],[0.8888888888888888,\"#fdca26\"],[1.0,\"#f0f921\"]]},\"legend\":{\"title\":{\"text\":\"Class\"},\"tracegroupgap\":0,\"x\":0,\"y\":1},\"margin\":{\"t\":60},\"scene\":{\"domain\":{\"x\":[0.0,1.0],\"y\":[0.0,1.0]},\"xaxis\":{\"title\":{\"text\":\"PC1\"}},\"yaxis\":{\"title\":{\"text\":\"PC2\"}},\"zaxis\":{\"title\":{\"text\":\"PC3\"}}},\"template\":{\"data\":{\"bar\":[{\"error_x\":{\"color\":\"#2a3f5f\"},\"error_y\":{\"color\":\"#2a3f5f\"},\"marker\":{\"line\":{\"color\":\"#E5ECF6\",\"width\":0.5},\"pattern\":{\"fillmode\":\"overlay\",\"size\":10,\"solidity\":0.2}},\"type\":\"bar\"}],\"barpolar\":[{\"marker\":{\"line\":{\"color\":\"#E5ECF6\",\"width\":0.5},\"pattern\":{\"fillmode\":\"overlay\",\"size\":10,\"solidity\":0.2}},\"type\":\"barpolar\"}],\"carpet\":[{\"aaxis\":{\"endlinecolor\":\"#2a3f5f\",\"gridcolor\":\"white\",\"linecolor\":\"white\",\"minorgridcolor\":\"white\",\"startlinecolor\":\"#2a3f5f\"},\"baxis\":{\"endlinecolor\":\"#2a3f5f\",\"gridcolor\":\"white\",\"linecolor\":\"white\",\"minorgridcolor\":\"white\",\"startlinecolor\":\"#2a3f5f\"},\"type\":\"carpet\"}],\"choropleth\":[{\"colorbar\":{\"outlinewidth\":0,\"ticks\":\"\"},\"type\":\"choropleth\"}],\"contour\":[{\"colorbar\":{\"outlinewidth\":0,\"ticks\":\"\"},\"colorscale\":[[0.0,\"#0d0887\"],[0.1111111111111111,\"#46039f\"],[0.2222222222222222,\"#7201a8\"],[0.3333333333333333,\"#9c179e\"],[0.4444444444444444,\"#bd3786\"],[0.5555555555555556,\"#d8576b\"],[0.6666666666666666,\"#ed7953\"],[0.7777777777777778,\"#fb9f3a\"],[0.8888888888888888,\"#fdca26\"],[1.0,\"#f0f921\"]],\"type\":\"contour\"}],\"contourcarpet\":[{\"colorbar\":{\"outlinewidth\":0,\"ticks\":\"\"},\"type\":\"contourcarpet\"}],\"heatmap\":[{\"colorbar\":{\"outlinewidth\":0,\"ticks\":\"\"},\"colorscale\":[[0.0,\"#0d0887\"],[0.1111111111111111,\"#46039f\"],[0.2222222222222222,\"#7201a8\"],[0.3333333333333333,\"#9c179e\"],[0.4444444444444444,\"#bd3786\"],[0.5555555555555556,\"#d8576b\"],[0.6666666666666666,\"#ed7953\"],[0.7777777777777778,\"#fb9f3a\"],[0.8888888888888888,\"#fdca26\"],[1.0,\"#f0f921\"]],\"type\":\"heatmap\"}],\"heatmapgl\":[{\"colorbar\":{\"outlinewidth\":0,\"ticks\":\"\"},\"colorscale\":[[0.0,\"#0d0887\"],[0.1111111111111111,\"#46039f\"],[0.2222222222222222,\"#7201a8\"],[0.3333333333333333,\"#9c179e\"],[0.4444444444444444,\"#bd3786\"],[0.5555555555555556,\"#d8576b\"],[0.6666666666666666,\"#ed7953\"],[0.7777777777777778,\"#fb9f3a\"],[0.8888888888888888,\"#fdca26\"],[1.0,\"#f0f921\"]],\"type\":\"heatmapgl\"}],\"histogram\":[{\"marker\":{\"pattern\":{\"fillmode\":\"overlay\",\"size\":10,\"solidity\":0.2}},\"type\":\"histogram\"}],\"histogram2d\":[{\"colorbar\":{\"outlinewidth\":0,\"ticks\":\"\"},\"colorscale\":[[0.0,\"#0d0887\"],[0.1111111111111111,\"#46039f\"],[0.2222222222222222,\"#7201a8\"],[0.3333333333333333,\"#9c179e\"],[0.4444444444444444,\"#bd3786\"],[0.5555555555555556,\"#d8576b\"],[0.6666666666666666,\"#ed7953\"],[0.7777777777777778,\"#fb9f3a\"],[0.8888888888888888,\"#fdca26\"],[1.0,\"#f0f921\"]],\"type\":\"histogram2d\"}],\"histogram2dcontour\":[{\"colorbar\":{\"outlinewidth\":0,\"ticks\":\"\"},\"colorscale\":[[0.0,\"#0d0887\"],[0.1111111111111111,\"#46039f\"],[0.2222222222222222,\"#7201a8\"],[0.3333333333333333,\"#9c179e\"],[0.4444444444444444,\"#bd3786\"],[0.5555555555555556,\"#d8576b\"],[0.6666666666666666,\"#ed7953\"],[0.7777777777777778,\"#fb9f3a\"],[0.8888888888888888,\"#fdca26\"],[1.0,\"#f0f921\"]],\"type\":\"histogram2dcontour\"}],\"mesh3d\":[{\"colorbar\":{\"outlinewidth\":0,\"ticks\":\"\"},\"type\":\"mesh3d\"}],\"parcoords\":[{\"line\":{\"colorbar\":{\"outlinewidth\":0,\"ticks\":\"\"}},\"type\":\"parcoords\"}],\"pie\":[{\"automargin\":true,\"type\":\"pie\"}],\"scatter\":[{\"marker\":{\"colorbar\":{\"outlinewidth\":0,\"ticks\":\"\"}},\"type\":\"scatter\"}],\"scatter3d\":[{\"line\":{\"colorbar\":{\"outlinewidth\":0,\"ticks\":\"\"}},\"marker\":{\"colorbar\":{\"outlinewidth\":0,\"ticks\":\"\"}},\"type\":\"scatter3d\"}],\"scattercarpet\":[{\"marker\":{\"colorbar\":{\"outlinewidth\":0,\"ticks\":\"\"}},\"type\":\"scattercarpet\"}],\"scattergeo\":[{\"marker\":{\"colorbar\":{\"outlinewidth\":0,\"ticks\":\"\"}},\"type\":\"scattergeo\"}],\"scattergl\":[{\"marker\":{\"colorbar\":{\"outlinewidth\":0,\"ticks\":\"\"}},\"type\":\"scattergl\"}],\"scattermapbox\":[{\"marker\":{\"colorbar\":{\"outlinewidth\":0,\"ticks\":\"\"}},\"type\":\"scattermapbox\"}],\"scatterpolar\":[{\"marker\":{\"colorbar\":{\"outlinewidth\":0,\"ticks\":\"\"}},\"type\":\"scatterpolar\"}],\"scatterpolargl\":[{\"marker\":{\"colorbar\":{\"outlinewidth\":0,\"ticks\":\"\"}},\"type\":\"scatterpolargl\"}],\"scatterternary\":[{\"marker\":{\"colorbar\":{\"outlinewidth\":0,\"ticks\":\"\"}},\"type\":\"scatterternary\"}],\"surface\":[{\"colorbar\":{\"outlinewidth\":0,\"ticks\":\"\"},\"colorscale\":[[0.0,\"#0d0887\"],[0.1111111111111111,\"#46039f\"],[0.2222222222222222,\"#7201a8\"],[0.3333333333333333,\"#9c179e\"],[0.4444444444444444,\"#bd3786\"],[0.5555555555555556,\"#d8576b\"],[0.6666666666666666,\"#ed7953\"],[0.7777777777777778,\"#fb9f3a\"],[0.8888888888888888,\"#fdca26\"],[1.0,\"#f0f921\"]],\"type\":\"surface\"}],\"table\":[{\"cells\":{\"fill\":{\"color\":\"#EBF0F8\"},\"line\":{\"color\":\"white\"}},\"header\":{\"fill\":{\"color\":\"#C8D4E3\"},\"line\":{\"color\":\"white\"}},\"type\":\"table\"}]},\"layout\":{\"annotationdefaults\":{\"arrowcolor\":\"#2a3f5f\",\"arrowhead\":0,\"arrowwidth\":1},\"autotypenumbers\":\"strict\",\"coloraxis\":{\"colorbar\":{\"outlinewidth\":0,\"ticks\":\"\"}},\"colorscale\":{\"diverging\":[[0,\"#8e0152\"],[0.1,\"#c51b7d\"],[0.2,\"#de77ae\"],[0.3,\"#f1b6da\"],[0.4,\"#fde0ef\"],[0.5,\"#f7f7f7\"],[0.6,\"#e6f5d0\"],[0.7,\"#b8e186\"],[0.8,\"#7fbc41\"],[0.9,\"#4d9221\"],[1,\"#276419\"]],\"sequential\":[[0.0,\"#0d0887\"],[0.1111111111111111,\"#46039f\"],[0.2222222222222222,\"#7201a8\"],[0.3333333333333333,\"#9c179e\"],[0.4444444444444444,\"#bd3786\"],[0.5555555555555556,\"#d8576b\"],[0.6666666666666666,\"#ed7953\"],[0.7777777777777778,\"#fb9f3a\"],[0.8888888888888888,\"#fdca26\"],[1.0,\"#f0f921\"]],\"sequentialminus\":[[0.0,\"#0d0887\"],[0.1111111111111111,\"#46039f\"],[0.2222222222222222,\"#7201a8\"],[0.3333333333333333,\"#9c179e\"],[0.4444444444444444,\"#bd3786\"],[0.5555555555555556,\"#d8576b\"],[0.6666666666666666,\"#ed7953\"],[0.7777777777777778,\"#fb9f3a\"],[0.8888888888888888,\"#fdca26\"],[1.0,\"#f0f921\"]]},\"colorway\":[\"#636efa\",\"#EF553B\",\"#00cc96\",\"#ab63fa\",\"#FFA15A\",\"#19d3f3\",\"#FF6692\",\"#B6E880\",\"#FF97FF\",\"#FECB52\"],\"font\":{\"color\":\"#2a3f5f\"},\"geo\":{\"bgcolor\":\"white\",\"lakecolor\":\"white\",\"landcolor\":\"#E5ECF6\",\"showlakes\":true,\"showland\":true,\"subunitcolor\":\"white\"},\"hoverlabel\":{\"align\":\"left\"},\"hovermode\":\"closest\",\"mapbox\":{\"style\":\"light\"},\"paper_bgcolor\":\"white\",\"plot_bgcolor\":\"#E5ECF6\",\"polar\":{\"angularaxis\":{\"gridcolor\":\"white\",\"linecolor\":\"white\",\"ticks\":\"\"},\"bgcolor\":\"#E5ECF6\",\"radialaxis\":{\"gridcolor\":\"white\",\"linecolor\":\"white\",\"ticks\":\"\"}},\"scene\":{\"xaxis\":{\"backgroundcolor\":\"#E5ECF6\",\"gridcolor\":\"white\",\"gridwidth\":2,\"linecolor\":\"white\",\"showbackground\":true,\"ticks\":\"\",\"zerolinecolor\":\"white\"},\"yaxis\":{\"backgroundcolor\":\"#E5ECF6\",\"gridcolor\":\"white\",\"gridwidth\":2,\"linecolor\":\"white\",\"showbackground\":true,\"ticks\":\"\",\"zerolinecolor\":\"white\"},\"zaxis\":{\"backgroundcolor\":\"#E5ECF6\",\"gridcolor\":\"white\",\"gridwidth\":2,\"linecolor\":\"white\",\"showbackground\":true,\"ticks\":\"\",\"zerolinecolor\":\"white\"}},\"shapedefaults\":{\"line\":{\"color\":\"#2a3f5f\"}},\"ternary\":{\"aaxis\":{\"gridcolor\":\"white\",\"linecolor\":\"white\",\"ticks\":\"\"},\"baxis\":{\"gridcolor\":\"white\",\"linecolor\":\"white\",\"ticks\":\"\"},\"bgcolor\":\"#E5ECF6\",\"caxis\":{\"gridcolor\":\"white\",\"linecolor\":\"white\",\"ticks\":\"\"}},\"title\":{\"x\":0.05},\"xaxis\":{\"automargin\":true,\"gridcolor\":\"white\",\"linecolor\":\"white\",\"ticks\":\"\",\"title\":{\"standoff\":15},\"zerolinecolor\":\"white\",\"zerolinewidth\":2},\"yaxis\":{\"automargin\":true,\"gridcolor\":\"white\",\"linecolor\":\"white\",\"ticks\":\"\",\"title\":{\"standoff\":15},\"zerolinecolor\":\"white\",\"zerolinewidth\":2}}},\"width\":800},                        {\"responsive\": true}                    ).then(function(){\n",
       "                            \n",
       "var gd = document.getElementById('62688c42-9354-454e-94d5-2bdc841c66e9');\n",
       "var x = new MutationObserver(function (mutations, observer) {{\n",
       "        var display = window.getComputedStyle(gd).display;\n",
       "        if (!display || display === 'none') {{\n",
       "            console.log([gd, 'removed!']);\n",
       "            Plotly.purge(gd);\n",
       "            observer.disconnect();\n",
       "        }}\n",
       "}});\n",
       "\n",
       "// Listen for the removal of the full notebook cells\n",
       "var notebookContainer = gd.closest('#notebook-container');\n",
       "if (notebookContainer) {{\n",
       "    x.observe(notebookContainer, {childList: true});\n",
       "}}\n",
       "\n",
       "// Listen for the clearing of the current output cell\n",
       "var outputEl = gd.closest('.output');\n",
       "if (outputEl) {{\n",
       "    x.observe(outputEl, {childList: true});\n",
       "}}\n",
       "\n",
       "                        })                };                });            </script>        </div>"
      ]
     },
     "metadata": {},
     "output_type": "display_data"
    }
   ],
   "source": [
    "# Creating a 3D-Scatter with the PCA data and the clusters\n",
    "fig = px.scatter_3d(\n",
    "    clustered_df,\n",
    "    hover_name=\"CoinName\",\n",
    "    hover_data=[\"Algorithm\"],\n",
    "    x=\"PC1\",\n",
    "    y=\"PC2\",\n",
    "    z=\"PC3\",\n",
    "    color=\"Class\",\n",
    "    symbol=\"Class\",\n",
    "    width=800,\n",
    ")\n",
    "fig.update_layout(legend=dict(x=0, y=1))\n",
    "fig.show()"
   ]
  },
  {
   "cell_type": "markdown",
   "metadata": {},
   "source": [
    "#### Table of Tradable Cryptocurrencies"
   ]
  },
  {
   "cell_type": "code",
   "execution_count": 48,
   "metadata": {},
   "outputs": [
    {
     "data": {},
     "metadata": {},
     "output_type": "display_data"
    },
    {
     "data": {
      "application/vnd.holoviews_exec.v0+json": "",
      "text/html": [
       "<div id='1433'>\n",
       "\n",
       "\n",
       "\n",
       "\n",
       "\n",
       "  <div class=\"bk-root\" id=\"000625cc-e15e-45b8-a3a0-dcf0798426bd\" data-root-id=\"1433\"></div>\n",
       "</div>\n",
       "<script type=\"application/javascript\">(function(root) {\n",
       "  function embed_document(root) {\n",
       "    var docs_json = {\"a6d772d5-c9db-4075-beae-1935fedfc8bc\":{\"defs\":[{\"extends\":null,\"module\":null,\"name\":\"ReactiveHTML1\",\"overrides\":[],\"properties\":[]},{\"extends\":null,\"module\":null,\"name\":\"FlexBox1\",\"overrides\":[],\"properties\":[{\"default\":\"flex-start\",\"kind\":null,\"name\":\"align_content\"},{\"default\":\"flex-start\",\"kind\":null,\"name\":\"align_items\"},{\"default\":\"row\",\"kind\":null,\"name\":\"flex_direction\"},{\"default\":\"wrap\",\"kind\":null,\"name\":\"flex_wrap\"},{\"default\":\"flex-start\",\"kind\":null,\"name\":\"justify_content\"}]},{\"extends\":null,\"module\":null,\"name\":\"TemplateActions1\",\"overrides\":[],\"properties\":[{\"default\":0,\"kind\":null,\"name\":\"open_modal\"},{\"default\":0,\"kind\":null,\"name\":\"close_modal\"}]},{\"extends\":null,\"module\":null,\"name\":\"MaterialTemplateActions1\",\"overrides\":[],\"properties\":[{\"default\":0,\"kind\":null,\"name\":\"open_modal\"},{\"default\":0,\"kind\":null,\"name\":\"close_modal\"}]}],\"roots\":{\"references\":[{\"attributes\":{},\"id\":\"1438\",\"type\":\"StringEditor\"},{\"attributes\":{},\"id\":\"1437\",\"type\":\"StringFormatter\"},{\"attributes\":{\"format\":\"0,0.0[00000]\"},\"id\":\"1467\",\"type\":\"NumberFormatter\"},{\"attributes\":{\"format\":\"0,0.0[00000]\"},\"id\":\"1462\",\"type\":\"NumberFormatter\"},{\"attributes\":{\"columns\":[{\"id\":\"1439\"},{\"id\":\"1444\"},{\"id\":\"1449\"},{\"id\":\"1454\"},{\"id\":\"1459\"},{\"id\":\"1464\"},{\"id\":\"1469\"},{\"id\":\"1474\"},{\"id\":\"1479\"}],\"height\":300,\"reorderable\":false,\"source\":{\"id\":\"1435\"},\"view\":{\"id\":\"1484\"},\"width\":700},\"id\":\"1482\",\"type\":\"DataTable\"},{\"attributes\":{\"editor\":{\"id\":\"1438\"},\"field\":\"Algorithm\",\"formatter\":{\"id\":\"1437\"},\"title\":\"Algorithm\"},\"id\":\"1439\",\"type\":\"TableColumn\"},{\"attributes\":{},\"id\":\"1463\",\"type\":\"NumberEditor\"},{\"attributes\":{\"editor\":{\"id\":\"1463\"},\"field\":\"PC2\",\"formatter\":{\"id\":\"1462\"},\"title\":\"PC2\"},\"id\":\"1464\",\"type\":\"TableColumn\"},{\"attributes\":{},\"id\":\"1442\",\"type\":\"StringFormatter\"},{\"attributes\":{},\"id\":\"1468\",\"type\":\"NumberEditor\"},{\"attributes\":{},\"id\":\"1443\",\"type\":\"StringEditor\"},{\"attributes\":{\"editor\":{\"id\":\"1443\"},\"field\":\"ProofType\",\"formatter\":{\"id\":\"1442\"},\"title\":\"ProofType\"},\"id\":\"1444\",\"type\":\"TableColumn\"},{\"attributes\":{},\"id\":\"1486\",\"type\":\"UnionRenderers\"},{\"attributes\":{\"format\":\"0,0.0[00000]\"},\"id\":\"1447\",\"type\":\"NumberFormatter\"},{\"attributes\":{},\"id\":\"1472\",\"type\":\"StringFormatter\"},{\"attributes\":{\"editor\":{\"id\":\"1468\"},\"field\":\"PC3\",\"formatter\":{\"id\":\"1467\"},\"title\":\"PC3\"},\"id\":\"1469\",\"type\":\"TableColumn\"},{\"attributes\":{},\"id\":\"1473\",\"type\":\"StringEditor\"},{\"attributes\":{\"editor\":{\"id\":\"1473\"},\"field\":\"CoinName\",\"formatter\":{\"id\":\"1472\"},\"title\":\"CoinName\"},\"id\":\"1474\",\"type\":\"TableColumn\"},{\"attributes\":{},\"id\":\"1448\",\"type\":\"NumberEditor\"},{\"attributes\":{},\"id\":\"1477\",\"type\":\"NumberFormatter\"},{\"attributes\":{},\"id\":\"1452\",\"type\":\"StringFormatter\"},{\"attributes\":{\"editor\":{\"id\":\"1448\"},\"field\":\"TotalCoinsMined\",\"formatter\":{\"id\":\"1447\"},\"title\":\"TotalCoinsMined\"},\"id\":\"1449\",\"type\":\"TableColumn\"},{\"attributes\":{},\"id\":\"1478\",\"type\":\"IntEditor\"},{\"attributes\":{\"margin\":[5,5,5,5],\"name\":\"HSpacer02531\",\"sizing_mode\":\"stretch_width\"},\"id\":\"1489\",\"type\":\"Spacer\"},{\"attributes\":{\"editor\":{\"id\":\"1478\"},\"field\":\"Class\",\"formatter\":{\"id\":\"1477\"},\"title\":\"Class\"},\"id\":\"1479\",\"type\":\"TableColumn\"},{\"attributes\":{},\"id\":\"1453\",\"type\":\"StringEditor\"},{\"attributes\":{\"editor\":{\"id\":\"1453\"},\"field\":\"TotalCoinSupply\",\"formatter\":{\"id\":\"1452\"},\"title\":\"TotalCoinSupply\"},\"id\":\"1454\",\"type\":\"TableColumn\"},{\"attributes\":{\"source\":{\"id\":\"1435\"}},\"id\":\"1484\",\"type\":\"CDSView\"},{\"attributes\":{},\"id\":\"1436\",\"type\":\"Selection\"},{\"attributes\":{\"margin\":[5,5,5,5],\"name\":\"HSpacer02530\",\"sizing_mode\":\"stretch_width\"},\"id\":\"1434\",\"type\":\"Spacer\"},{\"attributes\":{\"format\":\"0,0.0[00000]\"},\"id\":\"1457\",\"type\":\"NumberFormatter\"},{\"attributes\":{\"children\":[{\"id\":\"1434\"},{\"id\":\"1482\"},{\"id\":\"1489\"}],\"margin\":[0,0,0,0],\"name\":\"Row02526\",\"tags\":[\"embedded\"]},\"id\":\"1433\",\"type\":\"Row\"},{\"attributes\":{},\"id\":\"1458\",\"type\":\"NumberEditor\"},{\"attributes\":{\"data\":{\"Algorithm\":[\"Scrypt\",\"Scrypt\",\"X13\",\"SHA-256\",\"Ethash\",\"Scrypt\",\"X11\",\"CryptoNight-V7\",\"Ethash\",\"Equihash\",\"SHA-512\",\"Multiple\",\"SHA-256\",\"SHA-256\",\"Scrypt\",\"X15\",\"X11\",\"Scrypt\",\"Scrypt\",\"Scrypt\",\"Multiple\",\"Scrypt\",\"SHA-256\",\"Scrypt\",\"Scrypt\",\"Scrypt\",\"Quark\",\"Groestl\",\"Scrypt\",\"Scrypt\",\"Scrypt\",\"Scrypt\",\"Scrypt\",\"X11\",\"Scrypt\",\"Groestl\",\"Multiple\",\"SHA-256\",\"Scrypt\",\"Scrypt\",\"Scrypt\",\"Scrypt\",\"PoS\",\"Scrypt\",\"Scrypt\",\"NeoScrypt\",\"Scrypt\",\"Scrypt\",\"Scrypt\",\"Scrypt\",\"X11\",\"Scrypt\",\"X11\",\"SHA-256\",\"Scrypt\",\"Scrypt\",\"Scrypt\",\"SHA3\",\"Scrypt\",\"HybridScryptHash256\",\"Scrypt\",\"Scrypt\",\"SHA-256\",\"Scrypt\",\"X13\",\"Scrypt\",\"SHA-256\",\"Scrypt\",\"X13\",\"NeoScrypt\",\"Scrypt\",\"Scrypt\",\"Scrypt\",\"Scrypt\",\"Scrypt\",\"Scrypt\",\"X11\",\"X11\",\"SHA-256\",\"Multiple\",\"SHA-256\",\"PHI1612\",\"X11\",\"SHA-256\",\"SHA-256\",\"SHA-256\",\"X11\",\"Scrypt\",\"Scrypt\",\"Scrypt\",\"Scrypt\",\"Lyra2REv2\",\"Scrypt\",\"X11\",\"Multiple\",\"SHA-256\",\"X13\",\"Scrypt\",\"CryptoNight\",\"CryptoNight\",\"Shabal256\",\"Counterparty\",\"Scrypt\",\"SHA-256\",\"Groestl\",\"Scrypt\",\"Scrypt\",\"Scrypt\",\"X13\",\"Scrypt\",\"Scrypt\",\"Scrypt\",\"Scrypt\",\"X13\",\"Scrypt\",\"Stanford Folding\",\"X11\",\"Multiple\",\"QuBit\",\"Scrypt\",\"Scrypt\",\"Scrypt\",\"M7 POW\",\"Scrypt\",\"SHA-256\",\"Scrypt\",\"X11\",\"SHA3\",\"X11\",\"Lyra2RE\",\"SHA-256\",\"QUAIT\",\"X11\",\"X11\",\"Scrypt\",\"Scrypt\",\"Scrypt\",\"Ethash\",\"X13\",\"Blake2b\",\"SHA-256\",\"X15\",\"X11\",\"SHA-256\",\"BLAKE256\",\"Scrypt\",\"1GB AES Pattern Search\",\"SHA-256\",\"X11\",\"Scrypt\",\"SHA-256\",\"SHA-256\",\"NIST5\",\"Scrypt\",\"Scrypt\",\"X11\",\"Dagger\",\"Scrypt\",\"X11GOST\",\"X11\",\"Scrypt\",\"SHA-256\",\"Scrypt\",\"PoS\",\"Scrypt\",\"X11\",\"X11\",\"SHA-256\",\"SHA-256\",\"NIST5\",\"X11\",\"Scrypt\",\"POS 3.0\",\"Scrypt\",\"Scrypt\",\"Scrypt\",\"X13\",\"X11\",\"X11\",\"Equihash\",\"X11\",\"Scrypt\",\"CryptoNight\",\"SHA-256\",\"SHA-256\",\"X11\",\"Scrypt\",\"Multiple\",\"Scrypt\",\"Scrypt\",\"Scrypt\",\"SHA-256\",\"Scrypt\",\"Scrypt\",\"SHA-256D\",\"PoS\",\"Scrypt\",\"X11\",\"Lyra2Z\",\"PoS\",\"X13\",\"X14\",\"PoS\",\"SHA-256D\",\"Ethash\",\"Equihash\",\"DPoS\",\"X11\",\"Scrypt\",\"X11\",\"X13\",\"X11\",\"PoS\",\"Scrypt\",\"Scrypt\",\"X11\",\"PoS\",\"X11\",\"SHA-256\",\"Scrypt\",\"X11\",\"Scrypt\",\"Scrypt\",\"X11\",\"CryptoNight\",\"Scrypt\",\"Scrypt\",\"Scrypt\",\"Scrypt\",\"Quark\",\"QuBit\",\"Scrypt\",\"CryptoNight\",\"Lyra2RE\",\"Scrypt\",\"SHA-256\",\"X11\",\"Scrypt\",\"X11\",\"Scrypt\",\"CryptoNight-V7\",\"Scrypt\",\"Scrypt\",\"Scrypt\",\"X13\",\"X11\",\"Equihash\",\"Scrypt\",\"Scrypt\",\"Lyra2RE\",\"Scrypt\",\"Dagger-Hashimoto\",\"X11\",\"Blake2S\",\"X11\",\"Scrypt\",\"PoS\",\"X11\",\"NIST5\",\"PoS\",\"X11\",\"Scrypt\",\"Scrypt\",\"Scrypt\",\"SHA-256\",\"X11\",\"Scrypt\",\"Scrypt\",\"SHA-256\",\"PoS\",\"Scrypt\",\"X15\",\"SHA-256\",\"Scrypt\",\"POS 3.0\",\"CryptoNight-V7\",\"536\",\"Argon2d\",\"Blake2b\",\"Cloverhash\",\"CryptoNight\",\"NIST5\",\"X11\",\"NIST5\",\"Skein\",\"Scrypt\",\"X13\",\"Scrypt\",\"X11\",\"X11\",\"Scrypt\",\"CryptoNight\",\"X13\",\"Time Travel\",\"Scrypt\",\"Keccak\",\"SkunkHash v2 Raptor\",\"X11\",\"Skein\",\"SHA-256\",\"X11\",\"Scrypt\",\"VeChainThor Authority\",\"Scrypt\",\"PoS\",\"Scrypt\",\"Scrypt\",\"Scrypt\",\"Scrypt\",\"Scrypt\",\"Scrypt\",\"Scrypt\",\"CryptoNight\",\"SHA-512\",\"Ouroboros\",\"X11\",\"Equihash\",\"NeoScrypt\",\"X11\",\"Scrypt\",\"NeoScrypt\",\"Lyra2REv2\",\"Equihash\",\"Scrypt\",\"SHA-256\",\"NIST5\",\"PHI1612\",\"Dagger\",\"Scrypt\",\"Quark\",\"Scrypt\",\"POS 2.0\",\"Scrypt\",\"SHA-256\",\"X11\",\"NeoScrypt\",\"Ethash\",\"NeoScrypt\",\"X11\",\"DPoS\",\"NIST5\",\"X13\",\"Multiple\",\"Scrypt\",\"CryptoNight\",\"CryptoNight\",\"Ethash\",\"NIST5\",\"Quark\",\"X11\",\"CryptoNight-V7\",\"Scrypt\",\"Scrypt\",\"Scrypt\",\"X11\",\"BLAKE256\",\"X11\",\"NeoScrypt\",\"Quark\",\"NeoScrypt\",\"Scrypt\",\"Scrypt\",\"Scrypt\",\"X11\",\"X11\",\"SHA-256\",\"C11\",\"POS 3.0\",\"Ethash\",\"Scrypt\",\"CryptoNight\",\"SkunkHash\",\"Scrypt\",\"CryptoNight\",\"Scrypt\",\"Dagger\",\"Lyra2REv2\",\"X13\",\"Proof-of-BibleHash\",\"SHA-256 + Hive\",\"Scrypt\",\"Scrypt\",\"X11\",\"C11\",\"Proof-of-Authority\",\"X11\",\"XEVAN\",\"Scrypt\",\"VBFT\",\"Ethash\",\"CryptoNight\",\"Scrypt\",\"IMesh\",\"NIST5\",\"Scrypt\",\"Scrypt\",\"Equihash\",\"Scrypt\",\"Lyra2Z\",\"Green Protocol\",\"PoS\",\"Scrypt\",\"Semux BFT consensus\",\"X11\",\"Quark\",\"PoS\",\"CryptoNight\",\"X16R\",\"Scrypt\",\"NIST5\",\"Lyra2RE\",\"XEVAN\",\"Tribus\",\"Scrypt\",\"Lyra2Z\",\"CryptoNight\",\"CryptoNight Heavy\",\"CryptoNight\",\"Scrypt\",\"Scrypt\",\"Jump Consistent Hash\",\"SHA-256D\",\"CryptoNight\",\"Scrypt\",\"X15\",\"Scrypt\",\"Quark\",\"SHA-256\",\"DPoS\",\"X16R\",\"HMQ1725\",\"X11\",\"X16R\",\"Quark\",\"Quark\",\"Scrypt\",\"Lyra2REv2\",\"Quark\",\"Scrypt\",\"Scrypt\",\"CryptoNight-V7\",\"Cryptonight-GPU\",\"XEVAN\",\"CryptoNight Heavy\",\"X11\",\"X11\",\"Scrypt\",\"PoS\",\"SHA-256\",\"Keccak\",\"X11\",\"X11\",\"Scrypt\",\"SHA-512\",\"X16R\",\"ECC 256K1\",\"Equihash\",\"XEVAN\",\"Lyra2Z\",\"SHA-256\",\"XEVAN\",\"X11\",\"CryptoNight\",\"Quark\",\"Blake\",\"Blake\",\"Equihash\",\"Exosis\",\"Scrypt\",\"Scrypt\",\"Equihash\",\"Quark\",\"Equihash\",\"Quark\",\"Scrypt\",\"QuBit\",\"X11\",\"Scrypt\",\"XEVAN\",\"SHA-256D\",\"X11\",\"SHA-256\",\"X13\",\"SHA-256\",\"X11\",\"DPoS\",\"Scrypt\",\"Scrypt\",\"X11\",\"NeoScrypt\",\"Scrypt\",\"Blake\",\"Scrypt\",\"SHA-256\",\"Scrypt\",\"X11\",\"Scrypt\",\"Scrypt\",\"SHA-256\",\"X11\",\"SHA-256\",\"Scrypt\",\"Scrypt\",\"Scrypt\",\"Groestl\",\"X11\",\"Scrypt\",\"PoS\",\"Scrypt\",\"Scrypt\",\"X11\",\"SHA-256\",\"DPoS\",\"Scrypt\",\"Scrypt\",\"NeoScrypt\",\"Multiple\",\"X13\",\"Equihash+Scrypt\",\"DPoS\",\"Ethash\",\"DPoS\",\"SHA-256\",\"Leased POS\",\"PoS\",\"TRC10\",\"PoS\",\"SHA-256\",\"Scrypt\",\"CryptoNight\",\"Equihash\",\"Scrypt\"],\"Class\":{\"__ndarray__\":\"AAAAAAAAAAAAAAAAAwAAAAMAAAADAAAAAAAAAAMAAAADAAAAAwAAAAAAAAADAAAAAAAAAAAAAAADAAAAAAAAAAMAAAADAAAAAAAAAAAAAAADAAAAAwAAAAMAAAADAAAAAwAAAAAAAAADAAAAAwAAAAMAAAAAAAAAAwAAAAAAAAADAAAAAwAAAAMAAAAAAAAAAwAAAAMAAAADAAAAAwAAAAMAAAADAAAAAAAAAAAAAAADAAAAAwAAAAMAAAADAAAAAwAAAAAAAAAAAAAAAwAAAAAAAAADAAAAAwAAAAMAAAADAAAAAAAAAAMAAAADAAAAAAAAAAMAAAAAAAAAAAAAAAAAAAADAAAAAwAAAAMAAAAAAAAAAAAAAAAAAAAAAAAAAAAAAAMAAAADAAAAAwAAAAAAAAAAAAAAAwAAAAAAAAADAAAAAAAAAAAAAAADAAAAAwAAAAMAAAADAAAAAAAAAAAAAAADAAAAAAAAAAMAAAADAAAAAAAAAAAAAAADAAAAAAAAAAAAAAADAAAAAwAAAAMAAAAAAAAAAwAAAAAAAAAAAAAAAwAAAAAAAAADAAAAAAAAAAMAAAAAAAAAAwAAAAAAAAAAAAAAAwAAAAMAAAAAAAAAAwAAAAMAAAADAAAAAAAAAAMAAAADAAAAAwAAAAMAAAADAAAAAAAAAAAAAAADAAAAAwAAAAMAAAAAAAAAAwAAAAAAAAADAAAAAwAAAAAAAAADAAAAAAAAAAMAAAAAAAAAAAAAAAMAAAADAAAAAAAAAAMAAAADAAAAAAAAAAAAAAADAAAAAAAAAAMAAAAAAAAAAAAAAAAAAAADAAAAAwAAAAMAAAADAAAAAAAAAAAAAAAAAAAAAwAAAAAAAAADAAAAAwAAAAAAAAAAAAAAAAAAAAAAAAAAAAAAAwAAAAAAAAAAAAAAAAAAAAAAAAAAAAAAAwAAAAAAAAADAAAAAAAAAAAAAAADAAAAAAAAAAMAAAAAAAAAAAAAAAMAAAAAAAAAAwAAAAAAAAADAAAAAAAAAAMAAAAAAAAAAAAAAAAAAAAAAAAAAwAAAAAAAAAAAAAAAAAAAAAAAAAAAAAAAwAAAAMAAAAAAAAAAAAAAAMAAAADAAAAAAAAAAAAAAAAAAAAAAAAAAAAAAADAAAAAAAAAAAAAAAAAAAAAAAAAAAAAAAAAAAAAAAAAAAAAAADAAAAAAAAAAAAAAAAAAAAAAAAAAAAAAAAAAAAAwAAAAMAAAADAAAAAAAAAAAAAAAAAAAAAAAAAAMAAAAAAAAAAwAAAAAAAAAAAAAAAwAAAAAAAAADAAAAAwAAAAAAAAADAAAAAwAAAAAAAAADAAAAAAAAAAAAAAAAAAAAAwAAAAAAAAAAAAAAAwAAAAAAAAAAAAAAAAAAAAAAAAAAAAAAAAAAAAAAAAADAAAAAAAAAAMAAAAAAAAAAAAAAAAAAAAAAAAAAwAAAAAAAAADAAAAAAAAAAMAAAADAAAAAwAAAAMAAAAAAAAAAwAAAAAAAAAAAAAAAwAAAAAAAAADAAAAAwAAAAMAAAAAAAAAAwAAAAAAAAADAAAAAwAAAAMAAAAAAAAAAwAAAAAAAAADAAAAAAAAAAAAAAABAAAAAwAAAAAAAAADAAAAAwAAAAMAAAADAAAAAwAAAAAAAAAAAAAAAwAAAAAAAAAAAAAAAAAAAAMAAAAAAAAAAwAAAAAAAAADAAAAAAAAAAMAAAAAAAAAAAAAAAAAAAAAAAAAAwAAAAAAAAAAAAAAAwAAAAAAAAAAAAAAAAAAAAMAAAADAAAAAwAAAAMAAAAAAAAAAAAAAAAAAAAAAAAAAwAAAAAAAAADAAAAAwAAAAMAAAAAAAAAAAAAAAMAAAADAAAAAAAAAAAAAAADAAAAAAAAAAMAAAADAAAAAwAAAAAAAAADAAAAAwAAAAAAAAAAAAAAAAAAAAMAAAADAAAAAwAAAAAAAAADAAAAAAAAAAMAAAADAAAAAAAAAAMAAAADAAAAAwAAAAMAAAAAAAAAAQAAAAEAAAADAAAAAwAAAAMAAAAAAAAAAQAAAAAAAAAAAAAAAAAAAAAAAAADAAAAAwAAAAMAAAADAAAAAAAAAAAAAAAAAAAAAwAAAAAAAAADAAAAAAAAAAAAAAAAAAAAAAAAAAMAAAAAAAAAAAAAAAMAAAAAAAAAAAAAAAMAAAADAAAAAAAAAAMAAAAAAAAAAwAAAAMAAAADAAAAAwAAAAAAAAAAAAAAAwAAAAAAAAADAAAAAAAAAAAAAAAAAAAAAAAAAAAAAAAAAAAAAwAAAAMAAAADAAAAAAAAAAAAAAAAAAAAAAAAAAAAAAAAAAAAAwAAAAAAAAADAAAAAwAAAAMAAAADAAAAAAAAAAAAAAAAAAAAAAAAAAMAAAAAAAAAAAAAAAMAAAAAAAAAAAAAAAMAAAABAAAAAwAAAAAAAAADAAAAAwAAAAAAAAAAAAAAAwAAAAAAAAADAAAAAwAAAAMAAAADAAAAAwAAAAAAAAADAAAAAAAAAAMAAAAAAAAAAAAAAAMAAAAAAAAAAAAAAAAAAAAAAAAAAAAAAAMAAAADAAAAAwAAAAAAAAAAAAAAAAAAAAMAAAAAAAAAAwAAAAAAAAADAAAAAAAAAAAAAAAAAAAAAAAAAAMAAAAAAAAAAAAAAAAAAAADAAAAAAAAAAMAAAAAAAAAAwAAAAAAAAAAAAAAAAAAAAMAAAADAAAAAAAAAAAAAAAAAAAAAAAAAAAAAAAAAAAAAwAAAAAAAAADAAAAAAAAAAMAAAAAAAAAAAAAAAEAAAAAAAAAAgAAAAAAAAAAAAAAAAAAAAMAAAADAAAAAAAAAA==\",\"dtype\":\"int32\",\"order\":\"little\",\"shape\":[532]},\"CoinName\":[\"42 Coin\",\"404Coin\",\"EliteCoin\",\"Bitcoin\",\"Ethereum\",\"Litecoin\",\"Dash\",\"Monero\",\"Ethereum Classic\",\"ZCash\",\"Bitshares\",\"DigiByte\",\"BitcoinDark\",\"PayCoin\",\"ProsperCoin\",\"KoboCoin\",\"Spreadcoin\",\"Argentum\",\"Aurora Coin\",\"BlueCoin\",\"MyriadCoin\",\"MoonCoin\",\"ZetaCoin\",\"SexCoin\",\"Quatloo\",\"EnergyCoin\",\"QuarkCoin\",\"Riecoin\",\"Digitalcoin \",\"BitBar\",\"Catcoin\",\"CryptoBullion\",\"CannaCoin\",\"CryptCoin\",\"CasinoCoin\",\"Diamond\",\"Verge\",\"DevCoin\",\"EarthCoin\",\"E-Gulden\",\"Einsteinium\",\"Emerald\",\"Exclusive Coin\",\"FlutterCoin\",\"Franko\",\"FeatherCoin\",\"GrandCoin\",\"GlobalCoin\",\"GoldCoin\",\"HoboNickels\",\"HyperStake\",\"Infinite Coin\",\"IOCoin\",\"IXcoin\",\"KrugerCoin\",\"LuckyCoin\",\"Litebar \",\"MaxCoin\",\"MegaCoin\",\"MediterraneanCoin\",\"MintCoin\",\"MinCoin\",\"MazaCoin\",\"Nautilus Coin\",\"NavCoin\",\"NobleCoin\",\"Namecoin\",\"NyanCoin\",\"OpalCoin\",\"Orbitcoin\",\"PotCoin\",\"PhoenixCoin\",\"Reddcoin\",\"RonPaulCoin\",\"StableCoin\",\"SmartCoin\",\"SuperCoin\",\"SyncCoin\",\"SysCoin\",\"TeslaCoin\",\"TigerCoin\",\"TittieCoin\",\"TorCoin\",\"TerraCoin\",\"UnbreakableCoin\",\"Unobtanium\",\"UroCoin\",\"UnitaryStatus Dollar\",\"UltraCoin\",\"ViaCoin\",\"VeriCoin\",\"Vertcoin\",\"WorldCoin\",\"X11 Coin\",\"Crypti\",\"JouleCoin\",\"StealthCoin\",\"ZCC Coin\",\"ByteCoin\",\"DigitalNote \",\"BurstCoin\",\"StorjCoin\",\"MonaCoin\",\"Neutron\",\"FairCoin\",\"Gulden\",\"RubyCoin\",\"PesetaCoin\",\"Kore\",\"Wild Beast Coin\",\"Dnotes\",\"Flo\",\"8BIT Coin\",\"Sativa Coin\",\"ArtByte\",\"Folding Coin\",\"Ucoin\",\"Unitus\",\"CypherPunkCoin\",\"OmniCron\",\"Vtorrent\",\"GreenCoin\",\"Cryptonite\",\"MasterCoin\",\"SoonCoin\",\"1Credit\",\"IslaCoin\",\"Nexus\",\"MarsCoin \",\"Crypto\",\"Anarchists Prime\",\"Droidz\",\"BowsCoin\",\"Squall Coin\",\"Song Coin\",\"BitZeny\",\"Diggits\",\"Expanse\",\"Paycon\",\"Siacoin\",\"Emercoin\",\"EverGreenCoin\",\"MindCoin\",\"I0coin\",\"Decred\",\"Revolution VR\",\"HOdlcoin\",\"EDRCoin\",\"Hitcoin\",\"Gamecredits\",\"DubaiCoin\",\"CarpeDiemCoin\",\"PWR Coin\",\"BillaryCoin\",\"GPU Coin\",\"Adzcoin\",\"SoilCoin\",\"YoCoin\",\"SibCoin\",\"EuropeCoin\",\"ZeitCoin\",\"SwingCoin\",\"SafeExchangeCoin\",\"Nebuchadnezzar\",\"Francs\",\"BolivarCoin\",\"Ratecoin\",\"Revenu\",\"Clockcoin\",\"VIP Tokens\",\"BitSend\",\"Omni\",\"Let it Ride\",\"PutinCoin\",\"iBankCoin\",\"Frankywillcoin\",\"MudraCoin\",\"PizzaCoin\",\"Lutetium Coin\",\"Komodo\",\"GoldBlocks\",\"CarterCoin\",\"Karbo\",\"BitTokens\",\"ZayedCoin\",\"MustangCoin\",\"ZoneCoin\",\"Circuits of Value\",\"RootCoin\",\"DopeCoin\",\"BitCurrency\",\"DollarCoin\",\"Swiscoin\",\"Shilling\",\"BuzzCoin\",\"Opair\",\"PesoBit\",\"Halloween Coin\",\"ZCoin\",\"CoffeeCoin\",\"RoyalCoin\",\"GanjaCoin V2\",\"TeamUP\",\"LanaCoin\",\"Elementrem\",\"ZClassic\",\"ARK\",\"InsaneCoin\",\"KiloCoin\",\"ArtexCoin\",\"EmberCoin\",\"XenixCoin\",\"FreeCoin\",\"PLNCoin\",\"AquariusCoin\",\"Kurrent\",\"Creatio\",\"Eternity\",\"Eurocoin\",\"BitcoinFast\",\"Stakenet\",\"BitConnect Coin\",\"MoneyCoin\",\"Enigma\",\"Cannabis Industry Coin\",\"Russiacoin\",\"PandaCoin\",\"GameUnits\",\"GAKHcoin\",\"Allsafe\",\"LiteCreed\",\"OsmiumCoin\",\"Bikercoins\",\"HexxCoin\",\"Klingon Empire Darsek\",\"Internet of People\",\"KushCoin\",\"Printerium\",\"PacCoin\",\"Impeach\",\"Citadel\",\"Zilbercoin\",\"FirstCoin\",\"BeaverCoin\",\"FindCoin\",\"VaultCoin\",\"Zero\",\"OpenChat\",\"Canada eCoin\",\"Zoin\",\"RenosCoin\",\"DubaiCoin\",\"VirtacoinPlus\",\"TajCoin\",\"Impact\",\"EB3coin\",\"Atmos\",\"HappyCoin\",\"Coinonat\",\"MacronCoin\",\"Condensate\",\"Independent Money System\",\"ArgusCoin\",\"LomoCoin\",\"ProCurrency\",\"GoldReserve\",\"BenjiRolls\",\"GrowthCoin\",\"ILCoin\",\"Phreak\",\"Degas Coin\",\"HTML5 Coin\",\"Ultimate Secure Cash\",\"EquiTrader\",\"QTUM\",\"Quantum Resistant Ledger\",\"Espers\",\"Dynamic\",\"Nano\",\"ChanCoin\",\"Dinastycoin\",\"Denarius\",\"DigitalPrice\",\"Virta Unique Coin\",\"Bitcoin Planet\",\"Unify\",\"BritCoin\",\"SocialCoin\",\"ArcticCoin\",\"DAS\",\"Linda\",\"LeviarCoin\",\"DeepOnion\",\"Bitcore\",\"gCn Coin\",\"SmartCash\",\"Signatum\",\"Onix\",\"Cream\",\"Bitcoin Cash\",\"Monoeci\",\"Draftcoin\",\"Vechain\",\"Sojourn Coin\",\"Stakecoin\",\"NewYorkCoin\",\"FrazCoin\",\"Kronecoin\",\"AdCoin\",\"Linx\",\"CoinonatX\",\"Ethereum Dark\",\"Sumokoin\",\"Obsidian\",\"Cardano\",\"Regalcoin\",\"BitcoinZ\",\"TrezarCoin\",\"Elements\",\"TerraNovaCoin\",\"VIVO Coin\",\"Rupee\",\"Bitcoin Gold\",\"WomenCoin\",\"Theresa May Coin\",\"NamoCoin\",\"LUXCoin\",\"Pirl\",\"Xios\",\"Bitcloud 2.0\",\"eBoost\",\"KekCoin\",\"BlackholeCoin\",\"Infinity Economics\",\"Pura\",\"Innova\",\"Ellaism\",\"GoByte\",\"Magnet\",\"Lamden Tau\",\"Electra\",\"Bitcoin Diamond\",\"SHIELD\",\"Cash & Back Coin\",\"UltraNote\",\"BitCoal\",\"DaxxCoin\",\"Bulwark\",\"Kalkulus\",\"AC3\",\"Lethean\",\"GermanCoin\",\"LiteCoin Ultra\",\"PopularCoin\",\"PhantomX\",\"Photon\",\"Sucre\",\"SparksPay\",\"Digiwage\",\"GunCoin\",\"IrishCoin\",\"Trollcoin\",\"Litecoin Plus\",\"Monkey Project\",\"Pioneer Coin\",\"UnitedBitcoin\",\"Interzone\",\"TokenPay\",\"1717 Masonic Commemorative Token\",\"My Big Coin\",\"TurtleCoin\",\"MUNcoin\",\"Unified Society USDEX\",\"Niobio Cash\",\"ShareChain\",\"Travelflex\",\"KREDS\",\"Tokyo Coin\",\"BiblePay\",\"LitecoinCash\",\"BitFlip\",\"LottoCoin\",\"Crypto Improvement Fund\",\"Stipend\",\"Poa Network\",\"Pushi\",\"Ellerium\",\"Velox\",\"Ontology\",\"Callisto Network\",\"BitTube\",\"Poseidon\",\"Aidos Kuneen\",\"Bitspace\",\"Briacoin\",\"Ignition\",\"Bitrolium\",\"MedicCoin\",\"Alpenschillling\",\"Bitcoin Green\",\"Deviant Coin\",\"Abjcoin\",\"Semux\",\"FuturoCoin\",\"Carebit\",\"Zealium\",\"Monero Classic\",\"Proton\",\"iDealCash\",\"Jumpcoin\",\"Infinex\",\"Bitcoin Incognito\",\"KEYCO\",\"HollyWoodCoin\",\"GINcoin\",\"PlatinCoin\",\"Loki\",\"Newton Coin\",\"Swisscoin\",\"Xt3ch\",\"MassGrid\",\"TheVig\",\"PluraCoin\",\"EmaratCoin\",\"Dekado\",\"Lynx\",\"Poseidon Quark\",\"BitcoinWSpectrum\",\"Muse\",\"Motion\",\"PlusOneCoin\",\"Axe\",\"Trivechain\",\"Dystem\",\"Giant\",\"Peony Coin\",\"Absolute Coin\",\"Vitae\",\"HexCoin\",\"TPCash\",\"Webchain\",\"Ryo\",\"Urals Coin\",\"Qwertycoin\",\"ARENON\",\"EUNO\",\"MMOCoin\",\"Ketan\",\"Project Pai\",\"XDNA\",\"PAXEX\",\"Azart\",\"ThunderStake\",\"Kcash\",\"Xchange\",\"Acute Angle Cloud\",\"CrypticCoin\",\"Bettex coin\",\"Actinium\",\"Bitcoin SV\",\"BitMoney\",\"Junson Ming Chan Coin\",\"FREDEnergy\",\"HerbCoin\",\"Universal Molecule\",\"Lithium\",\"PirateCash\",\"Exosis\",\"Block-Logic\",\"Oduwa\",\"Beam\",\"Galilel\",\"Bithereum\",\"Crypto Sports\",\"Credit\",\"SLICE\",\"Dash Platinum\",\"Nasdacoin\",\"Beetle Coin\",\"Titan Coin\",\"Award\",\"BLAST\",\"Bitcoin Rhodium\",\"GlobalToken\",\"Insane Coin\",\"ALAX\",\"LiteDoge\",\"SolarCoin\",\"TruckCoin\",\"UFO Coin\",\"OrangeCoin\",\"BlakeCoin\",\"BitstarCoin\",\"NeosCoin\",\"HyperCoin\",\"PinkCoin\",\"Crypto Escudo\",\"AudioCoin\",\"IncaKoin\",\"Piggy Coin\",\"Crown Coin\",\"Genstake\",\"SmileyCoin\",\"XiaoMiCoin\",\"Groestlcoin\",\"CapriCoin\",\" ClubCoin\",\"Radium\",\"Bata\",\"Pakcoin\",\"Creditbit \",\"OKCash\",\"Lisk\",\"HiCoin\",\"WhiteCoin\",\"FriendshipCoin\",\"JoinCoin\",\"Triangles Coin\",\"Vollar\",\"EOS\",\"Reality Clash\",\"Oxycoin\",\"TigerCash\",\"Waves\",\"Particl\",\"BitTorrent\",\"Nxt\",\"ZEPHYR\",\"Gapcoin\",\"Beldex\",\"Horizen\",\"BitcoinPlus\"],\"PC1\":{\"__ndarray__\":\"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\",\"dtype\":\"float64\",\"order\":\"little\",\"shape\":[532]},\"PC2\":{\"__ndarray__\":\"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\",\"dtype\":\"float64\",\"order\":\"little\",\"shape\":[532]},\"PC3\":{\"__ndarray__\":\"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\",\"dtype\":\"float64\",\"order\":\"little\",\"shape\":[532]},\"ProofType\":[\"PoW/PoS\",\"PoW/PoS\",\"PoW/PoS\",\"PoW\",\"PoW\",\"PoW\",\"PoW/PoS\",\"PoW\",\"PoW\",\"PoW\",\"PoS\",\"PoW\",\"PoW/PoS\",\"PoS\",\"PoW\",\"PoW/PoS\",\"PoW\",\"PoW\",\"PoW/PoS\",\"PoW/PoS\",\"PoW\",\"PoW\",\"PoW\",\"PoW\",\"PoW\",\"PoW/PoS\",\"PoW\",\"PoW\",\"PoW\",\"PoW/PoS\",\"PoW\",\"PoW/PoS\",\"PoW\",\"PoW\",\"PoC\",\"PoW/PoS\",\"PoW\",\"PoW\",\"PoW\",\"PoW\",\"PoW\",\"PoW\",\"PoS\",\"PoS/PoW/PoT\",\"PoW\",\"PoW\",\"PoW\",\"PoW\",\"PoW\",\"PoW/PoS\",\"PoS\",\"PoW\",\"PoW/PoS\",\"PoW\",\"PoW\",\"PoW\",\"PoW\",\"PoW/PoS\",\"PoW\",\"PoW\",\"PoS\",\"PoW\",\"PoW/PoS\",\"PoS\",\"PoW/PoS\",\"PoW\",\"PoW\",\"PoW\",\"PoW/PoS\",\"PoW/PoS\",\"PoW/PoS\",\"PoW/PoS\",\"PoW/PoS\",\"PoW\",\"PoW\",\"PoW\",\"PoS\",\"PoW/PoS\",\"PoW\",\"PoS\",\"PoW\",\"PoS\",\"PoW/PoS\",\"PoW\",\"PoW\",\"PoW\",\"PoW\",\"PoW/PoS\",\"PoW/PoS\",\"PoW\",\"PoST\",\"PoW\",\"PoW\",\"PoW/PoS\",\"PoS\",\"PoW\",\"PoW/PoS\",\"PoW/PoS\",\"PoW\",\"PoW\",\"PoC\",\"PoS\",\"PoW\",\"PoW/PoS\",\"PoW/PoS\",\"PoW\",\"PoS\",\"PoW\",\"PoW/PoS\",\"PoW\",\"PoS\",\"PoW\",\"PoW/PoS\",\"PoW/PoS\",\"PoW\",\"PoW\",\"PoS\",\"PoW\",\"PoW\",\"PoW\",\"PoW/PoS\",\"PoW\",\"PoW\",\"PoW\",\"PoW\",\"PoW\",\"PoW/PoS\",\"PoW/nPoS\",\"PoW\",\"PoW\",\"PoW\",\"PoW/PoS\",\"PoW\",\"PoS/PoW\",\"PoW\",\"PoW\",\"PoS\",\"PoW\",\"PoW/PoS\",\"PoW\",\"PoW/PoS\",\"PoW/PoS\",\"PoW\",\"PoW\",\"PoW/PoS\",\"PoW\",\"PoW\",\"PoW/PoS\",\"PoW/PoS\",\"PoW\",\"PoW/PoS\",\"PoW\",\"PoW/PoS\",\"PoW/PoS\",\"PoS\",\"PoW\",\"PoW\",\"PoW\",\"PoW\",\"PoW/PoS\",\"PoS\",\"PoW/PoS\",\"PoC\",\"PoS\",\"PoW\",\"PoW\",\"PoW/PoS\",\"PoW/PoS\",\"PoW/PoS\",\"PoW/PoS\",\"PoW/PoS\",\"PoW\",\"PoS\",\"PoW/PoS\",\"PoW/PoS\",\"PoW/PoS\",\"PoS\",\"PoW\",\"PoS\",\"dPoW/PoW\",\"PoW/PoS\",\"PoW/PoS\",\"PoW\",\"PoW/PoS\",\"PoW\",\"PoW/PoS\",\"PoW/PoS\",\"PoW\",\"PoW/PoS\",\"PoW\",\"PoS\",\"PoW\",\"PoW/PoW\",\"PoW\",\"PoW/PoS\",\"PoS\",\"PoW/PoS\",\"PoW/PoS\",\"PoW\",\"PoS\",\"PoS\",\"PoW/PoS\",\"PoS\",\"PoW/PoS\",\"PoW\",\"PoW\",\"DPoS\",\"PoW/PoS\",\"PoW\",\"PoW\",\"PoW/PoS\",\"PoW/PoS\",\"PoS\",\"PoW/PoS\",\"PoW/PoS\",\"PoW\",\"PoS\",\"PoW/PoS\",\"PoW/PoS\",\"PoW/PoS\",\"TPoS\",\"PoW/PoS\",\"PoW/PoS\",\"PoW/PoS\",\"PoW\",\"PoW/PoS\",\"PoS\",\"PoW/PoS\",\"PoW/PoS\",\"PoS\",\"PoW/PoS\",\"PoW\",\"PoW\",\"PoW\",\"PoW/PoS\",\"PoW/PoS\",\"PoW/PoS\",\"PoW/PoS\",\"PoW\",\"PoW/PoS\",\"PoW\",\"PoS\",\"PoW/PoS \",\"PoW\",\"PoS\",\"PoW\",\"PoW\",\"PoW/PoS\",\"PoW\",\"PoW\",\"PoS\",\"PoW\",\"PoW/PoS\",\"PoW/PoS\",\"PoW/PoS\",\"PoW\",\"PoS\",\"PoW/PoS\",\"PoW\",\"PoS\",\"PoW/PoS\",\"PoW/PoS\",\"PoW/PoS\",\"PoW/PoS\",\"PoS\",\"PoW/PoS\",\"PoW\",\"PoS\",\"PoW\",\"PoS\",\"PoW/PoS\",\"PoW/PoS\",\"PoS\",\"PoW\",\"PoS\",\"PoW\",\"PoW/PoS\",\"PoW\",\"PoW\",\"PoW\",\"PoW\",\"PoW/PoS\",\"PoW\",\"PoW/PoS\",\"PoW/PoS\",\"PoW\",\"PoW/PoS\",\"PoW\",\"PoW\",\"PoW\",\"PoW/PoS\",\"PoW\",\"PoW/PoS\",\"PoW\",\"PoW\",\"PoW\",\"PoS\",\"PoW\",\"PoW/PoS\",\"PoW\",\"PoW/PoS\",\"PoS\",\"Proof of Authority\",\"PoW\",\"PoS\",\"PoW\",\"PoW\",\"PoW\",\"PoW\",\"PoW\",\"PoW/PoS\",\"PoW/PoS\",\"PoW\",\"PoS\",\"PoS\",\"PoW/PoS\",\"PoW\",\"PoW/PoS\",\"PoW\",\"PoW/PoS\",\"PoW\",\"PoS\",\"PoW\",\"PoW/PoS\",\"PoW/PoS\",\"PoW/PoS\",\"PoW/PoS\",\"PoW\",\"PoW/PoS\",\"PoW/PoS\",\"PoW\",\"PoS\",\"PoW/PoS\",\"PoS\",\"PoW\",\"PoW\",\"PoW\",\"PoW\",\"PoW/PoS\",\"DPoS\",\"PoW/PoS\",\"PoW/PoS\",\"PoW\",\"PoW/PoS\",\"PoW\",\"PoW\",\"PoW\",\"PoS\",\"PoS\",\"PoW\",\"PoW\",\"PoW/PoS\",\"PoW/PoS\",\"PoW\",\"PoW/PoS\",\"PoW\",\"PoW\",\"PoW\",\"PoS\",\"PoW\",\"PoW\",\"PoW/PoS\",\"PoW/PoS\",\"PoS\",\"PoW\",\"PoW\",\"PoW\",\"PoS\",\"PoS\",\"PoW and PoS\",\"PoW\",\"PoW\",\"PoW/PoS\",\"PoW\",\"PoW\",\"PoW\",\"PoW\",\"PoS\",\"POBh\",\"PoW + Hive\",\"PoW\",\"PoW\",\"PoW\",\"PoW/PoS\",\"PoA\",\"PoW/PoS\",\"PoW/PoS\",\"PoS\",\"PoS\",\"PoW\",\"PoW\",\"PoW\",\"PoW\",\"PoW/PoS\",\"PoW/PoS\",\"PoW/PoS\",\"PoW\",\"PoS\",\"PoW\",\"PoS\",\"PoS\",\"PoW/PoS\",\"DPoS\",\"PoW\",\"PoW/PoS\",\"PoS\",\"PoW\",\"PoS\",\"PoW/PoS\",\"PoW\",\"PoW\",\"PoS/PoW\",\"PoW\",\"PoS\",\"PoW\",\"PoW\",\"PoW\",\"PoW\",\"PoW/PoS\",\"PoS\",\"PoW\",\"PoW/PoS\",\"PoW\",\"PoW/PoS\",\"PoS\",\"HPoW\",\"PoS\",\"PoS\",\"PoS\",\"PoW\",\"PoW\",\"PoW\",\"PoW/PoS\",\"PoS\",\"PoW/PoS\",\"PoS\",\"PoW/PoS\",\"PoS\",\"PoW\",\"PoW/PoS\",\"PoW\",\"PoW\",\"PoW\",\"PoW\",\"PoS\",\"PoW/PoS\",\"PoS\",\"PoS\",\"PoW\",\"PoW/PoS\",\"PoS\",\"PoW\",\"PoW/PoS\",\"Zero-Knowledge Proof\",\"PoW\",\"DPOS\",\"PoW\",\"PoS\",\"PoW\",\"PoW\",\"Pos\",\"PoS\",\"PoW\",\"PoW/PoS\",\"PoW\",\"PoW\",\"PoS\",\"PoW\",\"PoW\",\"PoW/PoS\",\"PoW\",\"PoW/PoS\",\"PoW\",\"PoS\",\"PoW/PoS\",\"PoW\",\"PoS\",\"PoW/PoS\",\"PoW/PoS\",\"PoW/PoS\",\"PoW/PoS\",\"PoW\",\"PoW\",\"PoW\",\"PoW/PoS\",\"DPoS\",\"PoW/PoS\",\"PoW\",\"PoW/PoS\",\"PoW\",\"PoW/PoS\",\"PoW\",\"PoW/PoS\",\"PoS\",\"PoW/PoS\",\"PoW/PoS\",\"PoW\",\"PoW/PoS\",\"PoW/PoS\",\"PoW/PoS\",\"PoW\",\"PoW/PoS\",\"PoW\",\"PoW/PoS\",\"PoW\",\"PoW/PoS\",\"PoW/PoS\",\"PoS\",\"PoW\",\"PoW\",\"Proof of Trust\",\"PoW/PoS\",\"DPoS\",\"PoS\",\"PoW/PoS\",\"PoW/PoS\",\"PoW\",\"PoW/PoS\",\"PoW\",\"DPoS\",\"PoW\",\"DPoS\",\"PoS\",\"LPoS\",\"PoS\",\"DPoS\",\"PoS/LPoS\",\"DPoS\",\"PoW/PoS\",\"PoW\",\"PoW\",\"PoS\"],\"TotalCoinSupply\":[\"42\",\"532000000\",\"314159265359\",\"21000000\",\"0\",\"84000000\",\"22000000\",\"0\",\"210000000\",\"21000000\",\"3600570502\",\"21000000000\",\"22000000\",\"12500000\",\"21000000\",\"350000000\",\"20000000\",\"64000000\",\"16768584\",\"0\",\"2000000000\",\"384000000000\",\"169795588\",\"250000000\",\"100000000\",\"0\",\"247000000\",\"84000000\",\"48166000\",\"500000\",\"21000000 \",\"1000000\",\"13140000\",\"18000000\",\"40000000000\",\"4380000\",\"16555000000\",\"21000000000\",\"13500000000\",\"21000000 \",\"299792458\",\"32000000\",\"0\",\"0\",\"11235813\",\"336000000\",\"1420609614\",\"70000000\",\"72245700\",\"120000000\",\"0\",\"90600000000\",\"22000000\",\"21000000\",\"265420800\",\"20000000\",\"1350000\",\"100000000\",\"42000000\",\"200000000\",\"0\",\"10000000\",\"2419200000\",\"16180000\",\"0\",\"15000000000\",\"21000000\",\"337000000\",\"0\",\"3770000\",\"420000000\",\"98000000\",\"0\",\"21000000\",\"250000000\",\"51200000\",\"0\",\"1000\",\"888000000\",\"100000000\",\"47011968\",\"2300000000\",\"10000000\",\"42000000\",\"80000000\",\"250000\",\"0\",\"1600000000\",\"100000000\",\"23000000\",\"0\",\"84000000\",\"265420800\",\"5500000\",\"0\",\"45000000\",\"0\",\"1000000000\",\"184467440735\",\"10000000000\",\"2158812800\",\"500000000\",\"105120000\",\"68000000\",\"0\",\"1680000000\",\"0\",\"166386000\",\"12000000\",\"2628000\",\"500000000\",\"160000000\",\"0\",\"10000000\",\"1000000000\",\"1000000000\",\"20000000\",\"0\",\"0\",\"3371337\",\"20000000\",\"10000000000\",\"1840000000\",\"619478\",\"21000000\",\"92000000000\",\"0\",\"78000000\",\"33000000\",\"65789100\",\"53760000\",\"5060000\",\"21000000\",\"0\",\"210240000\",\"250000000\",\"100000000\",\"16906397\",\"50000000\",\"0\",\"1000000000\",\"26298000\",\"16000000\",\"21000000\",\"21000000\",\"210000000\",\"81962100\",\"22000000\",\"26550000000\",\"84000000\",\"10500000\",\"21626280000 \",\"0\",\"42000000\",\"221052632\",\"84000000\",\"30000000\",\"168351300\",\"24000000\",\"384000000\",\" 99000000000\",\"40000000\",\"2147483647\",\"20000000\",\"20000000\",\"25000000\",\"75000000\",\"222725000\",\"525000000\",\"90000000\",\"139000000\",\"616448\",\"33500000\",\"2000000000\",\"44333333\",\"100000000\",\"200000000\",\"25000000\",\"657000000\",\"200000000\",\"50000000\",\"90000000\",\"10000000\",\"21000000\",\"9736000\",\"3000000\",\"21000000\",\"1200000000\",\"0\",\"200000000\",\"0\",\"10638298\",\"3100000000\",\"30000000\",\"20000000000\",\"74000000\",\"0\",\"1500000000\",\"21400000\",\"39999898\",\"2500124\",\"100000000\",\"301000000\",\"7506000000\",\"26205539\",\"21000000\",\"125000000\",\"30000000\",\"10000000000\",\"500000000\",\"850000000\",\"3853326.77707314\",\"50000000\",\"38540000 \",\"42000000\",\"228000000\",\"20000000\",\"60000000\",\"20000000\",\"33000000\",\"76500000\",\"28000000\",\"650659833\",\"5000000\",\"21000000\",\"144000000\",\"32514916898\",\"13000000\",\"3315789\",\"15000000\",\"78835200\",\"2714286\",\"25000000\",\"9999999\",\"500000000\",\"21000000\",\"9354000\",\"20000000\",\"100000000000\",\"21933333\",\"185000000\",\"55000000\",\"110000000\",\"3360000\",\"14524851.4827\",\"1000000000\",\"17000000\",\"1000000000\",\"100000000 \",\"21000000\",\"34426423\",\"2232901\",\"100000000\",\"36900000\",\"110000000\",\"4000000000\",\"110290030\",\"100000000\",\"48252000\",\"400000000\",\"500000000\",\"21212121\",\"28600000\",\"1000000000\",\"75000000000\",\"40000000\",\"35520400\",\"2000000000\",\"2500000000\",\"30000000\",\"105000000\",\"90000000000\",\"200084200\",\"72000000\",\"100000000\",\"105000000\",\"50000000000\",\"0\",\"340282367\",\"30000000\",\"2000000000\",\"10000000\",\"100000000\",\"120000000\",\"100000000\",\"19276800\",\"30000000\",\" 75000000\",\"60000000\",\"18900000\",\"50000000000\",\"54000000\",\"18898187.6216583\",\"21000000\",\"200000000000\",\"5000000000\",\"137500000\",\"1100000000\",\"100000000\",\"21000000\",\"9507271\",\"17405891.19707116\",\"86712634466\",\"10500000000\",\"61599965\",\"0\",\"20000000\",\"84000000\",\"100000000\",\"100000000\",\"48252000\",\"4200000\",\"88888888\",\"91388946\",\"45000000000\",\"27000000\",\"21000000000\",\"400000000\",\"1800000000\",\"15733333\",\"27000000\",\"24000000\",\"21000000\",\"25000000000\",\"100000000\",\"1200000000\",\"60000000\",\"156306732.71\",\"21000000\",\"200000000\",\"100000000\",\"21000000\",\"14788275.991\",\"9000000000\",\"350000000\",\"45000000\",\"280000000\",\"31800000\",\"144000000\",\"500000000\",\"30000000000\",\"210000000\",\"660000000\",\"210000000\",\"85000000000\",\"12500000\",\"10000000000\",\"27716121\",\"20000000\",\"550000000\",\"999481516\",\"50000000000\",\"150000000\",\"4999999999\",\"50000000\",\" 90000000000\",\"19800000\",\"21000000\",\"120000000\",\"500000000\",\"64000000\",\"900000000\",\"4000000\",\"21000000\",\"23000000\",\"20166000\",\"23000000\",\"25000000\",\"1618033\",\"30000000\",\"1000000000000\",\"16600000\",\"232000000\",\"336000000\",\"10000000000\",\"100000000\",\"1100000000\",\"800000000\",\"5200000000\",\"840000000\",\"40000000\",\"18406979840\",\"500000000\",\"19340594\",\"252460800\",\"25000000\",\"60000000\",\"124000000\",\"1000000000\",\"6500000000\",\"1000000000\",\"21000000\",\"25000000\",\"50000000\",\"3000000\",\"5000000\",\"70000000\",\"500000000\",\"300000000\",\"21000000\",\"88000000\",\"30000000\",\"100000000\",\"100000000\",\"200000000\",\"80000000\",\"18400000\",\"45000000\",\"5121951220\",\"21000000\",\"26280000\",\"21000000\",\"18000000\",\"26000000\",\"10500000\",\"600000518\",\"150000000\",\"184000000000\",\"10200000000\",\"44000000\",\"168000000\",\"100000000\",\"1000000000\",\"84000000\",\"90000000\",\"92000000000\",\"650000000 \",\"100262205\",\"18081806 \",\"22075700\",\"21000000\",\"21000000\",\"82546564\",\"21000000\",\"5151000\",\"16880000000\",\"52500000\",\"100000000\",\"22105263\",\"1000000000\",\"1750000000\",\"88188888\",\"210000000\",\"184470000000\",\"55000000\",\"50000000\",\"260000000\",\"210000000\",\"2100000000\",\"366000000\",\"100000000\",\"25000000\",\"18000000000\",\"1000000000\",\"100000000\",\"1000000000\",\"7600000000\",\"50000000\",\"84000000\",\"21000000\",\"70000000000\",\"0\",\"8080000000\",\"54000000\",\"105120001.44\",\"25228800\",\"105000000\",\"21000000\",\"120000000\",\"21000000\",\"262800000\",\"19035999\",\"30886000\",\"13370000\",\"74800000000\",\"100000000\",\"19700000\",\"84000000\",\"500000000\",\"5000000000\",\"420000000\",\"64000000\",\"2100000\",\"168000000\",\"30000000\",\"1000000000\",\"35000000000\",\"98100000000\",\"0\",\"4000000000\",\"200000000\",\"7000000000\",\"54256119\",\"21000000\",\"0\",\"500000000\",\"1000000000\",\"10500000000\",\"190000000\",\"1000000000\",\"42000000\",\"15000000\",\"50000000000\",\"400000000\",\"105000000\",\"208000000\",\"160000000\",\"9000000\",\"5000000\",\"182000000\",\"16504333\",\"105000000\",\"159918400\",\"10008835635\",\"300000000\",\"60168145\",\"2800000\",\"120000\",\"2100000000\",\"0\",\"24487944\",\"0\",\"1000000000\",\"100000000\",\"8634140\",\"990000000000\",\"1000000000\",\"2000000000\",\"250000000\",\"1400222610\",\"21000000\",\"1000000\"],\"TotalCoinsMined\":{\"__ndarray__\":\"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\",\"dtype\":\"float64\",\"order\":\"little\",\"shape\":[532]}},\"selected\":{\"id\":\"1436\"},\"selection_policy\":{\"id\":\"1486\"}},\"id\":\"1435\",\"type\":\"ColumnDataSource\"},{\"attributes\":{\"editor\":{\"id\":\"1458\"},\"field\":\"PC1\",\"formatter\":{\"id\":\"1457\"},\"title\":\"PC1\"},\"id\":\"1459\",\"type\":\"TableColumn\"}],\"root_ids\":[\"1433\"]},\"title\":\"Bokeh Application\",\"version\":\"2.3.2\"}};\n",
       "    var render_items = [{\"docid\":\"a6d772d5-c9db-4075-beae-1935fedfc8bc\",\"root_ids\":[\"1433\"],\"roots\":{\"1433\":\"000625cc-e15e-45b8-a3a0-dcf0798426bd\"}}];\n",
       "    root.Bokeh.embed.embed_items_notebook(docs_json, render_items);\n",
       "  }\n",
       "  if (root.Bokeh !== undefined && root.Bokeh.Panel !== undefined) {\n",
       "    embed_document(root);\n",
       "  } else {\n",
       "    var attempts = 0;\n",
       "    var timer = setInterval(function(root) {\n",
       "      if (root.Bokeh !== undefined && root.Bokeh.Panel !== undefined) {\n",
       "        clearInterval(timer);\n",
       "        embed_document(root);\n",
       "      } else if (document.readyState == \"complete\") {\n",
       "        attempts++;\n",
       "        if (attempts > 200) {\n",
       "          clearInterval(timer);\n",
       "          console.log(\"Bokeh: ERROR: Unable to run BokehJS code because BokehJS library is missing\");\n",
       "        }\n",
       "      }\n",
       "    }, 25, root)\n",
       "  }\n",
       "})(window);</script>"
      ],
      "text/plain": [
       ":Table   [Algorithm,ProofType,TotalCoinsMined,TotalCoinSupply,PC1,PC2,PC3,CoinName,Class]"
      ]
     },
     "execution_count": 48,
     "metadata": {
      "application/vnd.holoviews_exec.v0+json": {
       "id": "1433"
      }
     },
     "output_type": "execute_result"
    }
   ],
   "source": [
    "# Create a table with tradable cryptocurrencies.\n",
    "clustered_df.hvplot.table(sortable=True, selectable=True)"
   ]
  },
  {
   "cell_type": "code",
   "execution_count": 49,
   "metadata": {},
   "outputs": [
    {
     "name": "stdout",
     "output_type": "stream",
     "text": [
      "<bound method DataFrame.count of         Algorithm ProofType  TotalCoinsMined TotalCoinSupply       PC1  \\\n",
      "42         Scrypt   PoW/PoS     4.199995e+01              42 -0.340776   \n",
      "404        Scrypt   PoW/PoS     1.055185e+09       532000000 -0.324095   \n",
      "1337          X13   PoW/PoS     2.927942e+10    314159265359  2.306822   \n",
      "BTC       SHA-256       PoW     1.792718e+07        21000000 -0.144050   \n",
      "ETH        Ethash       PoW     1.076842e+08               0 -0.154448   \n",
      "...           ...       ...              ...             ...       ...   \n",
      "ZEPH      SHA-256      DPoS     2.000000e+09      2000000000  2.460587   \n",
      "GAP        Scrypt   PoW/PoS     1.493105e+07       250000000 -0.338820   \n",
      "BDX   CryptoNight       PoW     9.802226e+08      1400222610  0.324575   \n",
      "ZEN      Equihash       PoW     7.296538e+06        21000000 -0.126936   \n",
      "XBC        Scrypt       PoS     1.283270e+05         1000000 -0.300169   \n",
      "\n",
      "           PC2       PC3     CoinName  Class  \n",
      "42    1.014156 -0.572088      42 Coin      0  \n",
      "404   1.014309 -0.572505      404Coin      0  \n",
      "1337  1.747881 -0.606740    EliteCoin      0  \n",
      "BTC  -1.249328  0.186987      Bitcoin      3  \n",
      "ETH  -2.009371  0.388266     Ethereum      3  \n",
      "...        ...       ...          ...    ...  \n",
      "ZEPH  0.817027 -0.092890       ZEPHYR      0  \n",
      "GAP   1.014042 -0.572114      Gapcoin      0  \n",
      "BDX  -2.270540  0.414773       Beldex      3  \n",
      "ZEN  -2.058374  0.407162      Horizen      3  \n",
      "XBC   0.669311 -0.288866  BitcoinPlus      0  \n",
      "\n",
      "[532 rows x 9 columns]>\n"
     ]
    }
   ],
   "source": [
    "print(clustered_df.count)"
   ]
  },
  {
   "cell_type": "markdown",
   "metadata": {},
   "source": [
    "#### Scatter Plot with Tradable Cryptocurrencies"
   ]
  },
  {
   "cell_type": "code",
   "execution_count": 52,
   "metadata": {},
   "outputs": [
    {
     "data": {
      "text/html": [
       "<div>\n",
       "<style scoped>\n",
       "    .dataframe tbody tr th:only-of-type {\n",
       "        vertical-align: middle;\n",
       "    }\n",
       "\n",
       "    .dataframe tbody tr th {\n",
       "        vertical-align: top;\n",
       "    }\n",
       "\n",
       "    .dataframe thead th {\n",
       "        text-align: right;\n",
       "    }\n",
       "</style>\n",
       "<table border=\"1\" class=\"dataframe\">\n",
       "  <thead>\n",
       "    <tr style=\"text-align: right;\">\n",
       "      <th></th>\n",
       "      <th>TotalCoinSupply</th>\n",
       "      <th>TotalCoinsMined</th>\n",
       "      <th>CoinName</th>\n",
       "      <th>Class</th>\n",
       "    </tr>\n",
       "  </thead>\n",
       "  <tbody>\n",
       "    <tr>\n",
       "      <th>42</th>\n",
       "      <td>4.200000e-11</td>\n",
       "      <td>0.000000</td>\n",
       "      <td>42 Coin</td>\n",
       "      <td>0</td>\n",
       "    </tr>\n",
       "    <tr>\n",
       "      <th>404</th>\n",
       "      <td>5.320000e-04</td>\n",
       "      <td>0.001066</td>\n",
       "      <td>404Coin</td>\n",
       "      <td>0</td>\n",
       "    </tr>\n",
       "    <tr>\n",
       "      <th>1337</th>\n",
       "      <td>3.141593e-01</td>\n",
       "      <td>0.029576</td>\n",
       "      <td>EliteCoin</td>\n",
       "      <td>0</td>\n",
       "    </tr>\n",
       "    <tr>\n",
       "      <th>BTC</th>\n",
       "      <td>2.100000e-05</td>\n",
       "      <td>0.000018</td>\n",
       "      <td>Bitcoin</td>\n",
       "      <td>3</td>\n",
       "    </tr>\n",
       "    <tr>\n",
       "      <th>ETH</th>\n",
       "      <td>0.000000e+00</td>\n",
       "      <td>0.000109</td>\n",
       "      <td>Ethereum</td>\n",
       "      <td>3</td>\n",
       "    </tr>\n",
       "  </tbody>\n",
       "</table>\n",
       "</div>"
      ],
      "text/plain": [
       "      TotalCoinSupply  TotalCoinsMined   CoinName  Class\n",
       "42       4.200000e-11         0.000000    42 Coin      0\n",
       "404      5.320000e-04         0.001066    404Coin      0\n",
       "1337     3.141593e-01         0.029576  EliteCoin      0\n",
       "BTC      2.100000e-05         0.000018    Bitcoin      3\n",
       "ETH      0.000000e+00         0.000109   Ethereum      3"
      ]
     },
     "execution_count": 52,
     "metadata": {},
     "output_type": "execute_result"
    }
   ],
   "source": [
    "# Scale data to create the scatter plot\n",
    "mm_scaler = MinMaxScaler()\n",
    "plot_data = mm_scaler.fit_transform(\n",
    "    clustered_df[[\"TotalCoinSupply\", \"TotalCoinsMined\"]]\n",
    ")\n",
    "plot_df = pd.DataFrame(\n",
    "    plot_data, columns=[\"TotalCoinSupply\", \"TotalCoinsMined\"], index=clustered_df.index\n",
    ")\n",
    "plot_df[\"CoinName\"] = clustered_df[\"CoinName\"]\n",
    "plot_df[\"Class\"] = clustered_df[\"Class\"]\n",
    "plot_df.head()"
   ]
  },
  {
   "cell_type": "code",
   "execution_count": 53,
   "metadata": {},
   "outputs": [
    {
     "data": {},
     "metadata": {},
     "output_type": "display_data"
    },
    {
     "data": {
      "application/vnd.holoviews_exec.v0+json": "",
      "text/html": [
       "<div id='1501'>\n",
       "\n",
       "\n",
       "\n",
       "\n",
       "\n",
       "  <div class=\"bk-root\" id=\"1317a6a2-2bb7-4208-af57-a36e96bf9ecd\" data-root-id=\"1501\"></div>\n",
       "</div>\n",
       "<script type=\"application/javascript\">(function(root) {\n",
       "  function embed_document(root) {\n",
       "    var docs_json = {\"da057165-e42c-4fe7-bc50-9f0619cb4508\":{\"defs\":[{\"extends\":null,\"module\":null,\"name\":\"ReactiveHTML1\",\"overrides\":[],\"properties\":[]},{\"extends\":null,\"module\":null,\"name\":\"FlexBox1\",\"overrides\":[],\"properties\":[{\"default\":\"flex-start\",\"kind\":null,\"name\":\"align_content\"},{\"default\":\"flex-start\",\"kind\":null,\"name\":\"align_items\"},{\"default\":\"row\",\"kind\":null,\"name\":\"flex_direction\"},{\"default\":\"wrap\",\"kind\":null,\"name\":\"flex_wrap\"},{\"default\":\"flex-start\",\"kind\":null,\"name\":\"justify_content\"}]},{\"extends\":null,\"module\":null,\"name\":\"TemplateActions1\",\"overrides\":[],\"properties\":[{\"default\":0,\"kind\":null,\"name\":\"open_modal\"},{\"default\":0,\"kind\":null,\"name\":\"close_modal\"}]},{\"extends\":null,\"module\":null,\"name\":\"MaterialTemplateActions1\",\"overrides\":[],\"properties\":[{\"default\":0,\"kind\":null,\"name\":\"open_modal\"},{\"default\":0,\"kind\":null,\"name\":\"close_modal\"}]}],\"roots\":{\"references\":[{\"attributes\":{},\"id\":\"1544\",\"type\":\"BasicTickFormatter\"},{\"attributes\":{},\"id\":\"1608\",\"type\":\"UnionRenderers\"},{\"attributes\":{\"data_source\":{\"id\":\"1545\"},\"glyph\":{\"id\":\"1548\"},\"hover_glyph\":null,\"muted_glyph\":{\"id\":\"1550\"},\"nonselection_glyph\":{\"id\":\"1549\"},\"selection_glyph\":{\"id\":\"1565\"},\"view\":{\"id\":\"1552\"}},\"id\":\"1551\",\"type\":\"GlyphRenderer\"},{\"attributes\":{\"source\":{\"id\":\"1588\"}},\"id\":\"1595\",\"type\":\"CDSView\"},{\"attributes\":{},\"id\":\"1526\",\"type\":\"SaveTool\"},{\"attributes\":{\"label\":{\"value\":\"2\"},\"renderers\":[{\"id\":\"1594\"}]},\"id\":\"1610\",\"type\":\"LegendItem\"},{\"attributes\":{},\"id\":\"1527\",\"type\":\"PanTool\"},{\"attributes\":{\"fill_color\":{\"value\":\"#e5ae38\"},\"line_color\":{\"value\":\"#e5ae38\"},\"size\":{\"value\":5.477225575051661},\"x\":{\"field\":\"TotalCoinsMined\"},\"y\":{\"field\":\"TotalCoinSupply\"}},\"id\":\"1591\",\"type\":\"Scatter\"},{\"attributes\":{\"data_source\":{\"id\":\"1588\"},\"glyph\":{\"id\":\"1591\"},\"hover_glyph\":null,\"muted_glyph\":{\"id\":\"1593\"},\"nonselection_glyph\":{\"id\":\"1592\"},\"selection_glyph\":{\"id\":\"1611\"},\"view\":{\"id\":\"1595\"}},\"id\":\"1594\",\"type\":\"GlyphRenderer\"},{\"attributes\":{},\"id\":\"1528\",\"type\":\"WheelZoomTool\"},{\"attributes\":{\"fill_alpha\":{\"value\":0.2},\"fill_color\":{\"value\":\"#e5ae38\"},\"line_alpha\":{\"value\":0.2},\"line_color\":{\"value\":\"#e5ae38\"},\"size\":{\"value\":5.477225575051661},\"x\":{\"field\":\"TotalCoinsMined\"},\"y\":{\"field\":\"TotalCoinSupply\"}},\"id\":\"1593\",\"type\":\"Scatter\"},{\"attributes\":{\"children\":[{\"id\":\"1502\"},{\"id\":\"1509\"},{\"id\":\"1782\"}],\"margin\":[0,0,0,0],\"name\":\"Row02720\",\"tags\":[\"embedded\"]},\"id\":\"1501\",\"type\":\"Row\"},{\"attributes\":{\"overlay\":{\"id\":\"1531\"}},\"id\":\"1529\",\"type\":\"BoxZoomTool\"},{\"attributes\":{\"click_policy\":\"mute\",\"items\":[{\"id\":\"1564\"},{\"id\":\"1586\"},{\"id\":\"1610\"},{\"id\":\"1636\"}],\"location\":[0,0],\"title\":\"Class\"},\"id\":\"1563\",\"type\":\"Legend\"},{\"attributes\":{\"axis_label\":\"TotalCoinsMined\",\"formatter\":{\"id\":\"1541\"},\"major_label_policy\":{\"id\":\"1540\"},\"ticker\":{\"id\":\"1519\"}},\"id\":\"1518\",\"type\":\"LinearAxis\"},{\"attributes\":{\"data\":{\"Class\":[1,1,1,1,1,1],\"CoinName\":[\"Vechain\",\"BiblePay\",\"LitecoinCash\",\"Poa Network\",\"Acute Angle Cloud\",\"Waves\"],\"TotalCoinSupply\":{\"__ndarray__\":\"+nQumcwytj+U9gZfmEx1P7x5qkNuhks/hFoo4ZaLMD/8qfHSTWJQPyxDHOviNho/\",\"dtype\":\"float64\",\"order\":\"little\",\"shape\":[6]},\"TotalCoinsMined\":{\"__ndarray__\":\"zaDgBxGurD+PWA2R2lNdP5CkxfJKIUU/nBkleI8SKz96Q0MFuIxQP/tFfmC/eho/\",\"dtype\":\"float64\",\"order\":\"little\",\"shape\":[6]}},\"selected\":{\"id\":\"1567\"},\"selection_policy\":{\"id\":\"1584\"}},\"id\":\"1566\",\"type\":\"ColumnDataSource\"},{\"attributes\":{\"margin\":[5,5,5,5],\"name\":\"HSpacer02724\",\"sizing_mode\":\"stretch_width\"},\"id\":\"1502\",\"type\":\"Spacer\"},{\"attributes\":{},\"id\":\"1530\",\"type\":\"ResetTool\"},{\"attributes\":{\"angle\":{\"value\":0.0},\"fill_alpha\":{\"value\":1.0},\"fill_color\":{\"value\":\"#e5ae38\"},\"hatch_alpha\":{\"value\":1.0},\"hatch_color\":{\"value\":\"black\"},\"hatch_scale\":{\"value\":12.0},\"hatch_weight\":{\"value\":1.0},\"line_alpha\":{\"value\":1.0},\"line_cap\":{\"value\":\"butt\"},\"line_color\":{\"value\":\"#e5ae38\"},\"line_dash\":{\"value\":[]},\"line_dash_offset\":{\"value\":0},\"line_join\":{\"value\":\"bevel\"},\"line_width\":{\"value\":1},\"marker\":{\"value\":\"circle\"},\"size\":{\"value\":5.477225575051661},\"x\":{\"field\":\"TotalCoinsMined\"},\"y\":{\"field\":\"TotalCoinSupply\"}},\"id\":\"1611\",\"type\":\"Scatter\"},{\"attributes\":{\"data\":{\"Class\":[0,0,0,0,0,0,0,0,0,0,0,0,0,0,0,0,0,0,0,0,0,0,0,0,0,0,0,0,0,0,0,0,0,0,0,0,0,0,0,0,0,0,0,0,0,0,0,0,0,0,0,0,0,0,0,0,0,0,0,0,0,0,0,0,0,0,0,0,0,0,0,0,0,0,0,0,0,0,0,0,0,0,0,0,0,0,0,0,0,0,0,0,0,0,0,0,0,0,0,0,0,0,0,0,0,0,0,0,0,0,0,0,0,0,0,0,0,0,0,0,0,0,0,0,0,0,0,0,0,0,0,0,0,0,0,0,0,0,0,0,0,0,0,0,0,0,0,0,0,0,0,0,0,0,0,0,0,0,0,0,0,0,0,0,0,0,0,0,0,0,0,0,0,0,0,0,0,0,0,0,0,0,0,0,0,0,0,0,0,0,0,0,0,0,0,0,0,0,0,0,0,0,0,0,0,0,0,0,0,0,0,0,0,0,0,0,0,0,0,0,0,0,0,0,0,0,0,0,0,0,0,0,0,0,0,0,0,0,0,0,0,0,0,0,0,0,0,0,0,0,0,0,0,0,0,0,0,0,0,0,0,0,0,0,0,0,0,0,0,0,0,0,0,0,0,0,0,0,0,0,0,0],\"CoinName\":[\"42 Coin\",\"404Coin\",\"EliteCoin\",\"Dash\",\"Bitshares\",\"BitcoinDark\",\"PayCoin\",\"KoboCoin\",\"Aurora Coin\",\"BlueCoin\",\"EnergyCoin\",\"BitBar\",\"CryptoBullion\",\"Diamond\",\"Exclusive Coin\",\"FlutterCoin\",\"HoboNickels\",\"HyperStake\",\"IOCoin\",\"MaxCoin\",\"MintCoin\",\"MazaCoin\",\"Nautilus Coin\",\"NavCoin\",\"OpalCoin\",\"Orbitcoin\",\"PotCoin\",\"PhoenixCoin\",\"Reddcoin\",\"SuperCoin\",\"SyncCoin\",\"TeslaCoin\",\"TittieCoin\",\"TorCoin\",\"UnitaryStatus Dollar\",\"UltraCoin\",\"VeriCoin\",\"X11 Coin\",\"Crypti\",\"StealthCoin\",\"ZCC Coin\",\"StorjCoin\",\"Neutron\",\"FairCoin\",\"RubyCoin\",\"Kore\",\"Dnotes\",\"8BIT Coin\",\"Sativa Coin\",\"Ucoin\",\"Vtorrent\",\"IslaCoin\",\"Nexus\",\"Droidz\",\"Squall Coin\",\"Diggits\",\"Paycon\",\"Emercoin\",\"EverGreenCoin\",\"Decred\",\"EDRCoin\",\"Hitcoin\",\"DubaiCoin\",\"PWR Coin\",\"BillaryCoin\",\"GPU Coin\",\"EuropeCoin\",\"ZeitCoin\",\"SwingCoin\",\"Nebuchadnezzar\",\"Ratecoin\",\"Revenu\",\"Clockcoin\",\"VIP Tokens\",\"BitSend\",\"Let it Ride\",\"PutinCoin\",\"iBankCoin\",\"Frankywillcoin\",\"MudraCoin\",\"Lutetium Coin\",\"GoldBlocks\",\"CarterCoin\",\"BitTokens\",\"MustangCoin\",\"ZoneCoin\",\"RootCoin\",\"BitCurrency\",\"Swiscoin\",\"BuzzCoin\",\"Opair\",\"PesoBit\",\"Halloween Coin\",\"CoffeeCoin\",\"RoyalCoin\",\"GanjaCoin V2\",\"TeamUP\",\"LanaCoin\",\"ARK\",\"InsaneCoin\",\"EmberCoin\",\"XenixCoin\",\"FreeCoin\",\"PLNCoin\",\"AquariusCoin\",\"Creatio\",\"Eternity\",\"Eurocoin\",\"BitcoinFast\",\"Stakenet\",\"BitConnect Coin\",\"MoneyCoin\",\"Enigma\",\"Russiacoin\",\"PandaCoin\",\"GameUnits\",\"GAKHcoin\",\"Allsafe\",\"LiteCreed\",\"Klingon Empire Darsek\",\"Internet of People\",\"KushCoin\",\"Printerium\",\"Impeach\",\"Zilbercoin\",\"FirstCoin\",\"FindCoin\",\"OpenChat\",\"RenosCoin\",\"VirtacoinPlus\",\"TajCoin\",\"Impact\",\"Atmos\",\"HappyCoin\",\"MacronCoin\",\"Condensate\",\"Independent Money System\",\"ArgusCoin\",\"LomoCoin\",\"ProCurrency\",\"GoldReserve\",\"GrowthCoin\",\"Phreak\",\"Degas Coin\",\"HTML5 Coin\",\"Ultimate Secure Cash\",\"QTUM\",\"Espers\",\"Denarius\",\"Virta Unique Coin\",\"Bitcoin Planet\",\"BritCoin\",\"Linda\",\"DeepOnion\",\"Signatum\",\"Cream\",\"Monoeci\",\"Draftcoin\",\"Stakecoin\",\"CoinonatX\",\"Ethereum Dark\",\"Obsidian\",\"Cardano\",\"Regalcoin\",\"TrezarCoin\",\"TerraNovaCoin\",\"Rupee\",\"WomenCoin\",\"Theresa May Coin\",\"NamoCoin\",\"LUXCoin\",\"Xios\",\"Bitcloud 2.0\",\"KekCoin\",\"BlackholeCoin\",\"Infinity Economics\",\"Magnet\",\"Lamden Tau\",\"Electra\",\"Bitcoin Diamond\",\"Cash & Back Coin\",\"Bulwark\",\"Kalkulus\",\"GermanCoin\",\"LiteCoin Ultra\",\"PhantomX\",\"Digiwage\",\"Trollcoin\",\"Litecoin Plus\",\"Monkey Project\",\"TokenPay\",\"My Big Coin\",\"Unified Society USDEX\",\"Tokyo Coin\",\"Stipend\",\"Pushi\",\"Ellerium\",\"Velox\",\"Ontology\",\"Bitspace\",\"Briacoin\",\"Ignition\",\"MedicCoin\",\"Bitcoin Green\",\"Deviant Coin\",\"Abjcoin\",\"Semux\",\"Carebit\",\"Zealium\",\"Proton\",\"iDealCash\",\"Bitcoin Incognito\",\"HollyWoodCoin\",\"Swisscoin\",\"Xt3ch\",\"TheVig\",\"EmaratCoin\",\"Dekado\",\"Lynx\",\"Poseidon Quark\",\"BitcoinWSpectrum\",\"Muse\",\"Trivechain\",\"Dystem\",\"Giant\",\"Peony Coin\",\"Absolute Coin\",\"Vitae\",\"TPCash\",\"ARENON\",\"EUNO\",\"MMOCoin\",\"Ketan\",\"XDNA\",\"PAXEX\",\"ThunderStake\",\"Kcash\",\"Bettex coin\",\"BitMoney\",\"Junson Ming Chan Coin\",\"HerbCoin\",\"Oduwa\",\"Galilel\",\"Crypto Sports\",\"Credit\",\"Dash Platinum\",\"Nasdacoin\",\"Beetle Coin\",\"Titan Coin\",\"Award\",\"Insane Coin\",\"ALAX\",\"LiteDoge\",\"TruckCoin\",\"OrangeCoin\",\"BitstarCoin\",\"NeosCoin\",\"HyperCoin\",\"PinkCoin\",\"AudioCoin\",\"IncaKoin\",\"Piggy Coin\",\"Genstake\",\"XiaoMiCoin\",\"CapriCoin\",\" ClubCoin\",\"Radium\",\"Creditbit \",\"OKCash\",\"Lisk\",\"HiCoin\",\"WhiteCoin\",\"FriendshipCoin\",\"Triangles Coin\",\"EOS\",\"Oxycoin\",\"TigerCash\",\"Particl\",\"Nxt\",\"ZEPHYR\",\"Gapcoin\",\"BitcoinPlus\"],\"TotalCoinSupply\":{\"__ndarray__\":\"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\",\"dtype\":\"float64\",\"order\":\"little\",\"shape\":[282]},\"TotalCoinsMined\":{\"__ndarray__\":\"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\",\"dtype\":\"float64\",\"order\":\"little\",\"shape\":[282]}},\"selected\":{\"id\":\"1546\"},\"selection_policy\":{\"id\":\"1561\"}},\"id\":\"1545\",\"type\":\"ColumnDataSource\"},{\"attributes\":{\"fill_color\":{\"value\":\"#30a2da\"},\"line_color\":{\"value\":\"#30a2da\"},\"size\":{\"value\":5.477225575051661},\"x\":{\"field\":\"TotalCoinsMined\"},\"y\":{\"field\":\"TotalCoinSupply\"}},\"id\":\"1548\",\"type\":\"Scatter\"},{\"attributes\":{\"fill_color\":{\"value\":\"#fc4f30\"},\"line_color\":{\"value\":\"#fc4f30\"},\"size\":{\"value\":5.477225575051661},\"x\":{\"field\":\"TotalCoinsMined\"},\"y\":{\"field\":\"TotalCoinSupply\"}},\"id\":\"1569\",\"type\":\"Scatter\"},{\"attributes\":{\"fill_color\":{\"value\":\"#6d904f\"},\"line_color\":{\"value\":\"#6d904f\"},\"size\":{\"value\":5.477225575051661},\"x\":{\"field\":\"TotalCoinsMined\"},\"y\":{\"field\":\"TotalCoinSupply\"}},\"id\":\"1615\",\"type\":\"Scatter\"},{\"attributes\":{},\"id\":\"1541\",\"type\":\"BasicTickFormatter\"},{\"attributes\":{},\"id\":\"1546\",\"type\":\"Selection\"},{\"attributes\":{},\"id\":\"1567\",\"type\":\"Selection\"},{\"attributes\":{},\"id\":\"1613\",\"type\":\"Selection\"},{\"attributes\":{\"fill_alpha\":{\"value\":0.1},\"fill_color\":{\"value\":\"#e5ae38\"},\"line_alpha\":{\"value\":0.1},\"line_color\":{\"value\":\"#e5ae38\"},\"size\":{\"value\":5.477225575051661},\"x\":{\"field\":\"TotalCoinsMined\"},\"y\":{\"field\":\"TotalCoinSupply\"}},\"id\":\"1592\",\"type\":\"Scatter\"},{\"attributes\":{\"data_source\":{\"id\":\"1612\"},\"glyph\":{\"id\":\"1615\"},\"hover_glyph\":null,\"muted_glyph\":{\"id\":\"1617\"},\"nonselection_glyph\":{\"id\":\"1616\"},\"selection_glyph\":{\"id\":\"1637\"},\"view\":{\"id\":\"1619\"}},\"id\":\"1618\",\"type\":\"GlyphRenderer\"},{\"attributes\":{\"angle\":{\"value\":0.0},\"fill_alpha\":{\"value\":1.0},\"fill_color\":{\"value\":\"#30a2da\"},\"hatch_alpha\":{\"value\":1.0},\"hatch_color\":{\"value\":\"black\"},\"hatch_scale\":{\"value\":12.0},\"hatch_weight\":{\"value\":1.0},\"line_alpha\":{\"value\":1.0},\"line_cap\":{\"value\":\"butt\"},\"line_color\":{\"value\":\"#30a2da\"},\"line_dash\":{\"value\":[]},\"line_dash_offset\":{\"value\":0},\"line_join\":{\"value\":\"bevel\"},\"line_width\":{\"value\":1},\"marker\":{\"value\":\"circle\"},\"size\":{\"value\":5.477225575051661},\"x\":{\"field\":\"TotalCoinsMined\"},\"y\":{\"field\":\"TotalCoinSupply\"}},\"id\":\"1565\",\"type\":\"Scatter\"},{\"attributes\":{\"source\":{\"id\":\"1612\"}},\"id\":\"1619\",\"type\":\"CDSView\"},{\"attributes\":{\"callback\":null,\"renderers\":[{\"id\":\"1551\"},{\"id\":\"1572\"},{\"id\":\"1594\"},{\"id\":\"1618\"}],\"tags\":[\"hv_created\"],\"tooltips\":[[\"Class\",\"@{Class}\"],[\"TotalCoinsMined\",\"@{TotalCoinsMined}\"],[\"TotalCoinSupply\",\"@{TotalCoinSupply}\"],[\"CoinName\",\"@{CoinName}\"]]},\"id\":\"1505\",\"type\":\"HoverTool\"},{\"attributes\":{\"end\":1.1,\"reset_end\":1.1,\"reset_start\":-0.1,\"start\":-0.1,\"tags\":[[[\"TotalCoinSupply\",\"TotalCoinSupply\",null]]]},\"id\":\"1504\",\"type\":\"Range1d\"},{\"attributes\":{\"fill_alpha\":{\"value\":0.1},\"fill_color\":{\"value\":\"#fc4f30\"},\"line_alpha\":{\"value\":0.1},\"line_color\":{\"value\":\"#fc4f30\"},\"size\":{\"value\":5.477225575051661},\"x\":{\"field\":\"TotalCoinsMined\"},\"y\":{\"field\":\"TotalCoinSupply\"}},\"id\":\"1570\",\"type\":\"Scatter\"},{\"attributes\":{\"fill_alpha\":{\"value\":0.2},\"fill_color\":{\"value\":\"#6d904f\"},\"line_alpha\":{\"value\":0.2},\"line_color\":{\"value\":\"#6d904f\"},\"size\":{\"value\":5.477225575051661},\"x\":{\"field\":\"TotalCoinsMined\"},\"y\":{\"field\":\"TotalCoinSupply\"}},\"id\":\"1617\",\"type\":\"Scatter\"},{\"attributes\":{\"label\":{\"value\":\"0\"},\"renderers\":[{\"id\":\"1551\"}]},\"id\":\"1564\",\"type\":\"LegendItem\"},{\"attributes\":{\"source\":{\"id\":\"1566\"}},\"id\":\"1573\",\"type\":\"CDSView\"},{\"attributes\":{\"bottom_units\":\"screen\",\"fill_alpha\":0.5,\"fill_color\":\"lightgrey\",\"left_units\":\"screen\",\"level\":\"overlay\",\"line_alpha\":1.0,\"line_color\":\"black\",\"line_dash\":[4,4],\"line_width\":2,\"right_units\":\"screen\",\"syncable\":false,\"top_units\":\"screen\"},\"id\":\"1531\",\"type\":\"BoxAnnotation\"},{\"attributes\":{},\"id\":\"1561\",\"type\":\"UnionRenderers\"},{\"attributes\":{\"data\":{\"Class\":[3,3,3,3,3,3,3,3,3,3,3,3,3,3,3,3,3,3,3,3,3,3,3,3,3,3,3,3,3,3,3,3,3,3,3,3,3,3,3,3,3,3,3,3,3,3,3,3,3,3,3,3,3,3,3,3,3,3,3,3,3,3,3,3,3,3,3,3,3,3,3,3,3,3,3,3,3,3,3,3,3,3,3,3,3,3,3,3,3,3,3,3,3,3,3,3,3,3,3,3,3,3,3,3,3,3,3,3,3,3,3,3,3,3,3,3,3,3,3,3,3,3,3,3,3,3,3,3,3,3,3,3,3,3,3,3,3,3,3,3,3,3,3,3,3,3,3,3,3,3,3,3,3,3,3,3,3,3,3,3,3,3,3,3,3,3,3,3,3,3,3,3,3,3,3,3,3,3,3,3,3,3,3,3,3,3,3,3,3,3,3,3,3,3,3,3,3,3,3,3,3,3,3,3,3,3,3,3,3,3,3,3,3,3,3,3,3,3,3,3,3,3,3,3,3,3,3,3,3,3,3,3,3,3,3,3,3,3,3,3,3,3,3],\"CoinName\":[\"Bitcoin\",\"Ethereum\",\"Litecoin\",\"Monero\",\"Ethereum Classic\",\"ZCash\",\"DigiByte\",\"ProsperCoin\",\"Spreadcoin\",\"Argentum\",\"MyriadCoin\",\"MoonCoin\",\"ZetaCoin\",\"SexCoin\",\"Quatloo\",\"QuarkCoin\",\"Riecoin\",\"Digitalcoin \",\"Catcoin\",\"CannaCoin\",\"CryptCoin\",\"CasinoCoin\",\"Verge\",\"DevCoin\",\"EarthCoin\",\"E-Gulden\",\"Einsteinium\",\"Emerald\",\"Franko\",\"FeatherCoin\",\"GrandCoin\",\"GlobalCoin\",\"GoldCoin\",\"Infinite Coin\",\"IXcoin\",\"KrugerCoin\",\"LuckyCoin\",\"Litebar \",\"MegaCoin\",\"MediterraneanCoin\",\"MinCoin\",\"NobleCoin\",\"Namecoin\",\"NyanCoin\",\"RonPaulCoin\",\"StableCoin\",\"SmartCoin\",\"SysCoin\",\"TigerCoin\",\"TerraCoin\",\"UnbreakableCoin\",\"Unobtanium\",\"UroCoin\",\"ViaCoin\",\"Vertcoin\",\"WorldCoin\",\"JouleCoin\",\"ByteCoin\",\"DigitalNote \",\"BurstCoin\",\"MonaCoin\",\"Gulden\",\"PesetaCoin\",\"Wild Beast Coin\",\"Flo\",\"ArtByte\",\"Folding Coin\",\"Unitus\",\"CypherPunkCoin\",\"OmniCron\",\"GreenCoin\",\"Cryptonite\",\"MasterCoin\",\"SoonCoin\",\"1Credit\",\"MarsCoin \",\"Crypto\",\"Anarchists Prime\",\"BowsCoin\",\"Song Coin\",\"BitZeny\",\"Expanse\",\"Siacoin\",\"MindCoin\",\"I0coin\",\"Revolution VR\",\"HOdlcoin\",\"Gamecredits\",\"CarpeDiemCoin\",\"Adzcoin\",\"SoilCoin\",\"YoCoin\",\"SibCoin\",\"SafeExchangeCoin\",\"Francs\",\"BolivarCoin\",\"Omni\",\"PizzaCoin\",\"Komodo\",\"Karbo\",\"ZayedCoin\",\"Circuits of Value\",\"DopeCoin\",\"DollarCoin\",\"Shilling\",\"ZCoin\",\"Elementrem\",\"ZClassic\",\"KiloCoin\",\"ArtexCoin\",\"Kurrent\",\"Cannabis Industry Coin\",\"OsmiumCoin\",\"Bikercoins\",\"HexxCoin\",\"PacCoin\",\"Citadel\",\"BeaverCoin\",\"VaultCoin\",\"Zero\",\"Canada eCoin\",\"Zoin\",\"DubaiCoin\",\"EB3coin\",\"Coinonat\",\"BenjiRolls\",\"ILCoin\",\"EquiTrader\",\"Quantum Resistant Ledger\",\"Dynamic\",\"Nano\",\"ChanCoin\",\"Dinastycoin\",\"DigitalPrice\",\"Unify\",\"SocialCoin\",\"ArcticCoin\",\"DAS\",\"LeviarCoin\",\"Bitcore\",\"gCn Coin\",\"SmartCash\",\"Onix\",\"Bitcoin Cash\",\"Sojourn Coin\",\"NewYorkCoin\",\"FrazCoin\",\"Kronecoin\",\"AdCoin\",\"Linx\",\"Sumokoin\",\"BitcoinZ\",\"Elements\",\"VIVO Coin\",\"Bitcoin Gold\",\"Pirl\",\"eBoost\",\"Pura\",\"Innova\",\"Ellaism\",\"GoByte\",\"SHIELD\",\"UltraNote\",\"BitCoal\",\"DaxxCoin\",\"AC3\",\"Lethean\",\"PopularCoin\",\"Photon\",\"Sucre\",\"SparksPay\",\"GunCoin\",\"IrishCoin\",\"Pioneer Coin\",\"UnitedBitcoin\",\"Interzone\",\"1717 Masonic Commemorative Token\",\"TurtleCoin\",\"MUNcoin\",\"Niobio Cash\",\"ShareChain\",\"Travelflex\",\"KREDS\",\"BitFlip\",\"LottoCoin\",\"Crypto Improvement Fund\",\"Callisto Network\",\"BitTube\",\"Poseidon\",\"Aidos Kuneen\",\"Bitrolium\",\"Alpenschillling\",\"FuturoCoin\",\"Monero Classic\",\"Jumpcoin\",\"Infinex\",\"KEYCO\",\"GINcoin\",\"PlatinCoin\",\"Loki\",\"Newton Coin\",\"MassGrid\",\"PluraCoin\",\"Motion\",\"PlusOneCoin\",\"Axe\",\"HexCoin\",\"Webchain\",\"Ryo\",\"Urals Coin\",\"Qwertycoin\",\"Project Pai\",\"Azart\",\"Xchange\",\"CrypticCoin\",\"Actinium\",\"Bitcoin SV\",\"FREDEnergy\",\"Universal Molecule\",\"Lithium\",\"PirateCash\",\"Exosis\",\"Block-Logic\",\"Beam\",\"Bithereum\",\"SLICE\",\"BLAST\",\"Bitcoin Rhodium\",\"GlobalToken\",\"SolarCoin\",\"UFO Coin\",\"BlakeCoin\",\"Crypto Escudo\",\"Crown Coin\",\"SmileyCoin\",\"Groestlcoin\",\"Bata\",\"Pakcoin\",\"JoinCoin\",\"Vollar\",\"Reality Clash\",\"Beldex\",\"Horizen\"],\"TotalCoinSupply\":{\"__ndarray__\":\"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\",\"dtype\":\"float64\",\"order\":\"little\",\"shape\":[243]},\"TotalCoinsMined\":{\"__ndarray__\":\"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\",\"dtype\":\"float64\",\"order\":\"little\",\"shape\":[243]}},\"selected\":{\"id\":\"1613\"},\"selection_policy\":{\"id\":\"1634\"}},\"id\":\"1612\",\"type\":\"ColumnDataSource\"},{\"attributes\":{\"fill_alpha\":{\"value\":0.1},\"fill_color\":{\"value\":\"#6d904f\"},\"line_alpha\":{\"value\":0.1},\"line_color\":{\"value\":\"#6d904f\"},\"size\":{\"value\":5.477225575051661},\"x\":{\"field\":\"TotalCoinsMined\"},\"y\":{\"field\":\"TotalCoinSupply\"}},\"id\":\"1616\",\"type\":\"Scatter\"},{\"attributes\":{\"label\":{\"value\":\"3\"},\"renderers\":[{\"id\":\"1618\"}]},\"id\":\"1636\",\"type\":\"LegendItem\"},{\"attributes\":{},\"id\":\"1634\",\"type\":\"UnionRenderers\"},{\"attributes\":{\"fill_alpha\":{\"value\":0.2},\"fill_color\":{\"value\":\"#30a2da\"},\"line_alpha\":{\"value\":0.2},\"line_color\":{\"value\":\"#30a2da\"},\"size\":{\"value\":5.477225575051661},\"x\":{\"field\":\"TotalCoinsMined\"},\"y\":{\"field\":\"TotalCoinSupply\"}},\"id\":\"1550\",\"type\":\"Scatter\"},{\"attributes\":{\"source\":{\"id\":\"1545\"}},\"id\":\"1552\",\"type\":\"CDSView\"},{\"attributes\":{},\"id\":\"1543\",\"type\":\"AllLabels\"},{\"attributes\":{\"end\":1.042857142857143,\"reset_end\":1.042857142857143,\"reset_start\":-0.04285714285714286,\"start\":-0.04285714285714286,\"tags\":[[[\"TotalCoinsMined\",\"TotalCoinsMined\",null]]]},\"id\":\"1503\",\"type\":\"Range1d\"},{\"attributes\":{\"fill_alpha\":{\"value\":0.1},\"fill_color\":{\"value\":\"#30a2da\"},\"line_alpha\":{\"value\":0.1},\"line_color\":{\"value\":\"#30a2da\"},\"size\":{\"value\":5.477225575051661},\"x\":{\"field\":\"TotalCoinsMined\"},\"y\":{\"field\":\"TotalCoinSupply\"}},\"id\":\"1549\",\"type\":\"Scatter\"},{\"attributes\":{},\"id\":\"1514\",\"type\":\"LinearScale\"},{\"attributes\":{\"angle\":{\"value\":0.0},\"fill_alpha\":{\"value\":1.0},\"fill_color\":{\"value\":\"#6d904f\"},\"hatch_alpha\":{\"value\":1.0},\"hatch_color\":{\"value\":\"black\"},\"hatch_scale\":{\"value\":12.0},\"hatch_weight\":{\"value\":1.0},\"line_alpha\":{\"value\":1.0},\"line_cap\":{\"value\":\"butt\"},\"line_color\":{\"value\":\"#6d904f\"},\"line_dash\":{\"value\":[]},\"line_dash_offset\":{\"value\":0},\"line_join\":{\"value\":\"bevel\"},\"line_width\":{\"value\":1},\"marker\":{\"value\":\"circle\"},\"size\":{\"value\":5.477225575051661},\"x\":{\"field\":\"TotalCoinsMined\"},\"y\":{\"field\":\"TotalCoinSupply\"}},\"id\":\"1637\",\"type\":\"Scatter\"},{\"attributes\":{\"fill_alpha\":{\"value\":0.2},\"fill_color\":{\"value\":\"#fc4f30\"},\"line_alpha\":{\"value\":0.2},\"line_color\":{\"value\":\"#fc4f30\"},\"size\":{\"value\":5.477225575051661},\"x\":{\"field\":\"TotalCoinsMined\"},\"y\":{\"field\":\"TotalCoinSupply\"}},\"id\":\"1571\",\"type\":\"Scatter\"},{\"attributes\":{},\"id\":\"1519\",\"type\":\"BasicTicker\"},{\"attributes\":{},\"id\":\"1589\",\"type\":\"Selection\"},{\"attributes\":{\"below\":[{\"id\":\"1518\"}],\"center\":[{\"id\":\"1521\"},{\"id\":\"1525\"}],\"height\":300,\"left\":[{\"id\":\"1522\"}],\"margin\":[5,5,5,5],\"min_border_bottom\":10,\"min_border_left\":10,\"min_border_right\":10,\"min_border_top\":10,\"renderers\":[{\"id\":\"1551\"},{\"id\":\"1572\"},{\"id\":\"1594\"},{\"id\":\"1618\"}],\"right\":[{\"id\":\"1563\"}],\"sizing_mode\":\"fixed\",\"title\":{\"id\":\"1510\"},\"toolbar\":{\"id\":\"1532\"},\"width\":700,\"x_range\":{\"id\":\"1503\"},\"x_scale\":{\"id\":\"1514\"},\"y_range\":{\"id\":\"1504\"},\"y_scale\":{\"id\":\"1516\"}},\"id\":\"1509\",\"subtype\":\"Figure\",\"type\":\"Plot\"},{\"attributes\":{},\"id\":\"1540\",\"type\":\"AllLabels\"},{\"attributes\":{\"margin\":[5,5,5,5],\"name\":\"HSpacer02725\",\"sizing_mode\":\"stretch_width\"},\"id\":\"1782\",\"type\":\"Spacer\"},{\"attributes\":{\"active_multi\":null,\"tools\":[{\"id\":\"1505\"},{\"id\":\"1526\"},{\"id\":\"1527\"},{\"id\":\"1528\"},{\"id\":\"1529\"},{\"id\":\"1530\"}]},\"id\":\"1532\",\"type\":\"Toolbar\"},{\"attributes\":{\"axis\":{\"id\":\"1518\"},\"grid_line_color\":null,\"ticker\":null},\"id\":\"1521\",\"type\":\"Grid\"},{\"attributes\":{\"axis\":{\"id\":\"1522\"},\"dimension\":1,\"grid_line_color\":null,\"ticker\":null},\"id\":\"1525\",\"type\":\"Grid\"},{\"attributes\":{\"data_source\":{\"id\":\"1566\"},\"glyph\":{\"id\":\"1569\"},\"hover_glyph\":null,\"muted_glyph\":{\"id\":\"1571\"},\"nonselection_glyph\":{\"id\":\"1570\"},\"selection_glyph\":{\"id\":\"1587\"},\"view\":{\"id\":\"1573\"}},\"id\":\"1572\",\"type\":\"GlyphRenderer\"},{\"attributes\":{\"text_color\":\"black\",\"text_font_size\":\"12pt\"},\"id\":\"1510\",\"type\":\"Title\"},{\"attributes\":{},\"id\":\"1516\",\"type\":\"LinearScale\"},{\"attributes\":{\"label\":{\"value\":\"1\"},\"renderers\":[{\"id\":\"1572\"}]},\"id\":\"1586\",\"type\":\"LegendItem\"},{\"attributes\":{},\"id\":\"1523\",\"type\":\"BasicTicker\"},{\"attributes\":{},\"id\":\"1584\",\"type\":\"UnionRenderers\"},{\"attributes\":{\"axis_label\":\"TotalCoinSupply\",\"formatter\":{\"id\":\"1544\"},\"major_label_policy\":{\"id\":\"1543\"},\"ticker\":{\"id\":\"1523\"}},\"id\":\"1522\",\"type\":\"LinearAxis\"},{\"attributes\":{\"angle\":{\"value\":0.0},\"fill_alpha\":{\"value\":1.0},\"fill_color\":{\"value\":\"#fc4f30\"},\"hatch_alpha\":{\"value\":1.0},\"hatch_color\":{\"value\":\"black\"},\"hatch_scale\":{\"value\":12.0},\"hatch_weight\":{\"value\":1.0},\"line_alpha\":{\"value\":1.0},\"line_cap\":{\"value\":\"butt\"},\"line_color\":{\"value\":\"#fc4f30\"},\"line_dash\":{\"value\":[]},\"line_dash_offset\":{\"value\":0},\"line_join\":{\"value\":\"bevel\"},\"line_width\":{\"value\":1},\"marker\":{\"value\":\"circle\"},\"size\":{\"value\":5.477225575051661},\"x\":{\"field\":\"TotalCoinsMined\"},\"y\":{\"field\":\"TotalCoinSupply\"}},\"id\":\"1587\",\"type\":\"Scatter\"},{\"attributes\":{\"data\":{\"Class\":[2],\"CoinName\":[\"BitTorrent\"],\"TotalCoinSupply\":{\"__ndarray__\":\"rkfhehSu7z8=\",\"dtype\":\"float64\",\"order\":\"little\",\"shape\":[1]},\"TotalCoinsMined\":{\"__ndarray__\":\"AAAAAAAA8D8=\",\"dtype\":\"float64\",\"order\":\"little\",\"shape\":[1]}},\"selected\":{\"id\":\"1589\"},\"selection_policy\":{\"id\":\"1608\"}},\"id\":\"1588\",\"type\":\"ColumnDataSource\"}],\"root_ids\":[\"1501\"]},\"title\":\"Bokeh Application\",\"version\":\"2.3.2\"}};\n",
       "    var render_items = [{\"docid\":\"da057165-e42c-4fe7-bc50-9f0619cb4508\",\"root_ids\":[\"1501\"],\"roots\":{\"1501\":\"1317a6a2-2bb7-4208-af57-a36e96bf9ecd\"}}];\n",
       "    root.Bokeh.embed.embed_items_notebook(docs_json, render_items);\n",
       "  }\n",
       "  if (root.Bokeh !== undefined && root.Bokeh.Panel !== undefined) {\n",
       "    embed_document(root);\n",
       "  } else {\n",
       "    var attempts = 0;\n",
       "    var timer = setInterval(function(root) {\n",
       "      if (root.Bokeh !== undefined && root.Bokeh.Panel !== undefined) {\n",
       "        clearInterval(timer);\n",
       "        embed_document(root);\n",
       "      } else if (document.readyState == \"complete\") {\n",
       "        attempts++;\n",
       "        if (attempts > 200) {\n",
       "          clearInterval(timer);\n",
       "          console.log(\"Bokeh: ERROR: Unable to run BokehJS code because BokehJS library is missing\");\n",
       "        }\n",
       "      }\n",
       "    }, 25, root)\n",
       "  }\n",
       "})(window);</script>"
      ],
      "text/plain": [
       ":NdOverlay   [Class]\n",
       "   :Scatter   [TotalCoinsMined]   (TotalCoinSupply,CoinName)"
      ]
     },
     "execution_count": 53,
     "metadata": {
      "application/vnd.holoviews_exec.v0+json": {
       "id": "1501"
      }
     },
     "output_type": "execute_result"
    }
   ],
   "source": [
    "# Create a hvplot.scatter plot using x=\"TotalCoinsMined\" and y=\"TotalCoinSupply\".\n",
    "plot_df.hvplot.scatter(x=\"TotalCoinsMined\", y=\"TotalCoinSupply\", by=\"Class\",hover_cols = [\"CoinName\"])\n",
    "\n"
   ]
  }
 ],
 "metadata": {
  "file_extension": ".py",
  "kernelspec": {
   "display_name": "Python [conda env:pyvizenv] *",
   "language": "python",
   "name": "conda-env-pyvizenv-py"
  },
  "language_info": {
   "codemirror_mode": {
    "name": "ipython",
    "version": 3
   },
   "file_extension": ".py",
   "mimetype": "text/x-python",
   "name": "python",
   "nbconvert_exporter": "python",
   "pygments_lexer": "ipython3",
   "version": "3.7.10"
  },
  "mimetype": "text/x-python",
  "name": "python",
  "npconvert_exporter": "python",
  "pygments_lexer": "ipython3",
  "version": 3
 },
 "nbformat": 4,
 "nbformat_minor": 4
}
